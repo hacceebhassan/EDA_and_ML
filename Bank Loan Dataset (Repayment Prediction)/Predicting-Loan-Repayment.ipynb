{
 "cells": [
  {
   "cell_type": "code",
   "execution_count": null,
   "metadata": {},
   "outputs": [],
   "source": [
    "#!/usr/bin/env python\n",
    "# -*- coding: utf-8 -*-\n",
    "'''\n",
    "   Loan Repayment Prediction\n",
    "'''\n",
    "\n",
    "# Ownership\n",
    "__author__ = [\"M. Haseeb Hassan\"]\n",
    "__copyright__ = [\"Copyrights @ hacceebhassan\"]\n",
    "__license__ = \"MIT\"\n",
    "__version__ = \"1.0.1\"\n",
    "__maintainer__ = \"M. Haseeb Hassan\"\n",
    "__email__ = \"hacceebhassan@gmail.com\"\n",
    "__status__ = \"Development\""
   ]
  },
  {
   "cell_type": "markdown",
   "metadata": {},
   "source": [
    "<h1 style=\"font-family: Georgia; font-size:3em;color:#2462C0; font-style:bold\">\n",
    "Predicting Loan Repayment</h1><br>"
   ]
  },
  {
   "cell_type": "markdown",
   "metadata": {},
   "source": [
    "Let's load the data and check:\n",
    "- Data types of each feature\n",
    "- If we have missing values\n",
    "- If we have imbalanced data"
   ]
  },
  {
   "cell_type": "code",
   "execution_count": 1,
   "metadata": {},
   "outputs": [
    {
     "name": "stderr",
     "output_type": "stream",
     "text": [
      "/anaconda3/lib/python3.6/site-packages/h5py/__init__.py:34: FutureWarning: Conversion of the second argument of issubdtype from `float` to `np.floating` is deprecated. In future, it will be treated as `np.float64 == np.dtype(float).type`.\n",
      "  from ._conv import register_converters as _register_converters\n",
      "Using TensorFlow backend.\n",
      "[MLENS] backend: threading\n"
     ]
    }
   ],
   "source": [
    "import os\n",
    "\n",
    "import matplotlib.pyplot as plt\n",
    "import numpy as np\n",
    "import pandas as pd\n",
    "import seaborn as sns\n",
    "import fancyimpute\n",
    "from imblearn.pipeline import make_pipeline as imb_make_pipeline\n",
    "from imblearn.over_sampling import RandomOverSampler, SMOTE\n",
    "from imblearn.under_sampling import RandomUnderSampler\n",
    "from imblearn.ensemble import BalancedBaggingClassifier, EasyEnsemble\n",
    "from mlens.visualization import corrmat\n",
    "from sklearn.model_selection import train_test_split, cross_val_score, cross_val_predict\n",
    "from sklearn.preprocessing import Imputer, RobustScaler, FunctionTransformer\n",
    "from sklearn.ensemble import RandomForestClassifier, VotingClassifier, GradientBoostingClassifier\n",
    "from sklearn.ensemble.partial_dependence import plot_partial_dependence\n",
    "from sklearn.linear_model import LogisticRegression\n",
    "from sklearn.svm import SVC, LinearSVC\n",
    "from sklearn.neighbors import KNeighborsClassifier\n",
    "from sklearn.metrics import (roc_auc_score, confusion_matrix,\n",
    "                             accuracy_score, roc_curve,\n",
    "                             precision_recall_curve, f1_score)\n",
    "from sklearn.pipeline import make_pipeline\n",
    "import xgboost as xgb\n",
    "from keras import models, layers, optimizers\n",
    "\n",
    "os.chdir(\"../\")\n",
    "from scripts.plot_roc import plot_roc_and_pr_curves\n",
    "os.chdir(\"notebooks/\")\n",
    "\n",
    "%matplotlib inline\n",
    "plt.style.use(\"fivethirtyeight\")\n",
    "sns.set_context(\"notebook\")"
   ]
  },
  {
   "cell_type": "code",
   "execution_count": 2,
   "metadata": {
    "code_folding": [
     0
    ]
   },
   "outputs": [
    {
     "name": "stdout",
     "output_type": "stream",
     "text": [
      "\u001b[1m\u001b[94mData types:\n",
      "-----------\n",
      "\u001b[30mcredit_policy          int64\n",
      "purpose               object\n",
      "int_rate             float64\n",
      "installment          float64\n",
      "log_annual_inc       float64\n",
      "dti                  float64\n",
      "fico                   int64\n",
      "days_with_cr_line    float64\n",
      "revol_bal              int64\n",
      "revol_util           float64\n",
      "inq_last_6mths       float64\n",
      "delinq_2yrs          float64\n",
      "pub_rec              float64\n",
      "not_fully_paid         int64\n",
      "dtype: object\n",
      "\n",
      "\u001b[1m\u001b[94mSum of null values in each feature:\n",
      "-----------------------------------\n",
      "\u001b[30mcredit_policy         0\n",
      "purpose               0\n",
      "int_rate              0\n",
      "installment           0\n",
      "log_annual_inc        4\n",
      "dti                   0\n",
      "fico                  0\n",
      "days_with_cr_line    29\n",
      "revol_bal             0\n",
      "revol_util           62\n",
      "inq_last_6mths       29\n",
      "delinq_2yrs          29\n",
      "pub_rec              29\n",
      "not_fully_paid        0\n",
      "dtype: int64\n"
     ]
    },
    {
     "data": {
      "text/html": [
       "<div>\n",
       "<style>\n",
       "    .dataframe thead tr:only-child th {\n",
       "        text-align: right;\n",
       "    }\n",
       "\n",
       "    .dataframe thead th {\n",
       "        text-align: left;\n",
       "    }\n",
       "\n",
       "    .dataframe tbody tr th {\n",
       "        vertical-align: top;\n",
       "    }\n",
       "</style>\n",
       "<table border=\"1\" class=\"dataframe\">\n",
       "  <thead>\n",
       "    <tr style=\"text-align: right;\">\n",
       "      <th></th>\n",
       "      <th>credit_policy</th>\n",
       "      <th>purpose</th>\n",
       "      <th>int_rate</th>\n",
       "      <th>installment</th>\n",
       "      <th>log_annual_inc</th>\n",
       "      <th>dti</th>\n",
       "      <th>fico</th>\n",
       "      <th>days_with_cr_line</th>\n",
       "      <th>revol_bal</th>\n",
       "      <th>revol_util</th>\n",
       "      <th>inq_last_6mths</th>\n",
       "      <th>delinq_2yrs</th>\n",
       "      <th>pub_rec</th>\n",
       "      <th>not_fully_paid</th>\n",
       "    </tr>\n",
       "  </thead>\n",
       "  <tbody>\n",
       "    <tr>\n",
       "      <th>0</th>\n",
       "      <td>1</td>\n",
       "      <td>debt_consolidation</td>\n",
       "      <td>0.1189</td>\n",
       "      <td>829.10</td>\n",
       "      <td>11.350407</td>\n",
       "      <td>19.48</td>\n",
       "      <td>737</td>\n",
       "      <td>5639.958333</td>\n",
       "      <td>28854</td>\n",
       "      <td>52.1</td>\n",
       "      <td>0.0</td>\n",
       "      <td>0.0</td>\n",
       "      <td>0.0</td>\n",
       "      <td>0</td>\n",
       "    </tr>\n",
       "    <tr>\n",
       "      <th>1</th>\n",
       "      <td>1</td>\n",
       "      <td>credit_card</td>\n",
       "      <td>0.1071</td>\n",
       "      <td>228.22</td>\n",
       "      <td>11.082143</td>\n",
       "      <td>14.29</td>\n",
       "      <td>707</td>\n",
       "      <td>2760.000000</td>\n",
       "      <td>33623</td>\n",
       "      <td>76.7</td>\n",
       "      <td>0.0</td>\n",
       "      <td>0.0</td>\n",
       "      <td>0.0</td>\n",
       "      <td>0</td>\n",
       "    </tr>\n",
       "    <tr>\n",
       "      <th>2</th>\n",
       "      <td>1</td>\n",
       "      <td>debt_consolidation</td>\n",
       "      <td>0.1357</td>\n",
       "      <td>366.86</td>\n",
       "      <td>10.373491</td>\n",
       "      <td>11.63</td>\n",
       "      <td>682</td>\n",
       "      <td>4710.000000</td>\n",
       "      <td>3511</td>\n",
       "      <td>25.6</td>\n",
       "      <td>1.0</td>\n",
       "      <td>0.0</td>\n",
       "      <td>0.0</td>\n",
       "      <td>0</td>\n",
       "    </tr>\n",
       "    <tr>\n",
       "      <th>3</th>\n",
       "      <td>1</td>\n",
       "      <td>debt_consolidation</td>\n",
       "      <td>0.1008</td>\n",
       "      <td>162.34</td>\n",
       "      <td>11.350407</td>\n",
       "      <td>8.10</td>\n",
       "      <td>712</td>\n",
       "      <td>2699.958333</td>\n",
       "      <td>33667</td>\n",
       "      <td>73.2</td>\n",
       "      <td>1.0</td>\n",
       "      <td>0.0</td>\n",
       "      <td>0.0</td>\n",
       "      <td>0</td>\n",
       "    </tr>\n",
       "    <tr>\n",
       "      <th>4</th>\n",
       "      <td>1</td>\n",
       "      <td>credit_card</td>\n",
       "      <td>0.1426</td>\n",
       "      <td>102.92</td>\n",
       "      <td>11.299732</td>\n",
       "      <td>14.97</td>\n",
       "      <td>667</td>\n",
       "      <td>4066.000000</td>\n",
       "      <td>4740</td>\n",
       "      <td>39.5</td>\n",
       "      <td>0.0</td>\n",
       "      <td>1.0</td>\n",
       "      <td>0.0</td>\n",
       "      <td>0</td>\n",
       "    </tr>\n",
       "  </tbody>\n",
       "</table>\n",
       "</div>"
      ],
      "text/plain": [
       "   credit_policy             purpose  int_rate  installment  log_annual_inc  \\\n",
       "0              1  debt_consolidation    0.1189       829.10       11.350407   \n",
       "1              1         credit_card    0.1071       228.22       11.082143   \n",
       "2              1  debt_consolidation    0.1357       366.86       10.373491   \n",
       "3              1  debt_consolidation    0.1008       162.34       11.350407   \n",
       "4              1         credit_card    0.1426       102.92       11.299732   \n",
       "\n",
       "     dti  fico  days_with_cr_line  revol_bal  revol_util  inq_last_6mths  \\\n",
       "0  19.48   737        5639.958333      28854        52.1             0.0   \n",
       "1  14.29   707        2760.000000      33623        76.7             0.0   \n",
       "2  11.63   682        4710.000000       3511        25.6             1.0   \n",
       "3   8.10   712        2699.958333      33667        73.2             1.0   \n",
       "4  14.97   667        4066.000000       4740        39.5             0.0   \n",
       "\n",
       "   delinq_2yrs  pub_rec  not_fully_paid  \n",
       "0          0.0      0.0               0  \n",
       "1          0.0      0.0               0  \n",
       "2          0.0      0.0               0  \n",
       "3          0.0      0.0               0  \n",
       "4          1.0      0.0               0  "
      ]
     },
     "execution_count": 2,
     "metadata": {},
     "output_type": "execute_result"
    }
   ],
   "source": [
    "# Load the data\n",
    "df = pd.read_csv(\"data/loans.csv\")\n",
    "\n",
    "# Check both the datatypes and if there is missing values\n",
    "print(f\"\\033[1m\\033[94mData types:\\n{11 * '-'}\")\n",
    "print(f\"\\033[30m{df.dtypes}\\n\")\n",
    "print(f\"\\033[1m\\033[94mSum of null values in each feature:\\n{35 * '-'}\")\n",
    "print(f\"\\033[30m{df.isnull().sum()}\")\n",
    "df.head()"
   ]
  },
  {
   "cell_type": "code",
   "execution_count": 3,
   "metadata": {
    "code_folding": [
     0
    ]
   },
   "outputs": [
    {
     "name": "stdout",
     "output_type": "stream",
     "text": [
      "Positive examples = 1533\n",
      "Negative examples = 8045\n",
      "Proportion of positive to negative examples = 19.06%\n"
     ]
    },
    {
     "data": {
      "image/png": "[encoded data removed]",
      "text/plain": [
       "<matplotlib.figure.Figure at 0x1256efe48>"
      ]
     },
     "metadata": {},
     "output_type": "display_data"
    }
   ],
   "source": [
    "# Get number of positve and negative examples\n",
    "pos = df[df[\"not_fully_paid\"] == 1].shape[0]\n",
    "neg = df[df[\"not_fully_paid\"] == 0].shape[0]\n",
    "print(f\"Positive examples = {pos}\")\n",
    "print(f\"Negative examples = {neg}\")\n",
    "print(f\"Proportion of positive to negative examples = {(pos / neg) * 100:.2f}%\")\n",
    "plt.figure(figsize=(8, 6))\n",
    "sns.countplot(df[\"not_fully_paid\"])\n",
    "plt.xticks((0, 1), [\"Paid fully\", \"Not paid fully\"])\n",
    "plt.xlabel(\"\")\n",
    "plt.ylabel(\"Count\")\n",
    "plt.title(\"Class counts\", y=1, fontdict={\"fontsize\": 20});"
   ]
  },
  {
   "cell_type": "markdown",
   "metadata": {},
   "source": [
    "It looks like we have only one categorical feature (\"purpose\"). Also, six features have missing values (no missing values in labels). Moreover, the data set is pretty imbalanced as expected where positive examples (\"not paid fully\") are only 19%. We'll explain in the next section how to handle all of them after giving an overview of ensemble methods."
   ]
  },
  {
   "cell_type": "code",
   "execution_count": 4,
   "metadata": {
    "code_folding": []
   },
   "outputs": [
    {
     "data": {
      "text/html": [
       "<div>\n",
       "<style>\n",
       "    .dataframe thead tr:only-child th {\n",
       "        text-align: right;\n",
       "    }\n",
       "\n",
       "    .dataframe thead th {\n",
       "        text-align: left;\n",
       "    }\n",
       "\n",
       "    .dataframe tbody tr th {\n",
       "        vertical-align: top;\n",
       "    }\n",
       "</style>\n",
       "<table border=\"1\" class=\"dataframe\">\n",
       "  <thead>\n",
       "    <tr style=\"text-align: right;\">\n",
       "      <th></th>\n",
       "      <th>credit_policy</th>\n",
       "      <th>int_rate</th>\n",
       "      <th>installment</th>\n",
       "      <th>log_annual_inc</th>\n",
       "      <th>dti</th>\n",
       "      <th>fico</th>\n",
       "      <th>days_with_cr_line</th>\n",
       "      <th>revol_bal</th>\n",
       "      <th>revol_util</th>\n",
       "      <th>inq_last_6mths</th>\n",
       "      <th>delinq_2yrs</th>\n",
       "      <th>pub_rec</th>\n",
       "      <th>not_fully_paid</th>\n",
       "      <th>purpose_credit_card</th>\n",
       "      <th>purpose_debt_consolidation</th>\n",
       "      <th>purpose_educational</th>\n",
       "      <th>purpose_home_improvement</th>\n",
       "      <th>purpose_major_purchase</th>\n",
       "      <th>purpose_small_business</th>\n",
       "    </tr>\n",
       "  </thead>\n",
       "  <tbody>\n",
       "    <tr>\n",
       "      <th>0</th>\n",
       "      <td>1</td>\n",
       "      <td>0.1189</td>\n",
       "      <td>829.10</td>\n",
       "      <td>11.350407</td>\n",
       "      <td>19.48</td>\n",
       "      <td>737</td>\n",
       "      <td>5639.958333</td>\n",
       "      <td>28854</td>\n",
       "      <td>52.1</td>\n",
       "      <td>0.0</td>\n",
       "      <td>0.0</td>\n",
       "      <td>0.0</td>\n",
       "      <td>0</td>\n",
       "      <td>0</td>\n",
       "      <td>1</td>\n",
       "      <td>0</td>\n",
       "      <td>0</td>\n",
       "      <td>0</td>\n",
       "      <td>0</td>\n",
       "    </tr>\n",
       "    <tr>\n",
       "      <th>1</th>\n",
       "      <td>1</td>\n",
       "      <td>0.1071</td>\n",
       "      <td>228.22</td>\n",
       "      <td>11.082143</td>\n",
       "      <td>14.29</td>\n",
       "      <td>707</td>\n",
       "      <td>2760.000000</td>\n",
       "      <td>33623</td>\n",
       "      <td>76.7</td>\n",
       "      <td>0.0</td>\n",
       "      <td>0.0</td>\n",
       "      <td>0.0</td>\n",
       "      <td>0</td>\n",
       "      <td>1</td>\n",
       "      <td>0</td>\n",
       "      <td>0</td>\n",
       "      <td>0</td>\n",
       "      <td>0</td>\n",
       "      <td>0</td>\n",
       "    </tr>\n",
       "    <tr>\n",
       "      <th>2</th>\n",
       "      <td>1</td>\n",
       "      <td>0.1357</td>\n",
       "      <td>366.86</td>\n",
       "      <td>10.373491</td>\n",
       "      <td>11.63</td>\n",
       "      <td>682</td>\n",
       "      <td>4710.000000</td>\n",
       "      <td>3511</td>\n",
       "      <td>25.6</td>\n",
       "      <td>1.0</td>\n",
       "      <td>0.0</td>\n",
       "      <td>0.0</td>\n",
       "      <td>0</td>\n",
       "      <td>0</td>\n",
       "      <td>1</td>\n",
       "      <td>0</td>\n",
       "      <td>0</td>\n",
       "      <td>0</td>\n",
       "      <td>0</td>\n",
       "    </tr>\n",
       "    <tr>\n",
       "      <th>3</th>\n",
       "      <td>1</td>\n",
       "      <td>0.1008</td>\n",
       "      <td>162.34</td>\n",
       "      <td>11.350407</td>\n",
       "      <td>8.10</td>\n",
       "      <td>712</td>\n",
       "      <td>2699.958333</td>\n",
       "      <td>33667</td>\n",
       "      <td>73.2</td>\n",
       "      <td>1.0</td>\n",
       "      <td>0.0</td>\n",
       "      <td>0.0</td>\n",
       "      <td>0</td>\n",
       "      <td>0</td>\n",
       "      <td>1</td>\n",
       "      <td>0</td>\n",
       "      <td>0</td>\n",
       "      <td>0</td>\n",
       "      <td>0</td>\n",
       "    </tr>\n",
       "    <tr>\n",
       "      <th>4</th>\n",
       "      <td>1</td>\n",
       "      <td>0.1426</td>\n",
       "      <td>102.92</td>\n",
       "      <td>11.299732</td>\n",
       "      <td>14.97</td>\n",
       "      <td>667</td>\n",
       "      <td>4066.000000</td>\n",
       "      <td>4740</td>\n",
       "      <td>39.5</td>\n",
       "      <td>0.0</td>\n",
       "      <td>1.0</td>\n",
       "      <td>0.0</td>\n",
       "      <td>0</td>\n",
       "      <td>1</td>\n",
       "      <td>0</td>\n",
       "      <td>0</td>\n",
       "      <td>0</td>\n",
       "      <td>0</td>\n",
       "      <td>0</td>\n",
       "    </tr>\n",
       "  </tbody>\n",
       "</table>\n",
       "</div>"
      ],
      "text/plain": [
       "   credit_policy  int_rate  installment  log_annual_inc    dti  fico  \\\n",
       "0              1    0.1189       829.10       11.350407  19.48   737   \n",
       "1              1    0.1071       228.22       11.082143  14.29   707   \n",
       "2              1    0.1357       366.86       10.373491  11.63   682   \n",
       "3              1    0.1008       162.34       11.350407   8.10   712   \n",
       "4              1    0.1426       102.92       11.299732  14.97   667   \n",
       "\n",
       "   days_with_cr_line  revol_bal  revol_util  inq_last_6mths  delinq_2yrs  \\\n",
       "0        5639.958333      28854        52.1             0.0          0.0   \n",
       "1        2760.000000      33623        76.7             0.0          0.0   \n",
       "2        4710.000000       3511        25.6             1.0          0.0   \n",
       "3        2699.958333      33667        73.2             1.0          0.0   \n",
       "4        4066.000000       4740        39.5             0.0          1.0   \n",
       "\n",
       "   pub_rec  not_fully_paid  purpose_credit_card  purpose_debt_consolidation  \\\n",
       "0      0.0               0                    0                           1   \n",
       "1      0.0               0                    1                           0   \n",
       "2      0.0               0                    0                           1   \n",
       "3      0.0               0                    0                           1   \n",
       "4      0.0               0                    1                           0   \n",
       "\n",
       "   purpose_educational  purpose_home_improvement  purpose_major_purchase  \\\n",
       "0                    0                         0                       0   \n",
       "1                    0                         0                       0   \n",
       "2                    0                         0                       0   \n",
       "3                    0                         0                       0   \n",
       "4                    0                         0                       0   \n",
       "\n",
       "   purpose_small_business  \n",
       "0                       0  \n",
       "1                       0  \n",
       "2                       0  \n",
       "3                       0  \n",
       "4                       0  "
      ]
     },
     "execution_count": 4,
     "metadata": {},
     "output_type": "execute_result"
    }
   ],
   "source": [
    "# Create dummy variables from the feature purpose\n",
    "df = pd.get_dummies(df, columns=[\"purpose\"], drop_first=True)\n",
    "df.head()"
   ]
  },
  {
   "cell_type": "code",
   "execution_count": 5,
   "metadata": {},
   "outputs": [
    {
     "data": {
      "text/html": [
       "<div>\n",
       "<style>\n",
       "    .dataframe thead tr:only-child th {\n",
       "        text-align: right;\n",
       "    }\n",
       "\n",
       "    .dataframe thead th {\n",
       "        text-align: left;\n",
       "    }\n",
       "\n",
       "    .dataframe tbody tr th {\n",
       "        vertical-align: top;\n",
       "    }\n",
       "</style>\n",
       "<table border=\"1\" class=\"dataframe\">\n",
       "  <thead>\n",
       "    <tr style=\"text-align: right;\">\n",
       "      <th></th>\n",
       "      <th>credit_policy</th>\n",
       "      <th>int_rate</th>\n",
       "      <th>installment</th>\n",
       "      <th>log_annual_inc</th>\n",
       "      <th>dti</th>\n",
       "      <th>fico</th>\n",
       "      <th>days_with_cr_line</th>\n",
       "      <th>revol_bal</th>\n",
       "      <th>revol_util</th>\n",
       "      <th>inq_last_6mths</th>\n",
       "      <th>...</th>\n",
       "      <th>purpose_educational</th>\n",
       "      <th>purpose_home_improvement</th>\n",
       "      <th>purpose_major_purchase</th>\n",
       "      <th>purpose_small_business</th>\n",
       "      <th>is_log_annual_inc_missing</th>\n",
       "      <th>is_days_with_cr_line_missing</th>\n",
       "      <th>is_revol_util_missing</th>\n",
       "      <th>is_inq_last_6mths_missing</th>\n",
       "      <th>is_delinq_2yrs_missing</th>\n",
       "      <th>is_pub_rec_missing</th>\n",
       "    </tr>\n",
       "  </thead>\n",
       "  <tbody>\n",
       "    <tr>\n",
       "      <th>0</th>\n",
       "      <td>1</td>\n",
       "      <td>0.1189</td>\n",
       "      <td>829.10</td>\n",
       "      <td>11.350407</td>\n",
       "      <td>19.48</td>\n",
       "      <td>737</td>\n",
       "      <td>5639.958333</td>\n",
       "      <td>28854</td>\n",
       "      <td>52.1</td>\n",
       "      <td>0.0</td>\n",
       "      <td>...</td>\n",
       "      <td>0</td>\n",
       "      <td>0</td>\n",
       "      <td>0</td>\n",
       "      <td>0</td>\n",
       "      <td>0</td>\n",
       "      <td>0</td>\n",
       "      <td>0</td>\n",
       "      <td>0</td>\n",
       "      <td>0</td>\n",
       "      <td>0</td>\n",
       "    </tr>\n",
       "    <tr>\n",
       "      <th>1</th>\n",
       "      <td>1</td>\n",
       "      <td>0.1071</td>\n",
       "      <td>228.22</td>\n",
       "      <td>11.082143</td>\n",
       "      <td>14.29</td>\n",
       "      <td>707</td>\n",
       "      <td>2760.000000</td>\n",
       "      <td>33623</td>\n",
       "      <td>76.7</td>\n",
       "      <td>0.0</td>\n",
       "      <td>...</td>\n",
       "      <td>0</td>\n",
       "      <td>0</td>\n",
       "      <td>0</td>\n",
       "      <td>0</td>\n",
       "      <td>0</td>\n",
       "      <td>0</td>\n",
       "      <td>0</td>\n",
       "      <td>0</td>\n",
       "      <td>0</td>\n",
       "      <td>0</td>\n",
       "    </tr>\n",
       "    <tr>\n",
       "      <th>2</th>\n",
       "      <td>1</td>\n",
       "      <td>0.1357</td>\n",
       "      <td>366.86</td>\n",
       "      <td>10.373491</td>\n",
       "      <td>11.63</td>\n",
       "      <td>682</td>\n",
       "      <td>4710.000000</td>\n",
       "      <td>3511</td>\n",
       "      <td>25.6</td>\n",
       "      <td>1.0</td>\n",
       "      <td>...</td>\n",
       "      <td>0</td>\n",
       "      <td>0</td>\n",
       "      <td>0</td>\n",
       "      <td>0</td>\n",
       "      <td>0</td>\n",
       "      <td>0</td>\n",
       "      <td>0</td>\n",
       "      <td>0</td>\n",
       "      <td>0</td>\n",
       "      <td>0</td>\n",
       "    </tr>\n",
       "    <tr>\n",
       "      <th>3</th>\n",
       "      <td>1</td>\n",
       "      <td>0.1008</td>\n",
       "      <td>162.34</td>\n",
       "      <td>11.350407</td>\n",
       "      <td>8.10</td>\n",
       "      <td>712</td>\n",
       "      <td>2699.958333</td>\n",
       "      <td>33667</td>\n",
       "      <td>73.2</td>\n",
       "      <td>1.0</td>\n",
       "      <td>...</td>\n",
       "      <td>0</td>\n",
       "      <td>0</td>\n",
       "      <td>0</td>\n",
       "      <td>0</td>\n",
       "      <td>0</td>\n",
       "      <td>0</td>\n",
       "      <td>0</td>\n",
       "      <td>0</td>\n",
       "      <td>0</td>\n",
       "      <td>0</td>\n",
       "    </tr>\n",
       "    <tr>\n",
       "      <th>4</th>\n",
       "      <td>1</td>\n",
       "      <td>0.1426</td>\n",
       "      <td>102.92</td>\n",
       "      <td>11.299732</td>\n",
       "      <td>14.97</td>\n",
       "      <td>667</td>\n",
       "      <td>4066.000000</td>\n",
       "      <td>4740</td>\n",
       "      <td>39.5</td>\n",
       "      <td>0.0</td>\n",
       "      <td>...</td>\n",
       "      <td>0</td>\n",
       "      <td>0</td>\n",
       "      <td>0</td>\n",
       "      <td>0</td>\n",
       "      <td>0</td>\n",
       "      <td>0</td>\n",
       "      <td>0</td>\n",
       "      <td>0</td>\n",
       "      <td>0</td>\n",
       "      <td>0</td>\n",
       "    </tr>\n",
       "  </tbody>\n",
       "</table>\n",
       "<p>5 rows × 25 columns</p>\n",
       "</div>"
      ],
      "text/plain": [
       "   credit_policy  int_rate  installment  log_annual_inc    dti  fico  \\\n",
       "0              1    0.1189       829.10       11.350407  19.48   737   \n",
       "1              1    0.1071       228.22       11.082143  14.29   707   \n",
       "2              1    0.1357       366.86       10.373491  11.63   682   \n",
       "3              1    0.1008       162.34       11.350407   8.10   712   \n",
       "4              1    0.1426       102.92       11.299732  14.97   667   \n",
       "\n",
       "   days_with_cr_line  revol_bal  revol_util  inq_last_6mths  \\\n",
       "0        5639.958333      28854        52.1             0.0   \n",
       "1        2760.000000      33623        76.7             0.0   \n",
       "2        4710.000000       3511        25.6             1.0   \n",
       "3        2699.958333      33667        73.2             1.0   \n",
       "4        4066.000000       4740        39.5             0.0   \n",
       "\n",
       "          ...          purpose_educational  purpose_home_improvement  \\\n",
       "0         ...                            0                         0   \n",
       "1         ...                            0                         0   \n",
       "2         ...                            0                         0   \n",
       "3         ...                            0                         0   \n",
       "4         ...                            0                         0   \n",
       "\n",
       "   purpose_major_purchase  purpose_small_business  is_log_annual_inc_missing  \\\n",
       "0                       0                       0                          0   \n",
       "1                       0                       0                          0   \n",
       "2                       0                       0                          0   \n",
       "3                       0                       0                          0   \n",
       "4                       0                       0                          0   \n",
       "\n",
       "   is_days_with_cr_line_missing  is_revol_util_missing  \\\n",
       "0                             0                      0   \n",
       "1                             0                      0   \n",
       "2                             0                      0   \n",
       "3                             0                      0   \n",
       "4                             0                      0   \n",
       "\n",
       "   is_inq_last_6mths_missing  is_delinq_2yrs_missing  is_pub_rec_missing  \n",
       "0                          0                       0                   0  \n",
       "1                          0                       0                   0  \n",
       "2                          0                       0                   0  \n",
       "3                          0                       0                   0  \n",
       "4                          0                       0                   0  \n",
       "\n",
       "[5 rows x 25 columns]"
      ]
     },
     "execution_count": 5,
     "metadata": {},
     "output_type": "execute_result"
    }
   ],
   "source": [
    "# Create binary features to check if the example is has missing values for all features that have missing values\n",
    "for feature in df.columns:\n",
    "    if np.any(np.isnan(df[feature])):\n",
    "        df[\"is_\" + feature + \"_missing\"] = np.isnan(df[feature]) * 1\n",
    "\n",
    "df.head()"
   ]
  },
  {
   "cell_type": "code",
   "execution_count": 6,
   "metadata": {
    "code_folding": []
   },
   "outputs": [
    {
     "name": "stdout",
     "output_type": "stream",
     "text": [
      "Original data shapes: ((7662, 24), (1916, 24))\n",
      "After dropping NAs: ((7611, 18), (1905, 18))\n",
      "MICE data shapes: ((7662, 24), (1916, 24))\n"
     ]
    }
   ],
   "source": [
    "# Original Data\n",
    "X = df.loc[:, df.columns != \"not_fully_paid\"].values\n",
    "y = df.loc[:, df.columns == \"not_fully_paid\"].values.flatten()\n",
    "X_train, X_test, y_train, y_test = train_test_split(\n",
    "    X, y, test_size=0.2, shuffle=True, random_state=123, stratify=y)\n",
    "print(f\"Original data shapes: {X_train.shape, X_test.shape}\")\n",
    "\n",
    "# Drop NA and remove binary columns\n",
    "train_indices_na = np.max(np.isnan(X_train), axis=1)\n",
    "test_indices_na = np.max(np.isnan(X_test), axis=1)\n",
    "X_train_dropna, y_train_dropna = X_train[~train_indices_na, :][:, :-6], y_train[~train_indices_na]\n",
    "X_test_dropna, y_test_dropna = X_test[~test_indices_na, :][:, :-6], y_test[~test_indices_na]\n",
    "print(f\"After dropping NAs: {X_train_dropna.shape, X_test_dropna.shape}\")\n",
    "\n",
    "# MICE data\n",
    "mice = fancyimpute.MICE(verbose=0)\n",
    "X_mice = mice.complete(X)\n",
    "X_train_mice, X_test_mice, y_train_mice, y_test_mice = train_test_split(\n",
    "    X_mice, y, test_size=0.2, shuffle=True, random_state=123, stratify=y)\n",
    "print(f\"MICE data shapes: {X_train_mice.shape, X_test_mice.shape}\")"
   ]
  },
  {
   "cell_type": "code",
   "execution_count": 7,
   "metadata": {
    "code_folding": []
   },
   "outputs": [
    {
     "name": "stdout",
     "output_type": "stream",
     "text": [
      "\u001b[1m\u001b[94mBaseline model's average AUC: 0.651\n",
      "\u001b[1m\u001b[94mMean imputation model's average AUC: 0.651\n",
      "\u001b[1m\u001b[94mMedian imputation model's average AUC: 0.651\n",
      "\u001b[1m\u001b[94mMICE imputation model's average AUC: 0.656\n"
     ]
    }
   ],
   "source": [
    "# Build random forest classifier\n",
    "rf_clf = RandomForestClassifier(n_estimators=500,\n",
    "                                max_features=0.25,\n",
    "                                criterion=\"entropy\",\n",
    "                                class_weight=\"balanced\")\n",
    "# Build base line model -- Drop NA's\n",
    "pip_baseline = make_pipeline(RobustScaler(), rf_clf)\n",
    "scores = cross_val_score(pip_baseline,\n",
    "                         X_train_dropna, y_train_dropna,\n",
    "                         scoring=\"roc_auc\", cv=10)\n",
    "print(f\"\\033[1m\\033[94mBaseline model's average AUC: {scores.mean():.3f}\")\n",
    "\n",
    "# Build model with mean imputation\n",
    "pip_impute_mean = make_pipeline(Imputer(strategy=\"mean\"),\n",
    "                                RobustScaler(), rf_clf)\n",
    "scores = cross_val_score(pip_impute_mean,\n",
    "                         X_train, y_train,\n",
    "                         scoring=\"roc_auc\", cv=10)\n",
    "print(f\"\\033[1m\\033[94mMean imputation model's average AUC: {scores.mean():.3f}\")\n",
    "\n",
    "# Build model with median imputation\n",
    "pip_impute_median = make_pipeline(Imputer(strategy=\"median\"),\n",
    "                                  RobustScaler(), rf_clf)\n",
    "scores = cross_val_score(pip_impute_median,\n",
    "                         X_train, y_train,\n",
    "                         scoring=\"roc_auc\", cv=10)\n",
    "print(f\"\\033[1m\\033[94mMedian imputation model's average AUC: {scores.mean():.3f}\")\n",
    "\n",
    "# Build model using MICE imputation\n",
    "pip_impute_mice = make_pipeline(RobustScaler(), rf_clf)\n",
    "scores = cross_val_score(pip_impute_mice,\n",
    "                         X_train_mice, y_train_mice,\n",
    "                         scoring=\"roc_auc\", cv=10)\n",
    "print(f\"\\033[1m\\033[94mMICE imputation model's average AUC: {scores.mean():.3f}\")"
   ]
  },
  {
   "cell_type": "markdown",
   "metadata": {},
   "source": [
    "Let's plot the feature importances to check if the added binary features added anything to the model."
   ]
  },
  {
   "cell_type": "code",
   "execution_count": 8,
   "metadata": {
    "code_folding": []
   },
   "outputs": [
    {
     "data": {
      "image/png": "[encoded data removed]",
      "text/plain": [
       "<matplotlib.figure.Figure at 0x125e1ef98>"
      ]
     },
     "metadata": {},
     "output_type": "display_data"
    }
   ],
   "source": [
    "# fit RF to plot feature importances\n",
    "rf_clf.fit(RobustScaler().fit_transform(Imputer(strategy=\"median\").fit_transform(X_train)), y_train)\n",
    "\n",
    "# Plot features importance\n",
    "importances = rf_clf.feature_importances_\n",
    "indices = np.argsort(rf_clf.feature_importances_)[::-1]\n",
    "plt.figure(figsize=(12, 6))\n",
    "plt.bar(range(1, 25), importances[indices], align=\"center\")\n",
    "plt.xticks(range(1, 25), df.columns[df.columns != \"not_fully_paid\"][indices], rotation=90)\n",
    "plt.title(\"Feature Importance\", {\"fontsize\": 16});"
   ]
  },
  {
   "cell_type": "markdown",
   "metadata": {},
   "source": [
    "Guided by the 10-fold cross validation *AUC* scores, it looks like all strategies have comparable results and missing values were generated randomly. Also, the added six binary features showed no importance when plotting feature importances from *Random Forest* classifier. Therefore, it's safe to drop those features and use *Median Imputation* method as a transformer later on in the pipeline."
   ]
  },
  {
   "cell_type": "code",
   "execution_count": 9,
   "metadata": {},
   "outputs": [],
   "source": [
    "# Drop generated binary features\n",
    "X_train = X_train[:, :-6]\n",
    "X_test = X_test[:, :-6]"
   ]
  },
  {
   "cell_type": "markdown",
   "metadata": {},
   "source": [
    "\n"
   ]
  },
  {
   "cell_type": "code",
   "execution_count": 10,
   "metadata": {
    "code_folding": []
   },
   "outputs": [
    {
     "name": "stdout",
     "output_type": "stream",
     "text": [
      "\u001b[1m\u001b[94mOriginal model's average AUC: 0.652\n",
      "\u001b[1m\u001b[94mUnder-sampled model's average AUC: 0.656\n",
      "\u001b[1m\u001b[94mOver-sampled model's average AUC: 0.651\n",
      "\u001b[1m\u001b[94mEasyEnsemble model's average AUC: 0.665\n",
      "\u001b[1m\u001b[94mSMOTE model's average AUC: 0.641\n"
     ]
    }
   ],
   "source": [
    "# Build random forest classifier (same config)\n",
    "rf_clf = RandomForestClassifier(n_estimators=500,\n",
    "                                max_features=0.25,\n",
    "                                criterion=\"entropy\",\n",
    "                                class_weight=\"balanced\")\n",
    "\n",
    "# Build model with no sampling\n",
    "pip_orig = make_pipeline(Imputer(strategy=\"mean\"),\n",
    "                         RobustScaler(),\n",
    "                         rf_clf)\n",
    "scores = cross_val_score(pip_orig,\n",
    "                         X_train, y_train,\n",
    "                         scoring=\"roc_auc\", cv=10)\n",
    "print(f\"\\033[1m\\033[94mOriginal model's average AUC: {scores.mean():.3f}\")\n",
    "\n",
    "# Build model with undersampling\n",
    "pip_undersample = imb_make_pipeline(Imputer(strategy=\"mean\"),\n",
    "                                    RobustScaler(),\n",
    "                                    RandomUnderSampler(), rf_clf)\n",
    "scores = cross_val_score(pip_undersample,\n",
    "                         X_train, y_train,\n",
    "                         scoring=\"roc_auc\", cv=10)\n",
    "print(f\"\\033[1m\\033[94mUnder-sampled model's average AUC: {scores.mean():.3f}\")\n",
    "\n",
    "# Build model with oversampling\n",
    "pip_oversample = imb_make_pipeline(Imputer(strategy=\"mean\"),\n",
    "                                    RobustScaler(),\n",
    "                                    RandomOverSampler(), rf_clf)\n",
    "scores = cross_val_score(pip_oversample,\n",
    "                         X_train, y_train,\n",
    "                         scoring=\"roc_auc\", cv=10)\n",
    "print(f\"\\033[1m\\033[94mOver-sampled model's average AUC: {scores.mean():.3f}\")\n",
    "\n",
    "# Build model with EasyEnsemble\n",
    "resampled_rf = BalancedBaggingClassifier(base_estimator=rf_clf,\n",
    "                                         n_estimators=10, random_state=123)\n",
    "pip_resampled = make_pipeline(Imputer(strategy=\"mean\"),\n",
    "                              RobustScaler(), resampled_rf)\n",
    "                             \n",
    "scores = cross_val_score(pip_resampled,\n",
    "                         X_train, y_train,\n",
    "                         scoring=\"roc_auc\", cv=10)\n",
    "print(f\"\\033[1m\\033[94mEasyEnsemble model's average AUC: {scores.mean():.3f}\")\n",
    "\n",
    "# Build model with SMOTE\n",
    "pip_smote = imb_make_pipeline(Imputer(strategy=\"mean\"),\n",
    "                              RobustScaler(),\n",
    "                              SMOTE(), rf_clf)\n",
    "scores = cross_val_score(pip_smote,\n",
    "                         X_train, y_train,\n",
    "                         scoring=\"roc_auc\", cv=10)\n",
    "print(f\"\\033[1m\\033[94mSMOTE model's average AUC: {scores.mean():.3f}\")"
   ]
  },
  {
   "cell_type": "markdown",
   "metadata": {},
   "source": [
    "EasyEnsemble method has the highest 10-folds CV with average AUC = 0.665."
   ]
  },
  {
   "cell_type": "markdown",
   "metadata": {},
   "source": [
    "\n"
   ]
  },
  {
   "cell_type": "code",
   "execution_count": 11,
   "metadata": {},
   "outputs": [
    {
     "data": {
      "text/plain": [
       "((2452, 18), (2452,))"
      ]
     },
     "execution_count": 11,
     "metadata": {},
     "output_type": "execute_result"
    }
   ],
   "source": [
    "# Impute the missing data using features means\n",
    "imp = Imputer()\n",
    "imp.fit(X_train)\n",
    "X_train = imp.transform(X_train)\n",
    "X_test = imp.transform(X_test)\n",
    "\n",
    "# Standardize the data\n",
    "std = RobustScaler()\n",
    "std.fit(X_train)\n",
    "X_train = std.transform(X_train)\n",
    "X_test = std.transform(X_test)\n",
    "\n",
    "# Implement RandomUnderSampler\n",
    "random_undersampler = RandomUnderSampler()\n",
    "X_res, y_res = random_undersampler.fit_sample(X_train, y_train)\n",
    "# Shuffle the data\n",
    "perms = np.random.permutation(X_res.shape[0])\n",
    "X_res = X_res[perms]\n",
    "y_res = y_res[perms]\n",
    "X_res.shape, y_res.shape"
   ]
  },
  {
   "cell_type": "code",
   "execution_count": 12,
   "metadata": {},
   "outputs": [
    {
     "data": {
      "image/png": "[encoded data removed]",
      "text/plain": [
       "<matplotlib.figure.Figure at 0x1256dac18>"
      ]
     },
     "metadata": {},
     "output_type": "display_data"
    }
   ],
   "source": [
    "# Define base learners\n",
    "xgb_clf = xgb.XGBClassifier(objective=\"binary:logistic\",\n",
    "                            learning_rate=0.03,\n",
    "                            n_estimators=500,\n",
    "                            max_depth=1,\n",
    "                            subsample=0.4,\n",
    "                            random_state=123)\n",
    "\n",
    "svm_clf = SVC(gamma=0.1,\n",
    "                C=0.01,\n",
    "                kernel=\"poly\",\n",
    "                degree=3,\n",
    "                coef0=10.0,\n",
    "                probability=True)\n",
    "\n",
    "rf_clf = RandomForestClassifier(n_estimators=300,\n",
    "                                max_features=\"sqrt\",\n",
    "                                criterion=\"gini\",\n",
    "                                min_samples_leaf=5,\n",
    "                                class_weight=\"balanced\")\n",
    "\n",
    "# Define meta-learner\n",
    "logreg_clf = LogisticRegression(penalty=\"l2\",\n",
    "                                C=100,\n",
    "                                fit_intercept=True)\n",
    "\n",
    "# Fitting voting clf --> average ensemble\n",
    "voting_clf = VotingClassifier([(\"xgb\", xgb_clf),\n",
    "                               (\"svm\", svm_clf),\n",
    "                               (\"rf\", rf_clf)],\n",
    "                              voting=\"soft\",\n",
    "                              flatten_transform=True)\n",
    "voting_clf.fit(X_res, y_res)\n",
    "xgb_model, svm_model, rf_model = voting_clf.estimators_\n",
    "models = {\"xgb\": xgb_model, \"svm\": svm_model,\n",
    "          \"rf\": rf_model, \"avg_ensemble\": voting_clf}\n",
    "\n",
    "# Build first stack of base learners\n",
    "first_stack = make_pipeline(voting_clf,\n",
    "                            FunctionTransformer(lambda X: X[:, 1::2]))\n",
    "# Use CV to generate meta-features\n",
    "meta_features = cross_val_predict(first_stack,\n",
    "                                  X_res, y_res,\n",
    "                                  cv=10,\n",
    "                                  method=\"transform\")\n",
    "# Refit the first stack on the full training set\n",
    "first_stack.fit(X_res, y_res)\n",
    "# Fit the meta learner\n",
    "second_stack = logreg_clf.fit(meta_features, y_res)\n",
    "\n",
    "# Plot ROC and PR curves using all models and test data\n",
    "fig, axes = plt.subplots(1, 2, figsize=(14, 6))\n",
    "for name, model in models.items():\n",
    "            model_probs = model.predict_proba(X_test)[:, 1:]\n",
    "            model_auc_score = roc_auc_score(y_test, model_probs)\n",
    "            fpr, tpr, _ = roc_curve(y_test, model_probs)\n",
    "            precision, recall, _ = precision_recall_curve(y_test, model_probs)\n",
    "            axes[0].plot(fpr, tpr, label=f\"{name}, auc = {model_auc_score:.3f}\")\n",
    "            axes[1].plot(recall, precision, label=f\"{name}\")\n",
    "stacked_probs = second_stack.predict_proba(first_stack.transform(X_test))[:, 1:]\n",
    "stacked_auc_score = roc_auc_score(y_test, stacked_probs)\n",
    "fpr, tpr, _ = roc_curve(y_test, stacked_probs)\n",
    "precision, recall, _ = precision_recall_curve(y_test, stacked_probs)\n",
    "axes[0].plot(fpr, tpr, label=f\"stacked_ensemble, auc = {stacked_auc_score:.3f}\")\n",
    "axes[1].plot(recall, precision, label=\"stacked_ensembe\")\n",
    "axes[0].legend(loc=\"lower right\")\n",
    "axes[0].set_xlabel(\"FPR\")\n",
    "axes[0].set_ylabel(\"TPR\")\n",
    "axes[0].set_title(\"ROC curve\")\n",
    "axes[1].legend()\n",
    "axes[1].set_xlabel(\"recall\")\n",
    "axes[1].set_ylabel(\"precision\")\n",
    "axes[1].set_title(\"PR curve\")\n",
    "plt.tight_layout()"
   ]
  },
  {
   "cell_type": "markdown",
   "metadata": {},
   "source": [
    "As we can see from the chart above, stacked ensemble model didn't improve the performance. One of the major reasons are that the base learners are considerably highly correlated especially *Random Forest* and *Gradient Boosting* (see the correlation matrix below)."
   ]
  },
  {
   "cell_type": "code",
   "execution_count": 17,
   "metadata": {},
   "outputs": [
    {
     "data": {
      "image/png": "[encoded data removed]",
      "text/plain": [
       "<matplotlib.figure.Figure at 0x125d912b0>"
      ]
     },
     "metadata": {},
     "output_type": "display_data"
    }
   ],
   "source": [
    "# Plot the correlation between base learners\n",
    "probs_df = pd.DataFrame(meta_features, columns=[\"xgb\", \"svm\", \"rf\"])\n",
    "corrmat(probs_df.corr(), inflate=True);"
   ]
  },
  {
   "cell_type": "markdown",
   "metadata": {},
   "source": [
    "In addition, with classification problems where False Negatives are a lot more expensive than False Positives, we may want to have a model with a high precision rather than high recall, i.e. the probability of the model to identify positive examples from randomly selected examples. Below is the confusion matrix:"
   ]
  },
  {
   "cell_type": "code",
   "execution_count": 78,
   "metadata": {},
   "outputs": [
    {
     "data": {
      "text/plain": [
       "<matplotlib.figure.Figure at 0x12eb8e320>"
      ]
     },
     "metadata": {},
     "output_type": "display_data"
    },
    {
     "data": {
      "image/png": "[encoded data removed]",
      "text/plain": [
       "<matplotlib.figure.Figure at 0x12eb8e748>"
      ]
     },
     "metadata": {},
     "output_type": "display_data"
    }
   ],
   "source": [
    "second_stack_probs = second_stack.predict_proba(first_stack.transform(X_test))\n",
    "second_stack_preds = second_stack.predict(first_stack.transform(X_test))\n",
    "conf_mat = confusion_matrix(y_test, second_stack_preds)\n",
    "# Define figure size and figure ratios\n",
    "plt.figure(figsize=(16, 8))\n",
    "plt.matshow(conf_mat, cmap=plt.cm.Reds, alpha=0.2)\n",
    "for i in range(2):\n",
    "    for j in range(2):\n",
    "        plt.text(x=j, y=i, s=conf_mat[i, j], ha=\"center\", va=\"center\")\n",
    "plt.title(\"Confusion matrix\", y=1.1, fontdict={\"fontsize\": 20})\n",
    "plt.xlabel(\"Predicted\", fontdict={\"fontsize\": 14})\n",
    "plt.ylabel(\"Actual\", fontdict={\"fontsize\": 14});"
   ]
  },
  {
   "cell_type": "markdown",
   "metadata": {},
   "source": [
    "Let's finally check the partial dependence plots to see what are the most important features and their relationships with whether the borrower will most likely pay the loan in full before mature data. we will plot only the top 8 features to make it easier to read."
   ]
  },
  {
   "cell_type": "code",
   "execution_count": 24,
   "metadata": {},
   "outputs": [
    {
     "data": {
      "image/png": "[encoded data removed]",
      "text/plain": [
       "<matplotlib.figure.Figure at 0x12e722eb8>"
      ]
     },
     "metadata": {},
     "output_type": "display_data"
    }
   ],
   "source": [
    "# Plot partial dependence plots\n",
    "gbrt = GradientBoostingClassifier(loss=\"deviance\",\n",
    "                                  learning_rate=0.1,\n",
    "                                  n_estimators=100,\n",
    "                                  max_depth=3,\n",
    "                                  random_state=123)\n",
    "gbrt.fit(X_res, y_res)\n",
    "fig, axes = plot_partial_dependence(gbrt, X_res,\n",
    "                                    np.argsort(gbrt.feature_importances_)[::-1][:8],\n",
    "                                    n_cols=4,\n",
    "                                    feature_names=df.columns[:-6],\n",
    "                                    figsize=(14, 8))\n",
    "plt.subplots_adjust(top=0.9)\n",
    "plt.suptitle(\"Partial dependence plots of borrower not fully paid\\n\"\n",
    "             \"the loan based on top most influential features\")\n",
    "for ax in axes: ax.set_xticks(())\n",
    "for ax in [axes[0], axes[4]]: ax.set_ylabel(\"Partial dependence\")"
   ]
  },
  {
   "cell_type": "markdown",
   "metadata": {},
   "source": [
    "As we might expected, borrowers with lower annual income and less FICO scores are less likely to pay the loan fully; however, borrowers with lower interest rates (riskier) and smaller installments are more likely to pay the loan fully."
   ]
  },
  {
   "cell_type": "markdown",
   "metadata": {},
   "source": []
  }
 ],
 "metadata": {
  "kernelspec": {
   "display_name": "Python 3",
   "language": "python",
   "name": "python3"
  },
  "language_info": {
   "codemirror_mode": {
    "name": "ipython",
    "version": 3
   },
   "file_extension": ".py",
   "mimetype": "text/x-python",
   "name": "python",
   "nbconvert_exporter": "python",
   "pygments_lexer": "ipython3",
   "version": "3.8.5"
  }
 },
 "nbformat": 4,
 "nbformat_minor": 2
}
