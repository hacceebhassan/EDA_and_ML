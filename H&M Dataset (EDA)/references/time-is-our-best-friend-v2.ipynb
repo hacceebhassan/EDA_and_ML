{
  "cells": [
    {
      "cell_type": "markdown",
      "source": [
        "base on: https://www.kaggle.com/abhilashawasthi/not-so-fancy-but-fast-benchmark"
      ],
      "metadata": {
        "papermill": {
          "duration": 0.013508,
          "end_time": "2022-02-11T01:25:10.674369",
          "exception": false,
          "start_time": "2022-02-11T01:25:10.660861",
          "status": "completed"
        },
        "tags": []
      },
      "id": "9b0bfdf7"
    },
    {
      "cell_type": "code",
      "source": [
        "import numpy as np\n",
        "import pandas as pd\n",
        "\n",
        "from pathlib import Path\n",
        "\n",
        "data_path = Path('/kaggle/input/h-and-m-personalized-fashion-recommendations/')"
      ],
      "outputs": [],
      "execution_count": 1,
      "metadata": {
        "_cell_guid": "b1076dfc-b9ad-4769-8c92-a6c4dae69d19",
        "_uuid": "8f2839f25d086af736a60e9eeb907d3b93b6e0e5",
        "execution": {
          "iopub.execute_input": "2022-02-11T01:25:10.706575Z",
          "iopub.status.busy": "2022-02-11T01:25:10.704851Z",
          "iopub.status.idle": "2022-02-11T01:25:10.715572Z",
          "shell.execute_reply": "2022-02-11T01:25:10.716142Z",
          "shell.execute_reply.started": "2022-02-10T12:15:55.543684Z"
        },
        "papermill": {
          "duration": 0.028542,
          "end_time": "2022-02-11T01:25:10.716490",
          "exception": false,
          "start_time": "2022-02-11T01:25:10.687948",
          "status": "completed"
        },
        "tags": []
      },
      "id": "8da8b78b"
    },
    {
      "cell_type": "code",
      "source": [
        "transactions = pd.read_csv(\n",
        "    data_path / 'transactions_train.csv',\n",
        "    # set dtype or pandas will drop the leading '0' and convert to int\n",
        "    dtype={'article_id': str} \n",
        ")\n",
        "\n",
        "submission = pd.read_csv(data_path / 'sample_submission.csv')"
      ],
      "outputs": [],
      "execution_count": 2,
      "metadata": {
        "execution": {
          "iopub.execute_input": "2022-02-11T01:25:10.748783Z",
          "iopub.status.busy": "2022-02-11T01:25:10.748024Z",
          "iopub.status.idle": "2022-02-11T01:26:34.093570Z",
          "shell.execute_reply": "2022-02-11T01:26:34.092964Z",
          "shell.execute_reply.started": "2022-02-10T12:15:55.571148Z"
        },
        "papermill": {
          "duration": 83.363343,
          "end_time": "2022-02-11T01:26:34.093743",
          "exception": false,
          "start_time": "2022-02-11T01:25:10.730400",
          "status": "completed"
        },
        "tags": []
      },
      "id": "2336b233"
    },
    {
      "cell_type": "code",
      "source": [
        "print(transactions.shape)\n",
        "transactions.head()"
      ],
      "outputs": [
        {
          "output_type": "stream",
          "name": "stdout",
          "text": "(31788324, 5)\n"
        },
        {
          "output_type": "execute_result",
          "execution_count": 3,
          "data": {
            "text/html": "<div>\n<style scoped>\n    .dataframe tbody tr th:only-of-type {\n        vertical-align: middle;\n    }\n\n    .dataframe tbody tr th {\n        vertical-align: top;\n    }\n\n    .dataframe thead th {\n        text-align: right;\n    }\n</style>\n<table border=\"1\" class=\"dataframe\">\n  <thead>\n    <tr style=\"text-align: right;\">\n      <th></th>\n      <th>t_dat</th>\n      <th>customer_id</th>\n      <th>article_id</th>\n      <th>price</th>\n      <th>sales_channel_id</th>\n    </tr>\n  </thead>\n  <tbody>\n    <tr>\n      <th>0</th>\n      <td>2018-09-20</td>\n      <td>000058a12d5b43e67d225668fa1f8d618c13dc232df0ca...</td>\n      <td>0663713001</td>\n      <td>0.050831</td>\n      <td>2</td>\n    </tr>\n    <tr>\n      <th>1</th>\n      <td>2018-09-20</td>\n      <td>000058a12d5b43e67d225668fa1f8d618c13dc232df0ca...</td>\n      <td>0541518023</td>\n      <td>0.030492</td>\n      <td>2</td>\n    </tr>\n    <tr>\n      <th>2</th>\n      <td>2018-09-20</td>\n      <td>00007d2de826758b65a93dd24ce629ed66842531df6699...</td>\n      <td>0505221004</td>\n      <td>0.015237</td>\n      <td>2</td>\n    </tr>\n    <tr>\n      <th>3</th>\n      <td>2018-09-20</td>\n      <td>00007d2de826758b65a93dd24ce629ed66842531df6699...</td>\n      <td>0685687003</td>\n      <td>0.016932</td>\n      <td>2</td>\n    </tr>\n    <tr>\n      <th>4</th>\n      <td>2018-09-20</td>\n      <td>00007d2de826758b65a93dd24ce629ed66842531df6699...</td>\n      <td>0685687004</td>\n      <td>0.016932</td>\n      <td>2</td>\n    </tr>\n  </tbody>\n</table>\n</div>",
            "text/plain": "        t_dat                                        customer_id  article_id  \\\n0  2018-09-20  000058a12d5b43e67d225668fa1f8d618c13dc232df0ca...  0663713001   \n1  2018-09-20  000058a12d5b43e67d225668fa1f8d618c13dc232df0ca...  0541518023   \n2  2018-09-20  00007d2de826758b65a93dd24ce629ed66842531df6699...  0505221004   \n3  2018-09-20  00007d2de826758b65a93dd24ce629ed66842531df6699...  0685687003   \n4  2018-09-20  00007d2de826758b65a93dd24ce629ed66842531df6699...  0685687004   \n\n      price  sales_channel_id  \n0  0.050831                 2  \n1  0.030492                 2  \n2  0.015237                 2  \n3  0.016932                 2  \n4  0.016932                 2  "
          },
          "metadata": {}
        }
      ],
      "execution_count": 3,
      "metadata": {
        "execution": {
          "iopub.execute_input": "2022-02-11T01:26:34.130332Z",
          "iopub.status.busy": "2022-02-11T01:26:34.129586Z",
          "iopub.status.idle": "2022-02-11T01:26:34.151804Z",
          "shell.execute_reply": "2022-02-11T01:26:34.152404Z",
          "shell.execute_reply.started": "2022-02-10T12:17:18.589551Z"
        },
        "papermill": {
          "duration": 0.047163,
          "end_time": "2022-02-11T01:26:34.152607",
          "exception": false,
          "start_time": "2022-02-11T01:26:34.105444",
          "status": "completed"
        },
        "tags": []
      },
      "id": "d2275be3"
    },
    {
      "cell_type": "code",
      "source": [
        "transactions['t_dat'] = pd.to_datetime(transactions['t_dat'])"
      ],
      "outputs": [],
      "execution_count": 4,
      "metadata": {
        "execution": {
          "iopub.execute_input": "2022-02-11T01:26:36.292462Z",
          "iopub.status.busy": "2022-02-11T01:26:36.291650Z",
          "iopub.status.idle": "2022-02-11T01:26:41.574840Z",
          "shell.execute_reply": "2022-02-11T01:26:41.574207Z",
          "shell.execute_reply.started": "2022-02-10T12:17:18.6237Z"
        },
        "papermill": {
          "duration": 7.407827,
          "end_time": "2022-02-11T01:26:41.575033",
          "exception": false,
          "start_time": "2022-02-11T01:26:34.167206",
          "status": "completed"
        },
        "tags": []
      },
      "id": "b9a344ff"
    },
    {
      "cell_type": "code",
      "source": [
        "transactions_3w = transactions[transactions['t_dat'] >= pd.to_datetime('2020-08-31')].copy()\n",
        "transactions_2w = transactions[transactions['t_dat'] >= pd.to_datetime('2020-09-07')].copy()\n",
        "transactions_1w = transactions[transactions['t_dat'] >= pd.to_datetime('2020-09-15')].copy()"
      ],
      "outputs": [],
      "execution_count": 5,
      "metadata": {
        "execution": {
          "iopub.execute_input": "2022-02-11T01:26:41.613464Z",
          "iopub.status.busy": "2022-02-11T01:26:41.611984Z",
          "iopub.status.idle": "2022-02-11T01:26:42.232640Z",
          "shell.execute_reply": "2022-02-11T01:26:42.231627Z",
          "shell.execute_reply.started": "2022-02-10T12:17:25.496127Z"
        },
        "papermill": {
          "duration": 0.64389,
          "end_time": "2022-02-11T01:26:42.232815",
          "exception": false,
          "start_time": "2022-02-11T01:26:41.588925",
          "status": "completed"
        },
        "tags": []
      },
      "id": "626e08ee"
    },
    {
      "cell_type": "code",
      "source": [
        "purchase_dict_3w = {}\n",
        "\n",
        "for i,x in enumerate(zip(transactions_3w['customer_id'], transactions_3w['article_id'])):\n",
        "    cust_id, art_id = x\n",
        "    if cust_id not in purchase_dict_3w:\n",
        "        purchase_dict_3w[cust_id] = {}\n",
        "    \n",
        "    if art_id not in purchase_dict_3w[cust_id]:\n",
        "        purchase_dict_3w[cust_id][art_id] = 0\n",
        "    \n",
        "    purchase_dict_3w[cust_id][art_id] += 1\n",
        "    \n",
        "print(len(purchase_dict_3w))\n",
        "\n",
        "dummy_list_3w = list((transactions_3w['article_id'].value_counts()).index)[:12]"
      ],
      "outputs": [
        {
          "output_type": "stream",
          "name": "stdout",
          "text": "196319\n"
        }
      ],
      "execution_count": 6,
      "metadata": {
        "execution": {
          "iopub.execute_input": "2022-02-11T01:26:42.269229Z",
          "iopub.status.busy": "2022-02-11T01:26:42.268183Z",
          "iopub.status.idle": "2022-02-11T01:26:43.769459Z",
          "shell.execute_reply": "2022-02-11T01:26:43.768226Z",
          "shell.execute_reply.started": "2022-02-10T12:17:26.002062Z"
        },
        "papermill": {
          "duration": 1.522364,
          "end_time": "2022-02-11T01:26:43.769661",
          "exception": false,
          "start_time": "2022-02-11T01:26:42.247297",
          "status": "completed"
        },
        "tags": []
      },
      "id": "20bd10e5"
    },
    {
      "cell_type": "code",
      "source": [
        "purchase_dict_2w = {}\n",
        "\n",
        "for i,x in enumerate(zip(transactions_2w['customer_id'], transactions_2w['article_id'])):\n",
        "    cust_id, art_id = x\n",
        "    if cust_id not in purchase_dict_2w:\n",
        "        purchase_dict_2w[cust_id] = {}\n",
        "    \n",
        "    if art_id not in purchase_dict_2w[cust_id]:\n",
        "        purchase_dict_2w[cust_id][art_id] = 0\n",
        "    \n",
        "    purchase_dict_2w[cust_id][art_id] += 1\n",
        "    \n",
        "print(len(purchase_dict_2w))\n",
        "\n",
        "dummy_list_2w = list((transactions_2w['article_id'].value_counts()).index)[:12]"
      ],
      "outputs": [
        {
          "output_type": "stream",
          "name": "stdout",
          "text": "143455\n"
        }
      ],
      "execution_count": 7,
      "metadata": {
        "execution": {
          "iopub.execute_input": "2022-02-11T01:26:43.825634Z",
          "iopub.status.busy": "2022-02-11T01:26:43.811147Z",
          "iopub.status.idle": "2022-02-11T01:26:44.851157Z",
          "shell.execute_reply": "2022-02-11T01:26:44.851901Z",
          "shell.execute_reply.started": "2022-02-10T12:17:27.345913Z"
        },
        "papermill": {
          "duration": 1.065576,
          "end_time": "2022-02-11T01:26:44.852160",
          "exception": false,
          "start_time": "2022-02-11T01:26:43.786584",
          "status": "completed"
        },
        "tags": []
      },
      "id": "4bf312d3"
    },
    {
      "cell_type": "code",
      "source": [
        "purchase_dict_1w = {}\n",
        "\n",
        "for i,x in enumerate(zip(transactions_1w['customer_id'], transactions_1w['article_id'])):\n",
        "    cust_id, art_id = x\n",
        "    if cust_id not in purchase_dict_1w:\n",
        "        purchase_dict_1w[cust_id] = {}\n",
        "    \n",
        "    if art_id not in purchase_dict_1w[cust_id]:\n",
        "        purchase_dict_1w[cust_id][art_id] = 0\n",
        "    \n",
        "    purchase_dict_1w[cust_id][art_id] += 1\n",
        "    \n",
        "print(len(purchase_dict_1w))\n",
        "\n",
        "dummy_list_1w = list((transactions_1w['article_id'].value_counts()).index)[:12]"
      ],
      "outputs": [
        {
          "output_type": "stream",
          "name": "stdout",
          "text": "75481\n"
        }
      ],
      "execution_count": 8,
      "metadata": {
        "execution": {
          "iopub.execute_input": "2022-02-11T01:26:44.909372Z",
          "iopub.status.busy": "2022-02-11T01:26:44.883461Z",
          "iopub.status.idle": "2022-02-11T01:26:45.345209Z",
          "shell.execute_reply": "2022-02-11T01:26:45.345751Z",
          "shell.execute_reply.started": "2022-02-10T12:17:28.241816Z"
        },
        "papermill": {
          "duration": 0.48026,
          "end_time": "2022-02-11T01:26:45.345975",
          "exception": false,
          "start_time": "2022-02-11T01:26:44.865715",
          "status": "completed"
        },
        "tags": []
      },
      "id": "b09af067"
    },
    {
      "cell_type": "code",
      "source": [
        "print(submission.shape)\n",
        "submission.head()"
      ],
      "outputs": [
        {
          "output_type": "stream",
          "name": "stdout",
          "text": "(1371980, 2)\n"
        },
        {
          "output_type": "execute_result",
          "execution_count": 9,
          "data": {
            "text/html": "<div>\n<style scoped>\n    .dataframe tbody tr th:only-of-type {\n        vertical-align: middle;\n    }\n\n    .dataframe tbody tr th {\n        vertical-align: top;\n    }\n\n    .dataframe thead th {\n        text-align: right;\n    }\n</style>\n<table border=\"1\" class=\"dataframe\">\n  <thead>\n    <tr style=\"text-align: right;\">\n      <th></th>\n      <th>customer_id</th>\n      <th>prediction</th>\n    </tr>\n  </thead>\n  <tbody>\n    <tr>\n      <th>0</th>\n      <td>00000dbacae5abe5e23885899a1fa44253a17956c6d1c3...</td>\n      <td>0706016001 0706016002 0372860001 0610776002 07...</td>\n    </tr>\n    <tr>\n      <th>1</th>\n      <td>0000423b00ade91418cceaf3b26c6af3dd342b51fd051e...</td>\n      <td>0706016001 0706016002 0372860001 0610776002 07...</td>\n    </tr>\n    <tr>\n      <th>2</th>\n      <td>000058a12d5b43e67d225668fa1f8d618c13dc232df0ca...</td>\n      <td>0706016001 0706016002 0372860001 0610776002 07...</td>\n    </tr>\n    <tr>\n      <th>3</th>\n      <td>00005ca1c9ed5f5146b52ac8639a40ca9d57aeff4d1bd2...</td>\n      <td>0706016001 0706016002 0372860001 0610776002 07...</td>\n    </tr>\n    <tr>\n      <th>4</th>\n      <td>00006413d8573cd20ed7128e53b7b13819fe5cfc2d801f...</td>\n      <td>0706016001 0706016002 0372860001 0610776002 07...</td>\n    </tr>\n  </tbody>\n</table>\n</div>",
            "text/plain": "                                         customer_id  \\\n0  00000dbacae5abe5e23885899a1fa44253a17956c6d1c3...   \n1  0000423b00ade91418cceaf3b26c6af3dd342b51fd051e...   \n2  000058a12d5b43e67d225668fa1f8d618c13dc232df0ca...   \n3  00005ca1c9ed5f5146b52ac8639a40ca9d57aeff4d1bd2...   \n4  00006413d8573cd20ed7128e53b7b13819fe5cfc2d801f...   \n\n                                          prediction  \n0  0706016001 0706016002 0372860001 0610776002 07...  \n1  0706016001 0706016002 0372860001 0610776002 07...  \n2  0706016001 0706016002 0372860001 0610776002 07...  \n3  0706016001 0706016002 0372860001 0610776002 07...  \n4  0706016001 0706016002 0372860001 0610776002 07...  "
          },
          "metadata": {}
        }
      ],
      "execution_count": 9,
      "metadata": {
        "execution": {
          "iopub.execute_input": "2022-02-11T01:26:45.385230Z",
          "iopub.status.busy": "2022-02-11T01:26:45.384170Z",
          "iopub.status.idle": "2022-02-11T01:26:45.393898Z",
          "shell.execute_reply": "2022-02-11T01:26:45.392817Z",
          "shell.execute_reply.started": "2022-02-10T12:17:28.676659Z"
        },
        "papermill": {
          "duration": 0.032338,
          "end_time": "2022-02-11T01:26:45.394196",
          "exception": false,
          "start_time": "2022-02-11T01:26:45.361858",
          "status": "completed"
        },
        "tags": []
      },
      "id": "bfd2e482"
    },
    {
      "cell_type": "code",
      "source": [
        "not_so_fancy_but_fast_benchmark = submission[['customer_id']]\n",
        "prediction_list = []\n",
        "\n",
        "dummy_list = list((transactions_1w['article_id'].value_counts()).index)[:12]\n",
        "dummy_pred = ' '.join(dummy_list)\n",
        "\n",
        "for i, cust_id in enumerate(submission['customer_id'].values.reshape((-1,))):\n",
        "    if cust_id in purchase_dict_1w:\n",
        "        l = sorted((purchase_dict_1w[cust_id]).items(), key=lambda x: x[1], reverse=True)\n",
        "        l = [y[0] for y in l]\n",
        "        if len(l)>12:\n",
        "            s = ' '.join(l[:12])\n",
        "        else:\n",
        "            s = ' '.join(l+dummy_list_1w[:(12-len(l))])\n",
        "    elif cust_id in purchase_dict_2w:\n",
        "        l = sorted((purchase_dict_2w[cust_id]).items(), key=lambda x: x[1], reverse=True)\n",
        "        l = [y[0] for y in l]\n",
        "        if len(l)>12:\n",
        "            s = ' '.join(l[:12])\n",
        "        else:\n",
        "            s = ' '.join(l+dummy_list_2w[:(12-len(l))])\n",
        "    elif cust_id in purchase_dict_3w:\n",
        "        l = sorted((purchase_dict_3w[cust_id]).items(), key=lambda x: x[1], reverse=True)\n",
        "        l = [y[0] for y in l]\n",
        "        if len(l)>12:\n",
        "            s = ' '.join(l[:12])\n",
        "        else:\n",
        "            s = ' '.join(l+dummy_list_3w[:(12-len(l))])\n",
        "    else:\n",
        "        s = dummy_pred\n",
        "    prediction_list.append(s)\n",
        "\n",
        "not_so_fancy_but_fast_benchmark['prediction'] = prediction_list\n",
        "print(not_so_fancy_but_fast_benchmark.shape)\n",
        "not_so_fancy_but_fast_benchmark.head()"
      ],
      "outputs": [
        {
          "output_type": "stream",
          "name": "stdout",
          "text": "(1371980, 2)\n"
        },
        {
          "output_type": "execute_result",
          "execution_count": 10,
          "data": {
            "text/html": "<div>\n<style scoped>\n    .dataframe tbody tr th:only-of-type {\n        vertical-align: middle;\n    }\n\n    .dataframe tbody tr th {\n        vertical-align: top;\n    }\n\n    .dataframe thead th {\n        text-align: right;\n    }\n</style>\n<table border=\"1\" class=\"dataframe\">\n  <thead>\n    <tr style=\"text-align: right;\">\n      <th></th>\n      <th>customer_id</th>\n      <th>prediction</th>\n    </tr>\n  </thead>\n  <tbody>\n    <tr>\n      <th>0</th>\n      <td>00000dbacae5abe5e23885899a1fa44253a17956c6d1c3...</td>\n      <td>0568601043 0751471001 0909370001 0915526001 09...</td>\n    </tr>\n    <tr>\n      <th>1</th>\n      <td>0000423b00ade91418cceaf3b26c6af3dd342b51fd051e...</td>\n      <td>0924243001 0924243002 0923758001 0918522001 09...</td>\n    </tr>\n    <tr>\n      <th>2</th>\n      <td>000058a12d5b43e67d225668fa1f8d618c13dc232df0ca...</td>\n      <td>0794321007 0924243001 0924243002 0923758001 09...</td>\n    </tr>\n    <tr>\n      <th>3</th>\n      <td>00005ca1c9ed5f5146b52ac8639a40ca9d57aeff4d1bd2...</td>\n      <td>0924243001 0924243002 0923758001 0918522001 09...</td>\n    </tr>\n    <tr>\n      <th>4</th>\n      <td>00006413d8573cd20ed7128e53b7b13819fe5cfc2d801f...</td>\n      <td>0924243001 0924243002 0923758001 0918522001 09...</td>\n    </tr>\n  </tbody>\n</table>\n</div>",
            "text/plain": "                                         customer_id  \\\n0  00000dbacae5abe5e23885899a1fa44253a17956c6d1c3...   \n1  0000423b00ade91418cceaf3b26c6af3dd342b51fd051e...   \n2  000058a12d5b43e67d225668fa1f8d618c13dc232df0ca...   \n3  00005ca1c9ed5f5146b52ac8639a40ca9d57aeff4d1bd2...   \n4  00006413d8573cd20ed7128e53b7b13819fe5cfc2d801f...   \n\n                                          prediction  \n0  0568601043 0751471001 0909370001 0915526001 09...  \n1  0924243001 0924243002 0923758001 0918522001 09...  \n2  0794321007 0924243001 0924243002 0923758001 09...  \n3  0924243001 0924243002 0923758001 0918522001 09...  \n4  0924243001 0924243002 0923758001 0918522001 09...  "
          },
          "metadata": {}
        }
      ],
      "execution_count": 10,
      "metadata": {
        "execution": {
          "iopub.execute_input": "2022-02-11T01:26:45.428821Z",
          "iopub.status.busy": "2022-02-11T01:26:45.427737Z",
          "iopub.status.idle": "2022-02-11T01:26:48.251757Z",
          "shell.execute_reply": "2022-02-11T01:26:48.251002Z",
          "shell.execute_reply.started": "2022-02-10T12:17:28.692781Z"
        },
        "papermill": {
          "duration": 2.842498,
          "end_time": "2022-02-11T01:26:48.251929",
          "exception": false,
          "start_time": "2022-02-11T01:26:45.409431",
          "status": "completed"
        },
        "tags": []
      },
      "id": "88f51efd"
    },
    {
      "cell_type": "code",
      "source": [
        "not_so_fancy_but_fast_benchmark.to_csv('not_so_fancy_but_fast_benchmark.csv', index=False)"
      ],
      "outputs": [],
      "execution_count": 11,
      "metadata": {
        "execution": {
          "iopub.execute_input": "2022-02-11T01:26:48.290323Z",
          "iopub.status.busy": "2022-02-11T01:26:48.289505Z",
          "iopub.status.idle": "2022-02-11T01:27:02.962065Z",
          "shell.execute_reply": "2022-02-11T01:27:02.960782Z",
          "shell.execute_reply.started": "2022-02-10T12:17:31.157969Z"
        },
        "papermill": {
          "duration": 14.695168,
          "end_time": "2022-02-11T01:27:02.962306",
          "exception": false,
          "start_time": "2022-02-11T01:26:48.267138",
          "status": "completed"
        },
        "tags": []
      },
      "id": "fd971432"
    },
    {
      "cell_type": "code",
      "source": [],
      "outputs": [],
      "execution_count": null,
      "metadata": {
        "papermill": {
          "duration": 0.017676,
          "end_time": "2022-02-11T01:27:02.997656",
          "exception": false,
          "start_time": "2022-02-11T01:27:02.979980",
          "status": "completed"
        },
        "tags": []
      },
      "id": "55723db4"
    }
  ],
  "metadata": {
    "kernelspec": {
      "name": "python3",
      "language": "python",
      "display_name": "Python 3"
    },
    "language_info": {
      "name": "python",
      "version": "3.6.9",
      "mimetype": "text/x-python",
      "codemirror_mode": {
        "name": "ipython",
        "version": 3
      },
      "pygments_lexer": "ipython3",
      "nbconvert_exporter": "python",
      "file_extension": ".py"
    },
    "papermill": {
      "output_path": "__notebook__.ipynb",
      "default_parameters": {},
      "start_time": "2022-02-11T01:24:55.787316",
      "parameters": {},
      "environment_variables": {},
      "exception": null,
      "end_time": "2022-02-11T01:27:05.437738",
      "duration": 129.650422,
      "version": "2.3.3",
      "input_path": "__notebook__.ipynb"
    },
    "kernel_info": {
      "name": "python3"
    },
    "nteract": {
      "version": "nteract-front-end@1.0.0"
    }
  },
  "nbformat": 4,
  "nbformat_minor": 5
}