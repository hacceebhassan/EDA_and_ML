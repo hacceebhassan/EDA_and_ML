{
 "cells": [
  {
   "cell_type": "markdown",
   "id": "d69c2e03",
   "metadata": {
    "papermill": {
     "duration": 0.012706,
     "end_time": "2022-02-16T15:22:12.667480",
     "exception": false,
     "start_time": "2022-02-16T15:22:12.654774",
     "status": "completed"
    },
    "tags": []
   },
   "source": [
    "## Thank you for visit\n",
    "\n",
    "\n",
    "#### In this notebook, I want to show Example how to calculate MAP@12 \n",
    "\n",
    "#### If you like this notebook, upvote please 😉"
   ]
  },
  {
   "cell_type": "markdown",
   "id": "fbc5240f",
   "metadata": {
    "papermill": {
     "duration": 0.011107,
     "end_time": "2022-02-16T15:22:12.690524",
     "exception": false,
     "start_time": "2022-02-16T15:22:12.679417",
     "status": "completed"
    },
    "tags": []
   },
   "source": [
    "### Version update (Feb 15, 2022)\n",
    "\n",
    "- I receive message from @hervind and @t88take that tell me my mistake about competition metrics.\n",
    "\n",
    "- So, I fixed this notebook.\n",
    "\n",
    "- Thank you."
   ]
  },
  {
   "cell_type": "markdown",
   "id": "28f4037b",
   "metadata": {
    "papermill": {
     "duration": 0.011085,
     "end_time": "2022-02-16T15:22:12.713036",
     "exception": false,
     "start_time": "2022-02-16T15:22:12.701951",
     "status": "completed"
    },
    "tags": []
   },
   "source": [
    "### Version update (Feb 16, 2022)\n",
    "\n",
    "- I fixed this notebook again. 😂\n",
    "\n",
    "- I saw some discussions and learned from previous released notebooks.\n",
    "\n",
    "- If this will be useful for you, I'm happy too."
   ]
  },
  {
   "cell_type": "code",
   "execution_count": 1,
   "id": "407bac5e",
   "metadata": {
    "execution": {
     "iopub.execute_input": "2022-02-16T15:22:12.740051Z",
     "iopub.status.busy": "2022-02-16T15:22:12.738880Z",
     "iopub.status.idle": "2022-02-16T15:22:12.822548Z",
     "shell.execute_reply": "2022-02-16T15:22:12.823145Z"
    },
    "papermill": {
     "duration": 0.099047,
     "end_time": "2022-02-16T15:22:12.823454",
     "exception": false,
     "start_time": "2022-02-16T15:22:12.724407",
     "status": "completed"
    },
    "tags": []
   },
   "outputs": [],
   "source": [
    "import numpy as np\n",
    "import pandas as pd\n",
    "import gc\n",
    "import os\n",
    "import time\n",
    "import random\n",
    "from tqdm.auto import tqdm"
   ]
  },
  {
   "cell_type": "code",
   "execution_count": 2,
   "id": "8f66d17c",
   "metadata": {
    "execution": {
     "iopub.execute_input": "2022-02-16T15:22:12.852879Z",
     "iopub.status.busy": "2022-02-16T15:22:12.851902Z",
     "iopub.status.idle": "2022-02-16T15:22:12.854371Z",
     "shell.execute_reply": "2022-02-16T15:22:12.853862Z"
    },
    "papermill": {
     "duration": 0.019063,
     "end_time": "2022-02-16T15:22:12.854518",
     "exception": false,
     "start_time": "2022-02-16T15:22:12.835455",
     "status": "completed"
    },
    "tags": []
   },
   "outputs": [],
   "source": [
    "def visualize_df(df):\n",
    "    print(df.shape)\n",
    "    display(df.head())"
   ]
  },
  {
   "cell_type": "code",
   "execution_count": 3,
   "id": "be25a48b",
   "metadata": {
    "execution": {
     "iopub.execute_input": "2022-02-16T15:22:12.884468Z",
     "iopub.status.busy": "2022-02-16T15:22:12.883794Z",
     "iopub.status.idle": "2022-02-16T15:23:21.792515Z",
     "shell.execute_reply": "2022-02-16T15:23:21.791927Z"
    },
    "papermill": {
     "duration": 68.925705,
     "end_time": "2022-02-16T15:23:21.792658",
     "exception": false,
     "start_time": "2022-02-16T15:22:12.866953",
     "status": "completed"
    },
    "tags": []
   },
   "outputs": [
    {
     "name": "stdout",
     "output_type": "stream",
     "text": [
      "(31788324, 5)\n"
     ]
    },
    {
     "data": {
      "text/html": [
       "<div>\n",
       "<style scoped>\n",
       "    .dataframe tbody tr th:only-of-type {\n",
       "        vertical-align: middle;\n",
       "    }\n",
       "\n",
       "    .dataframe tbody tr th {\n",
       "        vertical-align: top;\n",
       "    }\n",
       "\n",
       "    .dataframe thead th {\n",
       "        text-align: right;\n",
       "    }\n",
       "</style>\n",
       "<table border=\"1\" class=\"dataframe\">\n",
       "  <thead>\n",
       "    <tr style=\"text-align: right;\">\n",
       "      <th></th>\n",
       "      <th>t_dat</th>\n",
       "      <th>customer_id</th>\n",
       "      <th>article_id</th>\n",
       "      <th>price</th>\n",
       "      <th>sales_channel_id</th>\n",
       "    </tr>\n",
       "  </thead>\n",
       "  <tbody>\n",
       "    <tr>\n",
       "      <th>0</th>\n",
       "      <td>2018-09-20</td>\n",
       "      <td>000058a12d5b43e67d225668fa1f8d618c13dc232df0ca...</td>\n",
       "      <td>663713001</td>\n",
       "      <td>0.050831</td>\n",
       "      <td>2</td>\n",
       "    </tr>\n",
       "    <tr>\n",
       "      <th>1</th>\n",
       "      <td>2018-09-20</td>\n",
       "      <td>000058a12d5b43e67d225668fa1f8d618c13dc232df0ca...</td>\n",
       "      <td>541518023</td>\n",
       "      <td>0.030492</td>\n",
       "      <td>2</td>\n",
       "    </tr>\n",
       "    <tr>\n",
       "      <th>2</th>\n",
       "      <td>2018-09-20</td>\n",
       "      <td>00007d2de826758b65a93dd24ce629ed66842531df6699...</td>\n",
       "      <td>505221004</td>\n",
       "      <td>0.015237</td>\n",
       "      <td>2</td>\n",
       "    </tr>\n",
       "    <tr>\n",
       "      <th>3</th>\n",
       "      <td>2018-09-20</td>\n",
       "      <td>00007d2de826758b65a93dd24ce629ed66842531df6699...</td>\n",
       "      <td>685687003</td>\n",
       "      <td>0.016932</td>\n",
       "      <td>2</td>\n",
       "    </tr>\n",
       "    <tr>\n",
       "      <th>4</th>\n",
       "      <td>2018-09-20</td>\n",
       "      <td>00007d2de826758b65a93dd24ce629ed66842531df6699...</td>\n",
       "      <td>685687004</td>\n",
       "      <td>0.016932</td>\n",
       "      <td>2</td>\n",
       "    </tr>\n",
       "  </tbody>\n",
       "</table>\n",
       "</div>"
      ],
      "text/plain": [
       "        t_dat                                        customer_id  article_id  \\\n",
       "0  2018-09-20  000058a12d5b43e67d225668fa1f8d618c13dc232df0ca...   663713001   \n",
       "1  2018-09-20  000058a12d5b43e67d225668fa1f8d618c13dc232df0ca...   541518023   \n",
       "2  2018-09-20  00007d2de826758b65a93dd24ce629ed66842531df6699...   505221004   \n",
       "3  2018-09-20  00007d2de826758b65a93dd24ce629ed66842531df6699...   685687003   \n",
       "4  2018-09-20  00007d2de826758b65a93dd24ce629ed66842531df6699...   685687004   \n",
       "\n",
       "      price  sales_channel_id  \n",
       "0  0.050831                 2  \n",
       "1  0.030492                 2  \n",
       "2  0.015237                 2  \n",
       "3  0.016932                 2  \n",
       "4  0.016932                 2  "
      ]
     },
     "metadata": {},
     "output_type": "display_data"
    }
   ],
   "source": [
    "transactions_train = pd.read_csv('../input/h-and-m-personalized-fashion-recommendations/transactions_train.csv')\n",
    "visualize_df(transactions_train)"
   ]
  },
  {
   "cell_type": "code",
   "execution_count": 4,
   "id": "310138a2",
   "metadata": {
    "execution": {
     "iopub.execute_input": "2022-02-16T15:23:21.823939Z",
     "iopub.status.busy": "2022-02-16T15:23:21.823243Z",
     "iopub.status.idle": "2022-02-16T15:23:26.943932Z",
     "shell.execute_reply": "2022-02-16T15:23:26.943334Z"
    },
    "papermill": {
     "duration": 5.138624,
     "end_time": "2022-02-16T15:23:26.944129",
     "exception": false,
     "start_time": "2022-02-16T15:23:21.805505",
     "status": "completed"
    },
    "tags": []
   },
   "outputs": [
    {
     "name": "stdout",
     "output_type": "stream",
     "text": [
      "(1371980, 1)\n"
     ]
    },
    {
     "data": {
      "text/html": [
       "<div>\n",
       "<style scoped>\n",
       "    .dataframe tbody tr th:only-of-type {\n",
       "        vertical-align: middle;\n",
       "    }\n",
       "\n",
       "    .dataframe tbody tr th {\n",
       "        vertical-align: top;\n",
       "    }\n",
       "\n",
       "    .dataframe thead th {\n",
       "        text-align: right;\n",
       "    }\n",
       "</style>\n",
       "<table border=\"1\" class=\"dataframe\">\n",
       "  <thead>\n",
       "    <tr style=\"text-align: right;\">\n",
       "      <th></th>\n",
       "      <th>customer_id</th>\n",
       "    </tr>\n",
       "  </thead>\n",
       "  <tbody>\n",
       "    <tr>\n",
       "      <th>0</th>\n",
       "      <td>00000dbacae5abe5e23885899a1fa44253a17956c6d1c3...</td>\n",
       "    </tr>\n",
       "    <tr>\n",
       "      <th>1</th>\n",
       "      <td>0000423b00ade91418cceaf3b26c6af3dd342b51fd051e...</td>\n",
       "    </tr>\n",
       "    <tr>\n",
       "      <th>2</th>\n",
       "      <td>000058a12d5b43e67d225668fa1f8d618c13dc232df0ca...</td>\n",
       "    </tr>\n",
       "    <tr>\n",
       "      <th>3</th>\n",
       "      <td>00005ca1c9ed5f5146b52ac8639a40ca9d57aeff4d1bd2...</td>\n",
       "    </tr>\n",
       "    <tr>\n",
       "      <th>4</th>\n",
       "      <td>00006413d8573cd20ed7128e53b7b13819fe5cfc2d801f...</td>\n",
       "    </tr>\n",
       "  </tbody>\n",
       "</table>\n",
       "</div>"
      ],
      "text/plain": [
       "                                         customer_id\n",
       "0  00000dbacae5abe5e23885899a1fa44253a17956c6d1c3...\n",
       "1  0000423b00ade91418cceaf3b26c6af3dd342b51fd051e...\n",
       "2  000058a12d5b43e67d225668fa1f8d618c13dc232df0ca...\n",
       "3  00005ca1c9ed5f5146b52ac8639a40ca9d57aeff4d1bd2...\n",
       "4  00006413d8573cd20ed7128e53b7b13819fe5cfc2d801f..."
      ]
     },
     "metadata": {},
     "output_type": "display_data"
    }
   ],
   "source": [
    "sub = pd.read_csv('../input/h-and-m-personalized-fashion-recommendations/sample_submission.csv')\n",
    "del sub['prediction']; gc.collect()\n",
    "visualize_df(sub)"
   ]
  },
  {
   "cell_type": "code",
   "execution_count": 5,
   "id": "170a88b2",
   "metadata": {
    "execution": {
     "iopub.execute_input": "2022-02-16T15:23:26.978169Z",
     "iopub.status.busy": "2022-02-16T15:23:26.977523Z",
     "iopub.status.idle": "2022-02-16T15:23:26.980163Z",
     "shell.execute_reply": "2022-02-16T15:23:26.979637Z"
    },
    "papermill": {
     "duration": 0.021532,
     "end_time": "2022-02-16T15:23:26.980294",
     "exception": false,
     "start_time": "2022-02-16T15:23:26.958762",
     "status": "completed"
    },
    "tags": []
   },
   "outputs": [],
   "source": [
    "# transactions_train['t_dat'].unique()[-7:]\n",
    "\n",
    "# array(['2020-09-16', '2020-09-17', '2020-09-18', '2020-09-19',\n",
    "#       '2020-09-20', '2020-09-21', '2020-09-22'], dtype=object)"
   ]
  },
  {
   "cell_type": "code",
   "execution_count": 6,
   "id": "33db6aa7",
   "metadata": {
    "execution": {
     "iopub.execute_input": "2022-02-16T15:23:27.015130Z",
     "iopub.status.busy": "2022-02-16T15:23:27.014469Z",
     "iopub.status.idle": "2022-02-16T15:23:39.677113Z",
     "shell.execute_reply": "2022-02-16T15:23:39.677597Z"
    },
    "papermill": {
     "duration": 12.682873,
     "end_time": "2022-02-16T15:23:39.677769",
     "exception": false,
     "start_time": "2022-02-16T15:23:26.994896",
     "status": "completed"
    },
    "tags": []
   },
   "outputs": [
    {
     "name": "stdout",
     "output_type": "stream",
     "text": [
      "(31548013, 5)\n"
     ]
    },
    {
     "data": {
      "text/html": [
       "<div>\n",
       "<style scoped>\n",
       "    .dataframe tbody tr th:only-of-type {\n",
       "        vertical-align: middle;\n",
       "    }\n",
       "\n",
       "    .dataframe tbody tr th {\n",
       "        vertical-align: top;\n",
       "    }\n",
       "\n",
       "    .dataframe thead th {\n",
       "        text-align: right;\n",
       "    }\n",
       "</style>\n",
       "<table border=\"1\" class=\"dataframe\">\n",
       "  <thead>\n",
       "    <tr style=\"text-align: right;\">\n",
       "      <th></th>\n",
       "      <th>t_dat</th>\n",
       "      <th>customer_id</th>\n",
       "      <th>article_id</th>\n",
       "      <th>price</th>\n",
       "      <th>sales_channel_id</th>\n",
       "    </tr>\n",
       "  </thead>\n",
       "  <tbody>\n",
       "    <tr>\n",
       "      <th>0</th>\n",
       "      <td>2018-09-20</td>\n",
       "      <td>000058a12d5b43e67d225668fa1f8d618c13dc232df0ca...</td>\n",
       "      <td>663713001</td>\n",
       "      <td>0.050831</td>\n",
       "      <td>2</td>\n",
       "    </tr>\n",
       "    <tr>\n",
       "      <th>1</th>\n",
       "      <td>2018-09-20</td>\n",
       "      <td>000058a12d5b43e67d225668fa1f8d618c13dc232df0ca...</td>\n",
       "      <td>541518023</td>\n",
       "      <td>0.030492</td>\n",
       "      <td>2</td>\n",
       "    </tr>\n",
       "    <tr>\n",
       "      <th>2</th>\n",
       "      <td>2018-09-20</td>\n",
       "      <td>00007d2de826758b65a93dd24ce629ed66842531df6699...</td>\n",
       "      <td>505221004</td>\n",
       "      <td>0.015237</td>\n",
       "      <td>2</td>\n",
       "    </tr>\n",
       "    <tr>\n",
       "      <th>3</th>\n",
       "      <td>2018-09-20</td>\n",
       "      <td>00007d2de826758b65a93dd24ce629ed66842531df6699...</td>\n",
       "      <td>685687003</td>\n",
       "      <td>0.016932</td>\n",
       "      <td>2</td>\n",
       "    </tr>\n",
       "    <tr>\n",
       "      <th>4</th>\n",
       "      <td>2018-09-20</td>\n",
       "      <td>00007d2de826758b65a93dd24ce629ed66842531df6699...</td>\n",
       "      <td>685687004</td>\n",
       "      <td>0.016932</td>\n",
       "      <td>2</td>\n",
       "    </tr>\n",
       "  </tbody>\n",
       "</table>\n",
       "</div>"
      ],
      "text/plain": [
       "        t_dat                                        customer_id  article_id  \\\n",
       "0  2018-09-20  000058a12d5b43e67d225668fa1f8d618c13dc232df0ca...   663713001   \n",
       "1  2018-09-20  000058a12d5b43e67d225668fa1f8d618c13dc232df0ca...   541518023   \n",
       "2  2018-09-20  00007d2de826758b65a93dd24ce629ed66842531df6699...   505221004   \n",
       "3  2018-09-20  00007d2de826758b65a93dd24ce629ed66842531df6699...   685687003   \n",
       "4  2018-09-20  00007d2de826758b65a93dd24ce629ed66842531df6699...   685687004   \n",
       "\n",
       "      price  sales_channel_id  \n",
       "0  0.050831                 2  \n",
       "1  0.030492                 2  \n",
       "2  0.015237                 2  \n",
       "3  0.016932                 2  \n",
       "4  0.016932                 2  "
      ]
     },
     "metadata": {},
     "output_type": "display_data"
    },
    {
     "name": "stdout",
     "output_type": "stream",
     "text": [
      "(240311, 5)\n"
     ]
    },
    {
     "data": {
      "text/html": [
       "<div>\n",
       "<style scoped>\n",
       "    .dataframe tbody tr th:only-of-type {\n",
       "        vertical-align: middle;\n",
       "    }\n",
       "\n",
       "    .dataframe tbody tr th {\n",
       "        vertical-align: top;\n",
       "    }\n",
       "\n",
       "    .dataframe thead th {\n",
       "        text-align: right;\n",
       "    }\n",
       "</style>\n",
       "<table border=\"1\" class=\"dataframe\">\n",
       "  <thead>\n",
       "    <tr style=\"text-align: right;\">\n",
       "      <th></th>\n",
       "      <th>t_dat</th>\n",
       "      <th>customer_id</th>\n",
       "      <th>article_id</th>\n",
       "      <th>price</th>\n",
       "      <th>sales_channel_id</th>\n",
       "    </tr>\n",
       "  </thead>\n",
       "  <tbody>\n",
       "    <tr>\n",
       "      <th>0</th>\n",
       "      <td>2020-09-16</td>\n",
       "      <td>000fb6e772c5d0023892065e659963da90b1866035558e...</td>\n",
       "      <td>786022008</td>\n",
       "      <td>0.048441</td>\n",
       "      <td>2</td>\n",
       "    </tr>\n",
       "    <tr>\n",
       "      <th>1</th>\n",
       "      <td>2020-09-16</td>\n",
       "      <td>000fb6e772c5d0023892065e659963da90b1866035558e...</td>\n",
       "      <td>913272003</td>\n",
       "      <td>0.032288</td>\n",
       "      <td>2</td>\n",
       "    </tr>\n",
       "    <tr>\n",
       "      <th>2</th>\n",
       "      <td>2020-09-16</td>\n",
       "      <td>000fb6e772c5d0023892065e659963da90b1866035558e...</td>\n",
       "      <td>889669006</td>\n",
       "      <td>0.056508</td>\n",
       "      <td>2</td>\n",
       "    </tr>\n",
       "    <tr>\n",
       "      <th>3</th>\n",
       "      <td>2020-09-16</td>\n",
       "      <td>0010e8eb18f131e724d6997909af0808adbba057529edb...</td>\n",
       "      <td>237347060</td>\n",
       "      <td>0.033881</td>\n",
       "      <td>1</td>\n",
       "    </tr>\n",
       "    <tr>\n",
       "      <th>4</th>\n",
       "      <td>2020-09-16</td>\n",
       "      <td>0010e8eb18f131e724d6997909af0808adbba057529edb...</td>\n",
       "      <td>562245001</td>\n",
       "      <td>0.013542</td>\n",
       "      <td>1</td>\n",
       "    </tr>\n",
       "  </tbody>\n",
       "</table>\n",
       "</div>"
      ],
      "text/plain": [
       "        t_dat                                        customer_id  article_id  \\\n",
       "0  2020-09-16  000fb6e772c5d0023892065e659963da90b1866035558e...   786022008   \n",
       "1  2020-09-16  000fb6e772c5d0023892065e659963da90b1866035558e...   913272003   \n",
       "2  2020-09-16  000fb6e772c5d0023892065e659963da90b1866035558e...   889669006   \n",
       "3  2020-09-16  0010e8eb18f131e724d6997909af0808adbba057529edb...   237347060   \n",
       "4  2020-09-16  0010e8eb18f131e724d6997909af0808adbba057529edb...   562245001   \n",
       "\n",
       "      price  sales_channel_id  \n",
       "0  0.048441                 2  \n",
       "1  0.032288                 2  \n",
       "2  0.056508                 2  \n",
       "3  0.033881                 1  \n",
       "4  0.013542                 1  "
      ]
     },
     "metadata": {},
     "output_type": "display_data"
    }
   ],
   "source": [
    "val_start_date = '2020-09-16'\n",
    "\n",
    "train_data = transactions_train.query(f\"t_dat < '{val_start_date}'\").reset_index(drop=True)\n",
    "valid_data = transactions_train.query(f\"t_dat >= '{val_start_date}'\").reset_index(drop=True)\n",
    "\n",
    "visualize_df(train_data)\n",
    "visualize_df(valid_data)"
   ]
  },
  {
   "cell_type": "code",
   "execution_count": 7,
   "id": "b4b36a35",
   "metadata": {
    "execution": {
     "iopub.execute_input": "2022-02-16T15:23:41.861683Z",
     "iopub.status.busy": "2022-02-16T15:23:40.335634Z",
     "iopub.status.idle": "2022-02-16T15:24:40.008390Z",
     "shell.execute_reply": "2022-02-16T15:24:40.007492Z"
    },
    "papermill": {
     "duration": 60.314667,
     "end_time": "2022-02-16T15:24:40.008784",
     "exception": false,
     "start_time": "2022-02-16T15:23:39.694117",
     "status": "completed"
    },
    "tags": []
   },
   "outputs": [
    {
     "name": "stdout",
     "output_type": "stream",
     "text": [
      "(1356709, 3)\n"
     ]
    },
    {
     "data": {
      "text/html": [
       "<div>\n",
       "<style scoped>\n",
       "    .dataframe tbody tr th:only-of-type {\n",
       "        vertical-align: middle;\n",
       "    }\n",
       "\n",
       "    .dataframe tbody tr th {\n",
       "        vertical-align: top;\n",
       "    }\n",
       "\n",
       "    .dataframe thead th {\n",
       "        text-align: right;\n",
       "    }\n",
       "</style>\n",
       "<table border=\"1\" class=\"dataframe\">\n",
       "  <thead>\n",
       "    <tr style=\"text-align: right;\">\n",
       "      <th></th>\n",
       "      <th>customer_id</th>\n",
       "      <th>article_id</th>\n",
       "      <th>valid_pred</th>\n",
       "    </tr>\n",
       "  </thead>\n",
       "  <tbody>\n",
       "    <tr>\n",
       "      <th>0</th>\n",
       "      <td>00000dbacae5abe5e23885899a1fa44253a17956c6d1c3...</td>\n",
       "      <td>[625548001, 176209023, 627759010, 697138006, 5...</td>\n",
       "      <td>0625548001 0176209023 0627759010 0697138006 05...</td>\n",
       "    </tr>\n",
       "    <tr>\n",
       "      <th>1</th>\n",
       "      <td>0000423b00ade91418cceaf3b26c6af3dd342b51fd051e...</td>\n",
       "      <td>[583558001, 639677008, 640244003, 521269001, 6...</td>\n",
       "      <td>0583558001 0639677008 0640244003 0521269001 06...</td>\n",
       "    </tr>\n",
       "    <tr>\n",
       "      <th>2</th>\n",
       "      <td>000058a12d5b43e67d225668fa1f8d618c13dc232df0ca...</td>\n",
       "      <td>[663713001, 541518023, 663713001, 578020002, 7...</td>\n",
       "      <td>0663713001 0541518023 0663713001 0578020002 07...</td>\n",
       "    </tr>\n",
       "    <tr>\n",
       "      <th>3</th>\n",
       "      <td>00005ca1c9ed5f5146b52ac8639a40ca9d57aeff4d1bd2...</td>\n",
       "      <td>[742079001, 732413001]</td>\n",
       "      <td>0742079001 0732413001</td>\n",
       "    </tr>\n",
       "    <tr>\n",
       "      <th>4</th>\n",
       "      <td>00006413d8573cd20ed7128e53b7b13819fe5cfc2d801f...</td>\n",
       "      <td>[634249005, 677049001, 698286003, 707704003, 3...</td>\n",
       "      <td>0634249005 0677049001 0698286003 0707704003 03...</td>\n",
       "    </tr>\n",
       "  </tbody>\n",
       "</table>\n",
       "</div>"
      ],
      "text/plain": [
       "                                         customer_id  \\\n",
       "0  00000dbacae5abe5e23885899a1fa44253a17956c6d1c3...   \n",
       "1  0000423b00ade91418cceaf3b26c6af3dd342b51fd051e...   \n",
       "2  000058a12d5b43e67d225668fa1f8d618c13dc232df0ca...   \n",
       "3  00005ca1c9ed5f5146b52ac8639a40ca9d57aeff4d1bd2...   \n",
       "4  00006413d8573cd20ed7128e53b7b13819fe5cfc2d801f...   \n",
       "\n",
       "                                          article_id  \\\n",
       "0  [625548001, 176209023, 627759010, 697138006, 5...   \n",
       "1  [583558001, 639677008, 640244003, 521269001, 6...   \n",
       "2  [663713001, 541518023, 663713001, 578020002, 7...   \n",
       "3                             [742079001, 732413001]   \n",
       "4  [634249005, 677049001, 698286003, 707704003, 3...   \n",
       "\n",
       "                                          valid_pred  \n",
       "0  0625548001 0176209023 0627759010 0697138006 05...  \n",
       "1  0583558001 0639677008 0640244003 0521269001 06...  \n",
       "2  0663713001 0541518023 0663713001 0578020002 07...  \n",
       "3                              0742079001 0732413001  \n",
       "4  0634249005 0677049001 0698286003 0707704003 03...  "
      ]
     },
     "metadata": {},
     "output_type": "display_data"
    }
   ],
   "source": [
    "train_unq = train_data.groupby('customer_id')['article_id'].apply(list).reset_index()\n",
    "train_unq['valid_pred'] = train_unq['article_id'].map(lambda x: '0'+' 0'.join(str(x)[1:-1].split(', ')))\n",
    "visualize_df(train_unq)"
   ]
  },
  {
   "cell_type": "code",
   "execution_count": 8,
   "id": "67c74533",
   "metadata": {
    "execution": {
     "iopub.execute_input": "2022-02-16T15:24:40.067623Z",
     "iopub.status.busy": "2022-02-16T15:24:40.066549Z",
     "iopub.status.idle": "2022-02-16T15:24:43.116719Z",
     "shell.execute_reply": "2022-02-16T15:24:43.117241Z"
    },
    "papermill": {
     "duration": 3.080222,
     "end_time": "2022-02-16T15:24:43.117409",
     "exception": false,
     "start_time": "2022-02-16T15:24:40.037187",
     "status": "completed"
    },
    "tags": []
   },
   "outputs": [
    {
     "name": "stdout",
     "output_type": "stream",
     "text": [
      "(68984, 3)\n"
     ]
    },
    {
     "data": {
      "text/html": [
       "<div>\n",
       "<style scoped>\n",
       "    .dataframe tbody tr th:only-of-type {\n",
       "        vertical-align: middle;\n",
       "    }\n",
       "\n",
       "    .dataframe tbody tr th {\n",
       "        vertical-align: top;\n",
       "    }\n",
       "\n",
       "    .dataframe thead th {\n",
       "        text-align: right;\n",
       "    }\n",
       "</style>\n",
       "<table border=\"1\" class=\"dataframe\">\n",
       "  <thead>\n",
       "    <tr style=\"text-align: right;\">\n",
       "      <th></th>\n",
       "      <th>customer_id</th>\n",
       "      <th>article_id</th>\n",
       "      <th>valid_true</th>\n",
       "    </tr>\n",
       "  </thead>\n",
       "  <tbody>\n",
       "    <tr>\n",
       "      <th>0</th>\n",
       "      <td>00039306476aaf41a07fed942884f16b30abfa83a2a8be...</td>\n",
       "      <td>[624486001]</td>\n",
       "      <td>0624486001</td>\n",
       "    </tr>\n",
       "    <tr>\n",
       "      <th>1</th>\n",
       "      <td>0003e867a930d0d6842f923d6ba7c9b77aba33fe2a0fbf...</td>\n",
       "      <td>[827487003]</td>\n",
       "      <td>0827487003</td>\n",
       "    </tr>\n",
       "    <tr>\n",
       "      <th>2</th>\n",
       "      <td>000493dd9fc463df1acc2081450c9e75ef8e87d5dd17ed...</td>\n",
       "      <td>[757926001, 788575004, 640021019]</td>\n",
       "      <td>0757926001 0788575004 0640021019</td>\n",
       "    </tr>\n",
       "    <tr>\n",
       "      <th>3</th>\n",
       "      <td>000525e3fe01600d717da8423643a8303390a055c578ed...</td>\n",
       "      <td>[874110016]</td>\n",
       "      <td>0874110016</td>\n",
       "    </tr>\n",
       "    <tr>\n",
       "      <th>4</th>\n",
       "      <td>00077dbd5c4a4991e092e63893ccf29294a9d5c46e8501...</td>\n",
       "      <td>[903762001, 879189005, 158340001, 867966009, 9...</td>\n",
       "      <td>0903762001 0879189005 0158340001 0867966009 09...</td>\n",
       "    </tr>\n",
       "  </tbody>\n",
       "</table>\n",
       "</div>"
      ],
      "text/plain": [
       "                                         customer_id  \\\n",
       "0  00039306476aaf41a07fed942884f16b30abfa83a2a8be...   \n",
       "1  0003e867a930d0d6842f923d6ba7c9b77aba33fe2a0fbf...   \n",
       "2  000493dd9fc463df1acc2081450c9e75ef8e87d5dd17ed...   \n",
       "3  000525e3fe01600d717da8423643a8303390a055c578ed...   \n",
       "4  00077dbd5c4a4991e092e63893ccf29294a9d5c46e8501...   \n",
       "\n",
       "                                          article_id  \\\n",
       "0                                        [624486001]   \n",
       "1                                        [827487003]   \n",
       "2                  [757926001, 788575004, 640021019]   \n",
       "3                                        [874110016]   \n",
       "4  [903762001, 879189005, 158340001, 867966009, 9...   \n",
       "\n",
       "                                          valid_true  \n",
       "0                                         0624486001  \n",
       "1                                         0827487003  \n",
       "2                   0757926001 0788575004 0640021019  \n",
       "3                                         0874110016  \n",
       "4  0903762001 0879189005 0158340001 0867966009 09...  "
      ]
     },
     "metadata": {},
     "output_type": "display_data"
    }
   ],
   "source": [
    "valid_unq = valid_data.groupby('customer_id')['article_id'].apply(list).reset_index()\n",
    "valid_unq['valid_true'] = valid_unq['article_id'].map(lambda x: '0'+' 0'.join(str(x)[1:-1].split(', ')))\n",
    "visualize_df(valid_unq)"
   ]
  },
  {
   "cell_type": "code",
   "execution_count": 9,
   "id": "b779f5d5",
   "metadata": {
    "execution": {
     "iopub.execute_input": "2022-02-16T15:24:43.162790Z",
     "iopub.status.busy": "2022-02-16T15:24:43.161619Z",
     "iopub.status.idle": "2022-02-16T15:24:50.737252Z",
     "shell.execute_reply": "2022-02-16T15:24:50.737790Z"
    },
    "papermill": {
     "duration": 7.602128,
     "end_time": "2022-02-16T15:24:50.737956",
     "exception": false,
     "start_time": "2022-02-16T15:24:43.135828",
     "status": "completed"
    },
    "tags": []
   },
   "outputs": [
    {
     "data": {
      "text/html": [
       "<div>\n",
       "<style scoped>\n",
       "    .dataframe tbody tr th:only-of-type {\n",
       "        vertical-align: middle;\n",
       "    }\n",
       "\n",
       "    .dataframe tbody tr th {\n",
       "        vertical-align: top;\n",
       "    }\n",
       "\n",
       "    .dataframe thead th {\n",
       "        text-align: right;\n",
       "    }\n",
       "</style>\n",
       "<table border=\"1\" class=\"dataframe\">\n",
       "  <thead>\n",
       "    <tr style=\"text-align: right;\">\n",
       "      <th></th>\n",
       "      <th>customer_id</th>\n",
       "      <th>valid_pred</th>\n",
       "      <th>valid_true</th>\n",
       "    </tr>\n",
       "  </thead>\n",
       "  <tbody>\n",
       "    <tr>\n",
       "      <th>0</th>\n",
       "      <td>00000dbacae5abe5e23885899a1fa44253a17956c6d1c3...</td>\n",
       "      <td>0625548001 0176209023 0627759010 0697138006 05...</td>\n",
       "      <td></td>\n",
       "    </tr>\n",
       "    <tr>\n",
       "      <th>1</th>\n",
       "      <td>0000423b00ade91418cceaf3b26c6af3dd342b51fd051e...</td>\n",
       "      <td>0583558001 0639677008 0640244003 0521269001 06...</td>\n",
       "      <td></td>\n",
       "    </tr>\n",
       "    <tr>\n",
       "      <th>2</th>\n",
       "      <td>000058a12d5b43e67d225668fa1f8d618c13dc232df0ca...</td>\n",
       "      <td>0663713001 0541518023 0663713001 0578020002 07...</td>\n",
       "      <td></td>\n",
       "    </tr>\n",
       "    <tr>\n",
       "      <th>3</th>\n",
       "      <td>00005ca1c9ed5f5146b52ac8639a40ca9d57aeff4d1bd2...</td>\n",
       "      <td>0742079001 0732413001</td>\n",
       "      <td></td>\n",
       "    </tr>\n",
       "    <tr>\n",
       "      <th>4</th>\n",
       "      <td>00006413d8573cd20ed7128e53b7b13819fe5cfc2d801f...</td>\n",
       "      <td>0634249005 0677049001 0698286003 0707704003 03...</td>\n",
       "      <td></td>\n",
       "    </tr>\n",
       "  </tbody>\n",
       "</table>\n",
       "</div>"
      ],
      "text/plain": [
       "                                         customer_id  \\\n",
       "0  00000dbacae5abe5e23885899a1fa44253a17956c6d1c3...   \n",
       "1  0000423b00ade91418cceaf3b26c6af3dd342b51fd051e...   \n",
       "2  000058a12d5b43e67d225668fa1f8d618c13dc232df0ca...   \n",
       "3  00005ca1c9ed5f5146b52ac8639a40ca9d57aeff4d1bd2...   \n",
       "4  00006413d8573cd20ed7128e53b7b13819fe5cfc2d801f...   \n",
       "\n",
       "                                          valid_pred valid_true  \n",
       "0  0625548001 0176209023 0627759010 0697138006 05...             \n",
       "1  0583558001 0639677008 0640244003 0521269001 06...             \n",
       "2  0663713001 0541518023 0663713001 0578020002 07...             \n",
       "3                              0742079001 0732413001             \n",
       "4  0634249005 0677049001 0698286003 0707704003 03...             "
      ]
     },
     "execution_count": 9,
     "metadata": {},
     "output_type": "execute_result"
    }
   ],
   "source": [
    "merged = pd.merge(sub, train_unq, on='customer_id', how='left').fillna('')\n",
    "merged = pd.merge(merged, valid_unq, on='customer_id', how='left').fillna('')\n",
    "\n",
    "del merged['article_id_x'], merged['article_id_y']; gc.collect()\n",
    "merged.head()"
   ]
  },
  {
   "cell_type": "code",
   "execution_count": 10,
   "id": "154becf7",
   "metadata": {
    "execution": {
     "iopub.execute_input": "2022-02-16T15:24:50.779622Z",
     "iopub.status.busy": "2022-02-16T15:24:50.778895Z",
     "iopub.status.idle": "2022-02-16T15:24:50.787642Z",
     "shell.execute_reply": "2022-02-16T15:24:50.788135Z"
    },
    "papermill": {
     "duration": 0.031494,
     "end_time": "2022-02-16T15:24:50.788310",
     "exception": false,
     "start_time": "2022-02-16T15:24:50.756816",
     "status": "completed"
    },
    "tags": []
   },
   "outputs": [],
   "source": [
    "# https://www.kaggle.com/c/h-and-m-personalized-fashion-recommendations/discussion/306007\n",
    "# https://github.com/benhamner/Metrics/blob/master/Python/ml_metrics/average_precision.py\n",
    "\n",
    "\n",
    "def apk(actual, predicted, k=10):\n",
    "    \"\"\"\n",
    "    Computes the average precision at k.\n",
    "    This function computes the average prescision at k between two lists of\n",
    "    items.\n",
    "    Parameters\n",
    "    ----------\n",
    "    actual : list\n",
    "             A list of elements that are to be predicted (order doesn't matter)\n",
    "    predicted : list\n",
    "                A list of predicted elements (order does matter)\n",
    "    k : int, optional\n",
    "        The maximum number of predicted elements\n",
    "    Returns\n",
    "    -------\n",
    "    score : double\n",
    "            The average precision at k over the input lists\n",
    "    \"\"\"\n",
    "    if len(predicted)>k:\n",
    "        predicted = predicted[:k]\n",
    "\n",
    "    score = 0.0\n",
    "    num_hits = 0.0\n",
    "\n",
    "    for i,p in enumerate(predicted):\n",
    "        if p in actual and p not in predicted[:i]:\n",
    "            num_hits += 1.0\n",
    "            score += num_hits / (i+1.0)\n",
    "\n",
    "    if not actual:\n",
    "        return 0.0\n",
    "\n",
    "    return score / min(len(actual), k)\n",
    "\n",
    "\n",
    "def mapk(actual, predicted, k=10):\n",
    "    \"\"\"\n",
    "    Computes the mean average precision at k.\n",
    "    This function computes the mean average prescision at k between two lists\n",
    "    of lists of items.\n",
    "    Parameters\n",
    "    ----------\n",
    "    actual : list\n",
    "             A list of lists of elements that are to be predicted \n",
    "             (order doesn't matter in the lists)\n",
    "    predicted : list\n",
    "                A list of lists of predicted elements\n",
    "                (order matters in the lists)\n",
    "    k : int, optional\n",
    "        The maximum number of predicted elements\n",
    "    Returns\n",
    "    -------\n",
    "    score : double\n",
    "            The mean average precision at k over the input lists\n",
    "    \"\"\"\n",
    "    return np.mean([apk(a,p,k) for a,p in zip(actual, predicted)])"
   ]
  },
  {
   "cell_type": "code",
   "execution_count": 11,
   "id": "ac758d35",
   "metadata": {
    "execution": {
     "iopub.execute_input": "2022-02-16T15:24:50.833479Z",
     "iopub.status.busy": "2022-02-16T15:24:50.832799Z",
     "iopub.status.idle": "2022-02-16T15:25:06.200287Z",
     "shell.execute_reply": "2022-02-16T15:25:06.199646Z"
    },
    "papermill": {
     "duration": 15.389507,
     "end_time": "2022-02-16T15:25:06.200426",
     "exception": false,
     "start_time": "2022-02-16T15:24:50.810919",
     "status": "completed"
    },
    "tags": []
   },
   "outputs": [
    {
     "data": {
      "text/plain": [
       "0.00014681608404665519"
      ]
     },
     "execution_count": 11,
     "metadata": {},
     "output_type": "execute_result"
    }
   ],
   "source": [
    "tqdm.pandas()\n",
    "\n",
    "mapk(merged['valid_true'].map(lambda x: x.split()), merged['valid_pred'].map(lambda x: x.split()), k=12)"
   ]
  },
  {
   "cell_type": "markdown",
   "id": "8b1df17f",
   "metadata": {
    "papermill": {
     "duration": 0.01903,
     "end_time": "2022-02-16T15:25:06.239026",
     "exception": false,
     "start_time": "2022-02-16T15:25:06.219996",
     "status": "completed"
    },
    "tags": []
   },
   "source": [
    "#### CV is 0.000147\n",
    "\n",
    "#### Actual LB score is 0.001XX"
   ]
  },
  {
   "cell_type": "code",
   "execution_count": 12,
   "id": "1d81dd83",
   "metadata": {
    "execution": {
     "iopub.execute_input": "2022-02-16T15:25:06.285804Z",
     "iopub.status.busy": "2022-02-16T15:25:06.284286Z",
     "iopub.status.idle": "2022-02-16T15:25:26.563786Z",
     "shell.execute_reply": "2022-02-16T15:25:26.563194Z"
    },
    "papermill": {
     "duration": 20.305466,
     "end_time": "2022-02-16T15:25:26.563927",
     "exception": false,
     "start_time": "2022-02-16T15:25:06.258461",
     "status": "completed"
    },
    "tags": []
   },
   "outputs": [
    {
     "name": "stdout",
     "output_type": "stream",
     "text": [
      "(1371980, 2)\n"
     ]
    }
   ],
   "source": [
    "sub = merged[['customer_id', 'valid_pred']].copy()\n",
    "sub.columns = ['customer_id', 'prediction']\n",
    "print(sub.shape)\n",
    "\n",
    "sub.to_csv('submission.csv', index=False)"
   ]
  },
  {
   "cell_type": "code",
   "execution_count": null,
   "id": "ca7eec89",
   "metadata": {
    "papermill": {
     "duration": 0.019384,
     "end_time": "2022-02-16T15:25:26.603554",
     "exception": false,
     "start_time": "2022-02-16T15:25:26.584170",
     "status": "completed"
    },
    "tags": []
   },
   "outputs": [],
   "source": []
  }
 ],
 "metadata": {
  "kernel_info": {
   "name": "python3"
  },
  "kernelspec": {
   "display_name": "Python 3 (ipykernel)",
   "language": "python",
   "name": "python3"
  },
  "language_info": {
   "codemirror_mode": {
    "name": "ipython",
    "version": 3
   },
   "file_extension": ".py",
   "mimetype": "text/x-python",
   "name": "python",
   "nbconvert_exporter": "python",
   "pygments_lexer": "ipython3",
   "version": "3.10.2"
  },
  "nteract": {
   "version": "nteract-front-end@1.0.0"
  },
  "papermill": {
   "default_parameters": {},
   "duration": 206.629101,
   "end_time": "2022-02-16T15:25:29.336494",
   "environment_variables": {},
   "exception": null,
   "input_path": "__notebook__.ipynb",
   "output_path": "__notebook__.ipynb",
   "parameters": {},
   "start_time": "2022-02-16T15:22:02.707393",
   "version": "2.3.3"
  }
 },
 "nbformat": 4,
 "nbformat_minor": 5
}
