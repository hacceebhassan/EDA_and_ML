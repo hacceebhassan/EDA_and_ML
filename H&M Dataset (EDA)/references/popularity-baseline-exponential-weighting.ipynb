{
 "cells": [
  {
   "cell_type": "markdown",
   "id": "3bba31b4",
   "metadata": {
    "_cell_guid": "b1076dfc-b9ad-4769-8c92-a6c4dae69d19",
    "_uuid": "8f2839f25d086af736a60e9eeb907d3b93b6e0e5",
    "papermill": {
     "duration": 0.022639,
     "end_time": "2022-02-20T01:16:21.506238",
     "exception": false,
     "start_time": "2022-02-20T01:16:21.483599",
     "status": "completed"
    },
    "tags": []
   },
   "source": [
    "# H&M Recommendation: Popularity Baseline\n",
    "\n",
    "#### What we'll be doing here:\n",
    "This is a bare minimum notebook. As we have already found out, popularity and repetition is king in this competition. We'll combine these two to create a good enough baseline."
   ]
  },
  {
   "cell_type": "code",
   "execution_count": 1,
   "id": "2fdfe3f8",
   "metadata": {
    "execution": {
     "iopub.execute_input": "2022-02-20T01:16:21.555521Z",
     "iopub.status.busy": "2022-02-20T01:16:21.554334Z",
     "iopub.status.idle": "2022-02-20T01:16:21.563953Z",
     "shell.execute_reply": "2022-02-20T01:16:21.564487Z",
     "shell.execute_reply.started": "2022-02-20T01:09:53.403293Z"
    },
    "papermill": {
     "duration": 0.035567,
     "end_time": "2022-02-20T01:16:21.564781",
     "exception": false,
     "start_time": "2022-02-20T01:16:21.529214",
     "status": "completed"
    },
    "tags": []
   },
   "outputs": [],
   "source": [
    "import numpy as np\n",
    "import pandas as pd\n",
    "import os\n",
    "import glob\n",
    "#import reco\n",
    "from tqdm import tqdm\n",
    "import datetime"
   ]
  },
  {
   "cell_type": "markdown",
   "id": "ad8fc64c",
   "metadata": {
    "papermill": {
     "duration": 0.021297,
     "end_time": "2022-02-20T01:16:21.607869",
     "exception": false,
     "start_time": "2022-02-20T01:16:21.586572",
     "status": "completed"
    },
    "tags": []
   },
   "source": [
    "### Forming Train Set"
   ]
  },
  {
   "cell_type": "code",
   "execution_count": 2,
   "id": "d2e67f88",
   "metadata": {
    "execution": {
     "iopub.execute_input": "2022-02-20T01:16:21.654129Z",
     "iopub.status.busy": "2022-02-20T01:16:21.653436Z",
     "iopub.status.idle": "2022-02-20T01:17:32.349209Z",
     "shell.execute_reply": "2022-02-20T01:17:32.349747Z",
     "shell.execute_reply.started": "2022-02-20T01:09:54.292932Z"
    },
    "papermill": {
     "duration": 70.720568,
     "end_time": "2022-02-20T01:17:32.349928",
     "exception": false,
     "start_time": "2022-02-20T01:16:21.629360",
     "status": "completed"
    },
    "tags": []
   },
   "outputs": [
    {
     "data": {
      "text/html": [
       "<div>\n",
       "<style scoped>\n",
       "    .dataframe tbody tr th:only-of-type {\n",
       "        vertical-align: middle;\n",
       "    }\n",
       "\n",
       "    .dataframe tbody tr th {\n",
       "        vertical-align: top;\n",
       "    }\n",
       "\n",
       "    .dataframe thead th {\n",
       "        text-align: right;\n",
       "    }\n",
       "</style>\n",
       "<table border=\"1\" class=\"dataframe\">\n",
       "  <thead>\n",
       "    <tr style=\"text-align: right;\">\n",
       "      <th></th>\n",
       "      <th>t_dat</th>\n",
       "      <th>customer_id</th>\n",
       "      <th>article_id</th>\n",
       "      <th>price</th>\n",
       "      <th>sales_channel_id</th>\n",
       "    </tr>\n",
       "  </thead>\n",
       "  <tbody>\n",
       "    <tr>\n",
       "      <th>0</th>\n",
       "      <td>2018-09-20</td>\n",
       "      <td>000058a12d5b43e67d225668fa1f8d618c13dc232df0ca...</td>\n",
       "      <td>0663713001</td>\n",
       "      <td>0.050831</td>\n",
       "      <td>2</td>\n",
       "    </tr>\n",
       "    <tr>\n",
       "      <th>1</th>\n",
       "      <td>2018-09-20</td>\n",
       "      <td>000058a12d5b43e67d225668fa1f8d618c13dc232df0ca...</td>\n",
       "      <td>0541518023</td>\n",
       "      <td>0.030492</td>\n",
       "      <td>2</td>\n",
       "    </tr>\n",
       "    <tr>\n",
       "      <th>2</th>\n",
       "      <td>2018-09-20</td>\n",
       "      <td>00007d2de826758b65a93dd24ce629ed66842531df6699...</td>\n",
       "      <td>0505221004</td>\n",
       "      <td>0.015237</td>\n",
       "      <td>2</td>\n",
       "    </tr>\n",
       "    <tr>\n",
       "      <th>3</th>\n",
       "      <td>2018-09-20</td>\n",
       "      <td>00007d2de826758b65a93dd24ce629ed66842531df6699...</td>\n",
       "      <td>0685687003</td>\n",
       "      <td>0.016932</td>\n",
       "      <td>2</td>\n",
       "    </tr>\n",
       "    <tr>\n",
       "      <th>4</th>\n",
       "      <td>2018-09-20</td>\n",
       "      <td>00007d2de826758b65a93dd24ce629ed66842531df6699...</td>\n",
       "      <td>0685687004</td>\n",
       "      <td>0.016932</td>\n",
       "      <td>2</td>\n",
       "    </tr>\n",
       "  </tbody>\n",
       "</table>\n",
       "</div>"
      ],
      "text/plain": [
       "        t_dat                                        customer_id  article_id  \\\n",
       "0  2018-09-20  000058a12d5b43e67d225668fa1f8d618c13dc232df0ca...  0663713001   \n",
       "1  2018-09-20  000058a12d5b43e67d225668fa1f8d618c13dc232df0ca...  0541518023   \n",
       "2  2018-09-20  00007d2de826758b65a93dd24ce629ed66842531df6699...  0505221004   \n",
       "3  2018-09-20  00007d2de826758b65a93dd24ce629ed66842531df6699...  0685687003   \n",
       "4  2018-09-20  00007d2de826758b65a93dd24ce629ed66842531df6699...  0685687004   \n",
       "\n",
       "      price  sales_channel_id  \n",
       "0  0.050831                 2  \n",
       "1  0.030492                 2  \n",
       "2  0.015237                 2  \n",
       "3  0.016932                 2  \n",
       "4  0.016932                 2  "
      ]
     },
     "execution_count": 2,
     "metadata": {},
     "output_type": "execute_result"
    }
   ],
   "source": [
    "data = pd.read_csv(\"../input/h-and-m-personalized-fashion-recommendations/transactions_train.csv\", dtype={'article_id':str})\n",
    "data.head()"
   ]
  },
  {
   "cell_type": "markdown",
   "id": "573a1b1e",
   "metadata": {
    "papermill": {
     "duration": 0.022023,
     "end_time": "2022-02-20T01:17:32.394392",
     "exception": false,
     "start_time": "2022-02-20T01:17:32.372369",
     "status": "completed"
    },
    "tags": []
   },
   "source": [
    "We'll drop everything except the last few(up for experimentation) days. The info from previous months are not coming of much use. \n",
    "We'll keep 2 weeks as train and the last week as validation."
   ]
  },
  {
   "cell_type": "code",
   "execution_count": 3,
   "id": "9e5bd911",
   "metadata": {
    "execution": {
     "iopub.execute_input": "2022-02-20T01:17:32.449400Z",
     "iopub.status.busy": "2022-02-20T01:17:32.448475Z",
     "iopub.status.idle": "2022-02-20T01:17:48.583138Z",
     "shell.execute_reply": "2022-02-20T01:17:48.582588Z",
     "shell.execute_reply.started": "2022-02-20T01:10:53.210202Z"
    },
    "papermill": {
     "duration": 16.166712,
     "end_time": "2022-02-20T01:17:48.583309",
     "exception": false,
     "start_time": "2022-02-20T01:17:32.416597",
     "status": "completed"
    },
    "tags": []
   },
   "outputs": [
    {
     "name": "stdout",
     "output_type": "stream",
     "text": [
      "All Transactions Date Range: 2018-09-20 to 2020-09-22\n"
     ]
    }
   ],
   "source": [
    "print(\"All Transactions Date Range: {} to {}\".format(data['t_dat'].min(), data['t_dat'].max()))\n",
    "\n",
    "data[\"t_dat\"] = pd.to_datetime(data[\"t_dat\"])\n",
    "data = data.loc[data[\"t_dat\"] >= datetime.datetime(2020,9,1)]\n",
    "\n",
    "split_date = datetime.datetime(2020,9,15)\n",
    "val = data.loc[data['t_dat'] > split_date, :]\n",
    "train = data.loc[data['t_dat'] <= split_date, :]"
   ]
  },
  {
   "cell_type": "markdown",
   "id": "178bb111",
   "metadata": {
    "papermill": {
     "duration": 0.022364,
     "end_time": "2022-02-20T01:17:48.628414",
     "exception": false,
     "start_time": "2022-02-20T01:17:48.606050",
     "status": "completed"
    },
    "tags": []
   },
   "source": [
    "Items which an user has bought in our train set time."
   ]
  },
  {
   "cell_type": "code",
   "execution_count": 4,
   "id": "31c8a928",
   "metadata": {
    "execution": {
     "iopub.execute_input": "2022-02-20T01:17:48.679203Z",
     "iopub.status.busy": "2022-02-20T01:17:48.678245Z",
     "iopub.status.idle": "2022-02-20T01:17:52.230538Z",
     "shell.execute_reply": "2022-02-20T01:17:52.231035Z",
     "shell.execute_reply.started": "2022-02-20T01:12:08.776541Z"
    },
    "papermill": {
     "duration": 3.580084,
     "end_time": "2022-02-20T01:17:52.231224",
     "exception": false,
     "start_time": "2022-02-20T01:17:48.651140",
     "status": "completed"
    },
    "tags": []
   },
   "outputs": [
    {
     "data": {
      "text/plain": [
       "customer_id\n",
       "00000dbacae5abe5e23885899a1fa44253a17956c6d1c3d25f88aa139fdfc657                                         [0568601043]\n",
       "000058a12d5b43e67d225668fa1f8d618c13dc232df0cad8ffe7ad4a1091e318                                         [0794321007]\n",
       "0000757967448a6cb83efb3ea7a3fb9d418ac7adf2379d8cd0c725276a467a2a                             [0719530003, 0448509014]\n",
       "000172a9c322560c849754ffbdfdb2180d408aa7176b943f957804686be8e1f0                 [0685814001, 0685814001, 0685814001]\n",
       "0001d44dbe7f6c4b35200abdb052c77a87596fe1bdcc37e011580a479e80aa94    [0777148006, 0835801001, 0923134005, 086592900...\n",
       "                                                                                          ...                        \n",
       "fffcc686584b3388a3afe410e3555e3557f556382b2f60c221d51914093e167b     [0817067002, 0840604001, 0723469001, 0416961006]\n",
       "fffd0248a95c2e49fee876ff93598e2e20839e51b9b7678aab75d9e8f9f3c6c8    [0509091057, 0859737002, 0573085028, 074568600...\n",
       "fffef3b6b73545df065b521e19f64bf6fe93bfd450ab20e02ce5d1e58a8f700b    [0910601003, 0873276003, 0905365002, 090536500...\n",
       "ffffbbf78b6eaac697a8a5dfbfd2bfa8113ee5b403e4747568cac33e8c541831    [0713997002, 0720125039, 0740922009, 079158700...\n",
       "ffffcf35913a0bee60e8741cb2b4e78b8a98ee5ff2e6a1778d0116cffd259264     [0689365050, 0884081001, 0794819001, 0762846027]\n",
       "Name: article_id, Length: 142033, dtype: object"
      ]
     },
     "execution_count": 4,
     "metadata": {},
     "output_type": "execute_result"
    }
   ],
   "source": [
    "# List of all purchases per user (has repetitions)\n",
    "positive_items_per_user = train.groupby(['customer_id'])['article_id'].apply(list)\n",
    "positive_items_per_user"
   ]
  },
  {
   "cell_type": "markdown",
   "id": "4b6313a6",
   "metadata": {
    "papermill": {
     "duration": 0.024545,
     "end_time": "2022-02-20T01:17:52.279902",
     "exception": false,
     "start_time": "2022-02-20T01:17:52.255357",
     "status": "completed"
    },
    "tags": []
   },
   "source": [
    "Next we do exponential weighting based popularity for items. This leads to items bought more recently having more weight in the popularity list."
   ]
  },
  {
   "cell_type": "code",
   "execution_count": 5,
   "id": "0233dfa7",
   "metadata": {
    "execution": {
     "iopub.execute_input": "2022-02-20T01:17:52.329032Z",
     "iopub.status.busy": "2022-02-20T01:17:52.328364Z",
     "iopub.status.idle": "2022-02-20T01:18:05.038607Z",
     "shell.execute_reply": "2022-02-20T01:18:05.039105Z",
     "shell.execute_reply.started": "2022-02-20T01:12:30.565331Z"
    },
    "papermill": {
     "duration": 12.736656,
     "end_time": "2022-02-20T01:18:05.039425",
     "exception": false,
     "start_time": "2022-02-20T01:17:52.302769",
     "status": "completed"
    },
    "tags": []
   },
   "outputs": [
    {
     "name": "stderr",
     "output_type": "stream",
     "text": [
      "/opt/conda/lib/python3.7/site-packages/ipykernel_launcher.py:1: SettingWithCopyWarning: \n",
      "A value is trying to be set on a copy of a slice from a DataFrame.\n",
      "Try using .loc[row_indexer,col_indexer] = value instead\n",
      "\n",
      "See the caveats in the documentation: https://pandas.pydata.org/pandas-docs/stable/user_guide/indexing.html#returning-a-view-versus-a-copy\n",
      "  \"\"\"Entry point for launching an IPython kernel.\n"
     ]
    },
    {
     "data": {
      "text/plain": [
       "count    5.579580e+05\n",
       "mean     3.002452e-02\n",
       "std      8.126532e-02\n",
       "min      3.059023e-07\n",
       "25%      6.144212e-06\n",
       "50%      3.354626e-04\n",
       "75%      6.737947e-03\n",
       "max      3.678794e-01\n",
       "Name: pop_factor, dtype: float64"
      ]
     },
     "execution_count": 5,
     "metadata": {},
     "output_type": "execute_result"
    }
   ],
   "source": [
    "train['pop_factor'] = train['t_dat'].apply(lambda x: 1/np.exp((datetime.datetime(2020,9,16) - x).days))\n",
    "popular_items_group = train.groupby(['article_id'])['pop_factor'].sum()\n",
    "_, popular_items = zip(*sorted(zip(popular_items_group, popular_items_group.keys()))[::-1])\n",
    "\n",
    "train['pop_factor'].describe()"
   ]
  },
  {
   "cell_type": "markdown",
   "id": "b0cbca9a",
   "metadata": {
    "papermill": {
     "duration": 0.024327,
     "end_time": "2022-02-20T01:18:05.090983",
     "exception": false,
     "start_time": "2022-02-20T01:18:05.066656",
     "status": "completed"
    },
    "tags": []
   },
   "source": [
    "### Moving on to Validation ..."
   ]
  },
  {
   "cell_type": "code",
   "execution_count": 6,
   "id": "b5b31dfa",
   "metadata": {
    "execution": {
     "iopub.execute_input": "2022-02-20T01:18:05.143765Z",
     "iopub.status.busy": "2022-02-20T01:18:05.143023Z",
     "iopub.status.idle": "2022-02-20T01:18:05.150222Z",
     "shell.execute_reply": "2022-02-20T01:18:05.150792Z",
     "shell.execute_reply.started": "2022-02-20T01:12:47.444400Z"
    },
    "papermill": {
     "duration": 0.035593,
     "end_time": "2022-02-20T01:18:05.150968",
     "exception": false,
     "start_time": "2022-02-20T01:18:05.115375",
     "status": "completed"
    },
    "tags": []
   },
   "outputs": [],
   "source": [
    "def apk(actual, predicted, k=12):\n",
    "    if len(predicted)>k:\n",
    "        predicted = predicted[:k]\n",
    "\n",
    "    score = 0.0\n",
    "    num_hits = 0.0\n",
    "\n",
    "    for i,p in enumerate(predicted):\n",
    "        if p in actual and p not in predicted[:i]:\n",
    "            num_hits += 1.0\n",
    "            score += num_hits / (i+1.0)\n",
    "\n",
    "    if not actual:\n",
    "        return 0.0\n",
    "\n",
    "    return score / min(len(actual), k)\n",
    "\n",
    "def mapk(actual, predicted, k=12):\n",
    "    return np.mean([apk(a,p,k) for a,p in zip(actual, predicted)])"
   ]
  },
  {
   "cell_type": "markdown",
   "id": "9b1c5c09",
   "metadata": {
    "papermill": {
     "duration": 0.023848,
     "end_time": "2022-02-20T01:18:05.199606",
     "exception": false,
     "start_time": "2022-02-20T01:18:05.175758",
     "status": "completed"
    },
    "tags": []
   },
   "source": [
    "Items bought by users in the validation period. Similar as the one for train set."
   ]
  },
  {
   "cell_type": "code",
   "execution_count": 7,
   "id": "f8b14588",
   "metadata": {
    "execution": {
     "iopub.execute_input": "2022-02-20T01:18:05.250505Z",
     "iopub.status.busy": "2022-02-20T01:18:05.249885Z",
     "iopub.status.idle": "2022-02-20T01:18:06.877671Z",
     "shell.execute_reply": "2022-02-20T01:18:06.877108Z",
     "shell.execute_reply.started": "2022-02-20T01:13:44.723502Z"
    },
    "papermill": {
     "duration": 1.654206,
     "end_time": "2022-02-20T01:18:06.877821",
     "exception": false,
     "start_time": "2022-02-20T01:18:05.223615",
     "status": "completed"
    },
    "tags": []
   },
   "outputs": [
    {
     "data": {
      "text/plain": [
       "(customer_id\n",
       " 00039306476aaf41a07fed942884f16b30abfa83a2a8bea972019098d6406793                                         [0624486001]\n",
       " 0003e867a930d0d6842f923d6ba7c9b77aba33fe2a0fbf4672f30b3e622fec55                                         [0827487003]\n",
       " 000493dd9fc463df1acc2081450c9e75ef8e87d5dd17ed6396773839f6bf71a9                 [0757926001, 0788575004, 0640021019]\n",
       " 000525e3fe01600d717da8423643a8303390a055c578ed8a97256600baf54565                                         [0874110016]\n",
       " 00077dbd5c4a4991e092e63893ccf29294a9d5c46e85010e95f2fc10bf9437a4    [0903762001, 0879189005, 0158340001, 086796600...\n",
       "                                                                                           ...                        \n",
       " fffa67737587e52ff1afa9c7c6490b5eb7acbc439fe82bd11d746ddb223dff26                             [0874816003, 0911870004]\n",
       " fffa7d7799eb390a76308454cbdd76e473d65b1497fbe44fe8cf95effea0bed7                             [0861803014, 0849886010]\n",
       " fffae8eb3a282d8c43c77dd2ca0621703b71e90904dfde2189bdd644f59071dd    [0396135007, 0817472007, 0715624050, 081747200...\n",
       " fffd870c6324ad3bda24e4d6aeae221c199479086bfdfd0eb40a3065971d0e01                             [0750423010, 0761269001]\n",
       " fffef3b6b73545df065b521e19f64bf6fe93bfd450ab20e02ce5d1e58a8f700b                                         [0898573003]\n",
       " Name: article_id, Length: 68984, dtype: object,\n",
       " 68984)"
      ]
     },
     "execution_count": 7,
     "metadata": {},
     "output_type": "execute_result"
    }
   ],
   "source": [
    "positive_items_val = val.groupby(['customer_id'])['article_id'].apply(list)\n",
    "positive_items_val, len(positive_items_val)"
   ]
  },
  {
   "cell_type": "code",
   "execution_count": 8,
   "id": "d9c4c155",
   "metadata": {
    "execution": {
     "iopub.execute_input": "2022-02-20T01:18:06.932558Z",
     "iopub.status.busy": "2022-02-20T01:18:06.931573Z",
     "iopub.status.idle": "2022-02-20T01:18:07.408412Z",
     "shell.execute_reply": "2022-02-20T01:18:07.408924Z",
     "shell.execute_reply.started": "2022-02-20T01:14:04.756827Z"
    },
    "papermill": {
     "duration": 0.504856,
     "end_time": "2022-02-20T01:18:07.409093",
     "exception": false,
     "start_time": "2022-02-20T01:18:06.904237",
     "status": "completed"
    },
    "tags": []
   },
   "outputs": [
    {
     "name": "stderr",
     "output_type": "stream",
     "text": [
      "68984it [00:00, 150889.45it/s]"
     ]
    },
    {
     "name": "stdout",
     "output_type": "stream",
     "text": [
      "Total users in validation: 68984\n"
     ]
    },
    {
     "name": "stderr",
     "output_type": "stream",
     "text": [
      "\n"
     ]
    }
   ],
   "source": [
    "# creating validation set for metrics use case\n",
    "val_users = positive_items_val.keys()\n",
    "val_items = []\n",
    "\n",
    "for i,user in tqdm(enumerate(val_users)):\n",
    "    val_items.append(positive_items_val[user])\n",
    "    \n",
    "print(\"Total users in validation:\", len(val_users))"
   ]
  },
  {
   "cell_type": "markdown",
   "id": "d8c1e0c1",
   "metadata": {
    "papermill": {
     "duration": 0.027505,
     "end_time": "2022-02-20T01:18:07.465171",
     "exception": false,
     "start_time": "2022-02-20T01:18:07.437666",
     "status": "completed"
    },
    "tags": []
   },
   "source": [
    "We'll now validate our algo on the validation set."
   ]
  },
  {
   "cell_type": "code",
   "execution_count": 9,
   "id": "b4ca850a",
   "metadata": {
    "execution": {
     "iopub.execute_input": "2022-02-20T01:18:07.529548Z",
     "iopub.status.busy": "2022-02-20T01:18:07.528782Z",
     "iopub.status.idle": "2022-02-20T01:18:08.303182Z",
     "shell.execute_reply": "2022-02-20T01:18:08.302542Z",
     "shell.execute_reply.started": "2022-02-20T01:14:12.151859Z"
    },
    "papermill": {
     "duration": 0.809686,
     "end_time": "2022-02-20T01:18:08.303352",
     "exception": false,
     "start_time": "2022-02-20T01:18:07.493666",
     "status": "completed"
    },
    "tags": []
   },
   "outputs": [
    {
     "name": "stderr",
     "output_type": "stream",
     "text": [
      "100%|██████████| 68984/68984 [00:00<00:00, 131066.18it/s]\n"
     ]
    },
    {
     "name": "stdout",
     "output_type": "stream",
     "text": [
      "mAP Score on Validation set: 0.02249134163309251\n"
     ]
    }
   ],
   "source": [
    "from collections import Counter\n",
    "outputs = []\n",
    "cnt = 0\n",
    "\n",
    "for user in tqdm(val_users):\n",
    "    if user not in positive_items_per_user.keys():\n",
    "        cnt+=1\n",
    "        outputs.append(popular_items[0:12])\n",
    "        continue\n",
    "    \n",
    "    most_common_items_of_user = [k for k, v in Counter(positive_items_per_user[user]).most_common()]\n",
    "    \n",
    "    user_output = list(most_common_items_of_user[:12])\n",
    "            \n",
    "    user_output = user_output + list(popular_items[:12 - len(user_output)])\n",
    "    outputs.append(user_output)\n",
    "    \n",
    "print(\"mAP Score on Validation set:\", mapk(val_items, outputs))"
   ]
  },
  {
   "cell_type": "markdown",
   "id": "43eb5690",
   "metadata": {
    "papermill": {
     "duration": 0.030772,
     "end_time": "2022-02-20T01:18:08.364580",
     "exception": false,
     "start_time": "2022-02-20T01:18:08.333808",
     "status": "completed"
    },
    "tags": []
   },
   "source": [
    "0.0225 mAP. Not bad! We'll now create submissions by adjusting the date ranges of the train set."
   ]
  },
  {
   "cell_type": "markdown",
   "id": "d9d0312c",
   "metadata": {
    "papermill": {
     "duration": 0.031049,
     "end_time": "2022-02-20T01:18:08.426153",
     "exception": false,
     "start_time": "2022-02-20T01:18:08.395104",
     "status": "completed"
    },
    "tags": []
   },
   "source": [
    "### Prediction on Test Set"
   ]
  },
  {
   "cell_type": "code",
   "execution_count": 10,
   "id": "597b11d4",
   "metadata": {
    "execution": {
     "iopub.execute_input": "2022-02-20T01:18:08.491271Z",
     "iopub.status.busy": "2022-02-20T01:18:08.490310Z",
     "iopub.status.idle": "2022-02-20T01:19:16.060273Z",
     "shell.execute_reply": "2022-02-20T01:19:16.060804Z",
     "shell.execute_reply.started": "2022-02-20T01:14:28.489473Z"
    },
    "papermill": {
     "duration": 67.604141,
     "end_time": "2022-02-20T01:19:16.060991",
     "exception": false,
     "start_time": "2022-02-20T01:18:08.456850",
     "status": "completed"
    },
    "tags": []
   },
   "outputs": [
    {
     "name": "stderr",
     "output_type": "stream",
     "text": [
      "/opt/conda/lib/python3.7/site-packages/ipykernel_launcher.py:8: SettingWithCopyWarning: \n",
      "A value is trying to be set on a copy of a slice from a DataFrame.\n",
      "Try using .loc[row_indexer,col_indexer] = value instead\n",
      "\n",
      "See the caveats in the documentation: https://pandas.pydata.org/pandas-docs/stable/user_guide/indexing.html#returning-a-view-versus-a-copy\n",
      "  \n"
     ]
    }
   ],
   "source": [
    "data = pd.read_csv(\"../input/h-and-m-personalized-fashion-recommendations/transactions_train.csv\", dtype={'article_id':str})\n",
    "\n",
    "data[\"t_dat\"] = pd.to_datetime(data[\"t_dat\"])\n",
    "train = data.loc[data[\"t_dat\"] >= datetime.datetime(2020,9,7)]\n",
    "\n",
    "positive_items_per_user = train.groupby(['customer_id'])['article_id'].apply(list)\n",
    "\n",
    "train['pop_factor'] = train['t_dat'].apply(lambda x: 1/np.exp((datetime.datetime(2020,9,23) - x).days))\n",
    "popular_items_group = train.groupby(['article_id'])['pop_factor'].sum()\n",
    "_, popular_items = zip(*sorted(zip(popular_items_group, popular_items_group.keys()))[::-1])"
   ]
  },
  {
   "cell_type": "code",
   "execution_count": 11,
   "id": "bc2c1278",
   "metadata": {
    "execution": {
     "iopub.execute_input": "2022-02-20T01:19:16.128103Z",
     "iopub.status.busy": "2022-02-20T01:19:16.127405Z",
     "iopub.status.idle": "2022-02-20T01:19:21.169224Z",
     "shell.execute_reply": "2022-02-20T01:19:21.169789Z",
     "shell.execute_reply.started": "2022-02-20T01:15:30.397181Z"
    },
    "papermill": {
     "duration": 5.077815,
     "end_time": "2022-02-20T01:19:21.169972",
     "exception": false,
     "start_time": "2022-02-20T01:19:16.092157",
     "status": "completed"
    },
    "tags": []
   },
   "outputs": [
    {
     "data": {
      "text/html": [
       "<div>\n",
       "<style scoped>\n",
       "    .dataframe tbody tr th:only-of-type {\n",
       "        vertical-align: middle;\n",
       "    }\n",
       "\n",
       "    .dataframe tbody tr th {\n",
       "        vertical-align: top;\n",
       "    }\n",
       "\n",
       "    .dataframe thead th {\n",
       "        text-align: right;\n",
       "    }\n",
       "</style>\n",
       "<table border=\"1\" class=\"dataframe\">\n",
       "  <thead>\n",
       "    <tr style=\"text-align: right;\">\n",
       "      <th></th>\n",
       "      <th>customer_id</th>\n",
       "      <th>prediction</th>\n",
       "    </tr>\n",
       "  </thead>\n",
       "  <tbody>\n",
       "    <tr>\n",
       "      <th>0</th>\n",
       "      <td>00000dbacae5abe5e23885899a1fa44253a17956c6d1c3...</td>\n",
       "      <td>0706016001 0706016002 0372860001 0610776002 07...</td>\n",
       "    </tr>\n",
       "    <tr>\n",
       "      <th>1</th>\n",
       "      <td>0000423b00ade91418cceaf3b26c6af3dd342b51fd051e...</td>\n",
       "      <td>0706016001 0706016002 0372860001 0610776002 07...</td>\n",
       "    </tr>\n",
       "    <tr>\n",
       "      <th>2</th>\n",
       "      <td>000058a12d5b43e67d225668fa1f8d618c13dc232df0ca...</td>\n",
       "      <td>0706016001 0706016002 0372860001 0610776002 07...</td>\n",
       "    </tr>\n",
       "    <tr>\n",
       "      <th>3</th>\n",
       "      <td>00005ca1c9ed5f5146b52ac8639a40ca9d57aeff4d1bd2...</td>\n",
       "      <td>0706016001 0706016002 0372860001 0610776002 07...</td>\n",
       "    </tr>\n",
       "    <tr>\n",
       "      <th>4</th>\n",
       "      <td>00006413d8573cd20ed7128e53b7b13819fe5cfc2d801f...</td>\n",
       "      <td>0706016001 0706016002 0372860001 0610776002 07...</td>\n",
       "    </tr>\n",
       "  </tbody>\n",
       "</table>\n",
       "</div>"
      ],
      "text/plain": [
       "                                         customer_id  \\\n",
       "0  00000dbacae5abe5e23885899a1fa44253a17956c6d1c3...   \n",
       "1  0000423b00ade91418cceaf3b26c6af3dd342b51fd051e...   \n",
       "2  000058a12d5b43e67d225668fa1f8d618c13dc232df0ca...   \n",
       "3  00005ca1c9ed5f5146b52ac8639a40ca9d57aeff4d1bd2...   \n",
       "4  00006413d8573cd20ed7128e53b7b13819fe5cfc2d801f...   \n",
       "\n",
       "                                          prediction  \n",
       "0  0706016001 0706016002 0372860001 0610776002 07...  \n",
       "1  0706016001 0706016002 0372860001 0610776002 07...  \n",
       "2  0706016001 0706016002 0372860001 0610776002 07...  \n",
       "3  0706016001 0706016002 0372860001 0610776002 07...  \n",
       "4  0706016001 0706016002 0372860001 0610776002 07...  "
      ]
     },
     "execution_count": 11,
     "metadata": {},
     "output_type": "execute_result"
    }
   ],
   "source": [
    "submission = pd.read_csv(\"../input/h-and-m-personalized-fashion-recommendations/sample_submission.csv\")\n",
    "submission.head()"
   ]
  },
  {
   "cell_type": "code",
   "execution_count": 12,
   "id": "98bb5e4e",
   "metadata": {
    "execution": {
     "iopub.execute_input": "2022-02-20T01:19:21.250402Z",
     "iopub.status.busy": "2022-02-20T01:19:21.249632Z",
     "iopub.status.idle": "2022-02-20T01:19:31.328813Z",
     "shell.execute_reply": "2022-02-20T01:19:31.328122Z",
     "shell.execute_reply.started": "2022-02-20T01:15:35.742111Z"
    },
    "papermill": {
     "duration": 10.127038,
     "end_time": "2022-02-20T01:19:31.328975",
     "exception": false,
     "start_time": "2022-02-20T01:19:21.201937",
     "status": "completed"
    },
    "tags": []
   },
   "outputs": [
    {
     "name": "stderr",
     "output_type": "stream",
     "text": [
      "100%|██████████| 1371980/1371980 [00:06<00:00, 223987.45it/s]\n"
     ]
    }
   ],
   "source": [
    "from collections import Counter\n",
    "outputs = []\n",
    "cnt = 0\n",
    "\n",
    "for user in tqdm(submission['customer_id']):\n",
    "    if user not in positive_items_per_user.keys():\n",
    "        cnt+=1\n",
    "        outputs.append(popular_items[0:12])\n",
    "        continue\n",
    "    \n",
    "    most_common_items_of_user = [k for k, v in Counter(positive_items_per_user[user]).most_common()]\n",
    "    \n",
    "    user_output = list(most_common_items_of_user[:12])\n",
    "            \n",
    "    user_output = user_output + list(popular_items[:12 - len(user_output)])\n",
    "    outputs.append(user_output)\n",
    "    \n",
    "str_outputs = []\n",
    "for output in outputs:\n",
    "    str_outputs.append(\" \".join([str(x) for x in output]))"
   ]
  },
  {
   "cell_type": "code",
   "execution_count": 13,
   "id": "eb81f193",
   "metadata": {
    "execution": {
     "iopub.execute_input": "2022-02-20T01:19:31.445621Z",
     "iopub.status.busy": "2022-02-20T01:19:31.444948Z",
     "iopub.status.idle": "2022-02-20T01:19:44.689448Z",
     "shell.execute_reply": "2022-02-20T01:19:44.688797Z",
     "shell.execute_reply.started": "2022-02-20T01:15:42.661474Z"
    },
    "papermill": {
     "duration": 13.304614,
     "end_time": "2022-02-20T01:19:44.689608",
     "exception": false,
     "start_time": "2022-02-20T01:19:31.384994",
     "status": "completed"
    },
    "tags": []
   },
   "outputs": [],
   "source": [
    "submission['prediction'] = str_outputs\n",
    "submission.to_csv(\"submissions.csv\", index=False)"
   ]
  },
  {
   "cell_type": "code",
   "execution_count": 14,
   "id": "1fad96b8",
   "metadata": {
    "execution": {
     "iopub.execute_input": "2022-02-20T01:19:44.807220Z",
     "iopub.status.busy": "2022-02-20T01:19:44.806465Z",
     "iopub.status.idle": "2022-02-20T01:19:44.815982Z",
     "shell.execute_reply": "2022-02-20T01:19:44.816583Z",
     "shell.execute_reply.started": "2022-02-20T01:15:49.250694Z"
    },
    "papermill": {
     "duration": 0.070429,
     "end_time": "2022-02-20T01:19:44.816768",
     "exception": false,
     "start_time": "2022-02-20T01:19:44.746339",
     "status": "completed"
    },
    "tags": []
   },
   "outputs": [
    {
     "data": {
      "text/html": [
       "<div>\n",
       "<style scoped>\n",
       "    .dataframe tbody tr th:only-of-type {\n",
       "        vertical-align: middle;\n",
       "    }\n",
       "\n",
       "    .dataframe tbody tr th {\n",
       "        vertical-align: top;\n",
       "    }\n",
       "\n",
       "    .dataframe thead th {\n",
       "        text-align: right;\n",
       "    }\n",
       "</style>\n",
       "<table border=\"1\" class=\"dataframe\">\n",
       "  <thead>\n",
       "    <tr style=\"text-align: right;\">\n",
       "      <th></th>\n",
       "      <th>customer_id</th>\n",
       "      <th>prediction</th>\n",
       "    </tr>\n",
       "  </thead>\n",
       "  <tbody>\n",
       "    <tr>\n",
       "      <th>0</th>\n",
       "      <td>00000dbacae5abe5e23885899a1fa44253a17956c6d1c3...</td>\n",
       "      <td>0924243002 0448509014 0751471001 0866731001 07...</td>\n",
       "    </tr>\n",
       "    <tr>\n",
       "      <th>1</th>\n",
       "      <td>0000423b00ade91418cceaf3b26c6af3dd342b51fd051e...</td>\n",
       "      <td>0924243002 0448509014 0751471001 0866731001 07...</td>\n",
       "    </tr>\n",
       "    <tr>\n",
       "      <th>2</th>\n",
       "      <td>000058a12d5b43e67d225668fa1f8d618c13dc232df0ca...</td>\n",
       "      <td>0794321007 0924243002 0448509014 0751471001 08...</td>\n",
       "    </tr>\n",
       "    <tr>\n",
       "      <th>3</th>\n",
       "      <td>00005ca1c9ed5f5146b52ac8639a40ca9d57aeff4d1bd2...</td>\n",
       "      <td>0924243002 0448509014 0751471001 0866731001 07...</td>\n",
       "    </tr>\n",
       "    <tr>\n",
       "      <th>4</th>\n",
       "      <td>00006413d8573cd20ed7128e53b7b13819fe5cfc2d801f...</td>\n",
       "      <td>0924243002 0448509014 0751471001 0866731001 07...</td>\n",
       "    </tr>\n",
       "  </tbody>\n",
       "</table>\n",
       "</div>"
      ],
      "text/plain": [
       "                                         customer_id  \\\n",
       "0  00000dbacae5abe5e23885899a1fa44253a17956c6d1c3...   \n",
       "1  0000423b00ade91418cceaf3b26c6af3dd342b51fd051e...   \n",
       "2  000058a12d5b43e67d225668fa1f8d618c13dc232df0ca...   \n",
       "3  00005ca1c9ed5f5146b52ac8639a40ca9d57aeff4d1bd2...   \n",
       "4  00006413d8573cd20ed7128e53b7b13819fe5cfc2d801f...   \n",
       "\n",
       "                                          prediction  \n",
       "0  0924243002 0448509014 0751471001 0866731001 07...  \n",
       "1  0924243002 0448509014 0751471001 0866731001 07...  \n",
       "2  0794321007 0924243002 0448509014 0751471001 08...  \n",
       "3  0924243002 0448509014 0751471001 0866731001 07...  \n",
       "4  0924243002 0448509014 0751471001 0866731001 07...  "
      ]
     },
     "execution_count": 14,
     "metadata": {},
     "output_type": "execute_result"
    }
   ],
   "source": [
    "submission.head()"
   ]
  },
  {
   "cell_type": "code",
   "execution_count": null,
   "id": "70984cca",
   "metadata": {
    "papermill": {
     "duration": 0.055848,
     "end_time": "2022-02-20T01:19:44.930361",
     "exception": false,
     "start_time": "2022-02-20T01:19:44.874513",
     "status": "completed"
    },
    "tags": []
   },
   "outputs": [],
   "source": []
  }
 ],
 "metadata": {
  "kernelspec": {
   "display_name": "Python 3",
   "language": "python",
   "name": "python3"
  },
  "language_info": {
   "codemirror_mode": {
    "name": "ipython",
    "version": 3
   },
   "file_extension": ".py",
   "mimetype": "text/x-python",
   "name": "python",
   "nbconvert_exporter": "python",
   "pygments_lexer": "ipython3",
   "version": "3.7.12"
  },
  "papermill": {
   "default_parameters": {},
   "duration": 216.033024,
   "end_time": "2022-02-20T01:19:47.596063",
   "environment_variables": {},
   "exception": null,
   "input_path": "__notebook__.ipynb",
   "output_path": "__notebook__.ipynb",
   "parameters": {},
   "start_time": "2022-02-20T01:16:11.563039",
   "version": "2.3.3"
  }
 },
 "nbformat": 4,
 "nbformat_minor": 5
}
