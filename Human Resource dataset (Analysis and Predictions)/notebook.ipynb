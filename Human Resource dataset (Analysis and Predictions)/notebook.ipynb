{
  "cells": [
    {
      "cell_type": "code",
      "execution_count": 1,
      "metadata": {
        "colab": {
          "base_uri": "https://localhost:8080/",
          "height": 122
        },
        "colab_type": "code",
        "id": "3tD8MEg25kAU",
        "outputId": "49a4cb0a-62c6-4ee1-9812-3a0e8a99de61"
      },
      "outputs": [],
      "source": [
        "#!/usr/bin/env python\n",
        "# -*- coding: utf-8 -*-\n",
        "'''\n",
        "   HR dataset EDA and ML Implmentation\n",
        "'''\n",
        "\n",
        "# Ownership\n",
        "__author__ = [\"M. Haseeb Hassan\"]\n",
        "__copyright__ = [\"Copyrights @ hacceebhassan\"]\n",
        "__license__ = \"MIT\"\n",
        "__version__ = \"1.0.1\"\n",
        "__maintainer__ = \"M. Haseeb Hassan\"\n",
        "__email__ = \"hacceebhassan@gmail.com\"\n",
        "__status__ = \"Development\""
      ]
    },
    {
      "cell_type": "markdown",
      "metadata": {
        "colab_type": "text",
        "id": "9iM1fB6y0EtL"
      },
      "source": [
        "# Human Resource Dataset (Analysis and Prediction)"
      ]
    },
    {
      "cell_type": "markdown",
      "metadata": {
        "colab_type": "text",
        "id": "8crRk0kN0EtQ"
      },
      "source": [
        "### Dataset Column Description"
      ]
    },
    {
      "cell_type": "markdown",
      "metadata": {
        "colab_type": "text",
        "id": "GfOfuwCa0EtS"
      },
      "source": [
        "- satisfacion_level: Showing satisfaction of a particular employee\n",
        "- last_evaluation: Showing last evaluation of a particular employee\n",
        "- number_project: Showing number of projects handled a particular employee\n",
        "- average_montly_hours: Showing the monthly hours that were spent the particular emloyee\n",
        "- time_spend_company: Shows the number of years spent by the particular employee in the company.\n",
        "- Work_accident: Showing an employee has whether been part of the company or not.\n",
        "- left: Tells either and employee has left the company or not. Shows two values 0= not left, 1= left\n",
        "- promotion_last_5years: Shows that the whether the employee has got any promotion in the last 5 years or not.\n",
        "- dept: Shows the departments\n",
        "- salary: Shows the salary type of the employee"
      ]
    },
    {
      "cell_type": "markdown",
      "metadata": {
        "colab_type": "text",
        "id": "X0tItOHY0EtU"
      },
      "source": [
        "# Wrangling & EDA"
      ]
    },
    {
      "cell_type": "markdown",
      "metadata": {
        "colab_type": "text",
        "id": "kb3OqKDg0EtV"
      },
      "source": [
        "## 1. Loading Packages"
      ]
    },
    {
      "cell_type": "code",
      "execution_count": null,
      "metadata": {
        "colab": {},
        "colab_type": "code",
        "id": "LgXjVvEF0EtX"
      },
      "outputs": [],
      "source": [
        "#Write code here\n",
        "import numpy as np\n",
        "import pandas as pd\n",
        "import sklearn.preprocessing \n",
        "import matplotlib.pyplot as plt\n",
        "import seaborn as sns\n",
        "%matplotlib inline\n",
        "sns.set()"
      ]
    },
    {
      "cell_type": "markdown",
      "metadata": {
        "colab_type": "text",
        "id": "95-2b4A40Eth"
      },
      "source": [
        "## 2. Loading Data & Basic Analysis"
      ]
    },
    {
      "cell_type": "markdown",
      "metadata": {
        "colab_type": "text",
        "id": "OqOR8W930Etj"
      },
      "source": [
        "- **Task 1**:Load the data and after making a copy of it, find **shape, data types, basic statistics, and null values** from the data set"
      ]
    },
    {
      "cell_type": "code",
      "execution_count": null,
      "metadata": {
        "colab": {},
        "colab_type": "code",
        "id": "4zAzc8Zq0Etk"
      },
      "outputs": [],
      "source": [
        "# Load the data\n",
        "data= pd.read_csv('data/HR_data.csv')\n",
        "df=data.copy()"
      ]
    },
    {
      "cell_type": "code",
      "execution_count": null,
      "metadata": {
        "colab": {
          "base_uri": "https://localhost:8080/",
          "height": 34
        },
        "colab_type": "code",
        "id": "D3nm7SmV0Etr",
        "outputId": "b7adfd58-93e2-4d49-a2b9-97614f104bbd"
      },
      "outputs": [
        {
          "data": {
            "text/plain": [
              "(14999, 10)"
            ]
          },
          "execution_count": 5,
          "metadata": {
            "tags": []
          },
          "output_type": "execute_result"
        }
      ],
      "source": [
        "# Find the shape\n",
        "df.shape"
      ]
    },
    {
      "cell_type": "code",
      "execution_count": null,
      "metadata": {
        "colab": {
          "base_uri": "https://localhost:8080/",
          "height": 224
        },
        "colab_type": "code",
        "id": "eiCPFvAe0Et2",
        "outputId": "7f6faaa2-2a19-4309-cc47-3f56b4db787d"
      },
      "outputs": [
        {
          "data": {
            "text/html": [
              "<div>\n",
              "<style scoped>\n",
              "    .dataframe tbody tr th:only-of-type {\n",
              "        vertical-align: middle;\n",
              "    }\n",
              "\n",
              "    .dataframe tbody tr th {\n",
              "        vertical-align: top;\n",
              "    }\n",
              "\n",
              "    .dataframe thead th {\n",
              "        text-align: right;\n",
              "    }\n",
              "</style>\n",
              "<table border=\"1\" class=\"dataframe\">\n",
              "  <thead>\n",
              "    <tr style=\"text-align: right;\">\n",
              "      <th></th>\n",
              "      <th>satisfaction_level</th>\n",
              "      <th>last_evaluation</th>\n",
              "      <th>number_project</th>\n",
              "      <th>average_montly_hours</th>\n",
              "      <th>time_spend_company</th>\n",
              "      <th>Work_accident</th>\n",
              "      <th>left</th>\n",
              "      <th>promotion_last_5years</th>\n",
              "      <th>dept</th>\n",
              "      <th>salary</th>\n",
              "    </tr>\n",
              "  </thead>\n",
              "  <tbody>\n",
              "    <tr>\n",
              "      <th>0</th>\n",
              "      <td>0.38</td>\n",
              "      <td>0.53</td>\n",
              "      <td>2</td>\n",
              "      <td>157</td>\n",
              "      <td>3</td>\n",
              "      <td>0</td>\n",
              "      <td>1</td>\n",
              "      <td>0</td>\n",
              "      <td>sales</td>\n",
              "      <td>low</td>\n",
              "    </tr>\n",
              "    <tr>\n",
              "      <th>1</th>\n",
              "      <td>0.80</td>\n",
              "      <td>0.86</td>\n",
              "      <td>5</td>\n",
              "      <td>262</td>\n",
              "      <td>6</td>\n",
              "      <td>0</td>\n",
              "      <td>1</td>\n",
              "      <td>0</td>\n",
              "      <td>sales</td>\n",
              "      <td>medium</td>\n",
              "    </tr>\n",
              "    <tr>\n",
              "      <th>2</th>\n",
              "      <td>0.11</td>\n",
              "      <td>0.88</td>\n",
              "      <td>7</td>\n",
              "      <td>272</td>\n",
              "      <td>4</td>\n",
              "      <td>0</td>\n",
              "      <td>1</td>\n",
              "      <td>0</td>\n",
              "      <td>sales</td>\n",
              "      <td>medium</td>\n",
              "    </tr>\n",
              "    <tr>\n",
              "      <th>3</th>\n",
              "      <td>0.72</td>\n",
              "      <td>0.87</td>\n",
              "      <td>5</td>\n",
              "      <td>223</td>\n",
              "      <td>5</td>\n",
              "      <td>0</td>\n",
              "      <td>1</td>\n",
              "      <td>0</td>\n",
              "      <td>sales</td>\n",
              "      <td>low</td>\n",
              "    </tr>\n",
              "    <tr>\n",
              "      <th>4</th>\n",
              "      <td>0.37</td>\n",
              "      <td>0.52</td>\n",
              "      <td>2</td>\n",
              "      <td>159</td>\n",
              "      <td>3</td>\n",
              "      <td>0</td>\n",
              "      <td>1</td>\n",
              "      <td>0</td>\n",
              "      <td>sales</td>\n",
              "      <td>low</td>\n",
              "    </tr>\n",
              "  </tbody>\n",
              "</table>\n",
              "</div>"
            ],
            "text/plain": [
              "   satisfaction_level  last_evaluation  ...   dept  salary\n",
              "0                0.38             0.53  ...  sales     low\n",
              "1                0.80             0.86  ...  sales  medium\n",
              "2                0.11             0.88  ...  sales  medium\n",
              "3                0.72             0.87  ...  sales     low\n",
              "4                0.37             0.52  ...  sales     low\n",
              "\n",
              "[5 rows x 10 columns]"
            ]
          },
          "execution_count": 6,
          "metadata": {
            "tags": []
          },
          "output_type": "execute_result"
        }
      ],
      "source": [
        "# Display the top 5 rows.\n",
        "df.head()"
      ]
    },
    {
      "cell_type": "code",
      "execution_count": null,
      "metadata": {
        "colab": {
          "base_uri": "https://localhost:8080/",
          "height": 204
        },
        "colab_type": "code",
        "id": "4pmNep2G0Et9",
        "outputId": "7c45ccc8-25a0-4feb-f820-a5aec9d62ea8"
      },
      "outputs": [
        {
          "data": {
            "text/plain": [
              "satisfaction_level       float64\n",
              "last_evaluation          float64\n",
              "number_project             int64\n",
              "average_montly_hours       int64\n",
              "time_spend_company         int64\n",
              "Work_accident              int64\n",
              "left                       int64\n",
              "promotion_last_5years      int64\n",
              "dept                      object\n",
              "salary                    object\n",
              "dtype: object"
            ]
          },
          "execution_count": 7,
          "metadata": {
            "tags": []
          },
          "output_type": "execute_result"
        }
      ],
      "source": [
        "# Find the data types of columns\n",
        "df.dtypes"
      ]
    },
    {
      "cell_type": "code",
      "execution_count": null,
      "metadata": {
        "colab": {
          "base_uri": "https://localhost:8080/",
          "height": 410
        },
        "colab_type": "code",
        "id": "sSQwRPqR0EuF",
        "outputId": "12614dcf-13c1-42a9-94d6-98ed826e393c"
      },
      "outputs": [
        {
          "data": {
            "text/html": [
              "<div>\n",
              "<style scoped>\n",
              "    .dataframe tbody tr th:only-of-type {\n",
              "        vertical-align: middle;\n",
              "    }\n",
              "\n",
              "    .dataframe tbody tr th {\n",
              "        vertical-align: top;\n",
              "    }\n",
              "\n",
              "    .dataframe thead th {\n",
              "        text-align: right;\n",
              "    }\n",
              "</style>\n",
              "<table border=\"1\" class=\"dataframe\">\n",
              "  <thead>\n",
              "    <tr style=\"text-align: right;\">\n",
              "      <th></th>\n",
              "      <th>satisfaction_level</th>\n",
              "      <th>last_evaluation</th>\n",
              "      <th>number_project</th>\n",
              "      <th>average_montly_hours</th>\n",
              "      <th>time_spend_company</th>\n",
              "      <th>Work_accident</th>\n",
              "      <th>left</th>\n",
              "      <th>promotion_last_5years</th>\n",
              "      <th>dept</th>\n",
              "      <th>salary</th>\n",
              "    </tr>\n",
              "  </thead>\n",
              "  <tbody>\n",
              "    <tr>\n",
              "      <th>count</th>\n",
              "      <td>14999.000000</td>\n",
              "      <td>14999.000000</td>\n",
              "      <td>14999.000000</td>\n",
              "      <td>14999.000000</td>\n",
              "      <td>14999.000000</td>\n",
              "      <td>14999.000000</td>\n",
              "      <td>14999.000000</td>\n",
              "      <td>14999.000000</td>\n",
              "      <td>14999</td>\n",
              "      <td>14999</td>\n",
              "    </tr>\n",
              "    <tr>\n",
              "      <th>unique</th>\n",
              "      <td>NaN</td>\n",
              "      <td>NaN</td>\n",
              "      <td>NaN</td>\n",
              "      <td>NaN</td>\n",
              "      <td>NaN</td>\n",
              "      <td>NaN</td>\n",
              "      <td>NaN</td>\n",
              "      <td>NaN</td>\n",
              "      <td>10</td>\n",
              "      <td>3</td>\n",
              "    </tr>\n",
              "    <tr>\n",
              "      <th>top</th>\n",
              "      <td>NaN</td>\n",
              "      <td>NaN</td>\n",
              "      <td>NaN</td>\n",
              "      <td>NaN</td>\n",
              "      <td>NaN</td>\n",
              "      <td>NaN</td>\n",
              "      <td>NaN</td>\n",
              "      <td>NaN</td>\n",
              "      <td>sales</td>\n",
              "      <td>low</td>\n",
              "    </tr>\n",
              "    <tr>\n",
              "      <th>freq</th>\n",
              "      <td>NaN</td>\n",
              "      <td>NaN</td>\n",
              "      <td>NaN</td>\n",
              "      <td>NaN</td>\n",
              "      <td>NaN</td>\n",
              "      <td>NaN</td>\n",
              "      <td>NaN</td>\n",
              "      <td>NaN</td>\n",
              "      <td>4140</td>\n",
              "      <td>7316</td>\n",
              "    </tr>\n",
              "    <tr>\n",
              "      <th>mean</th>\n",
              "      <td>0.612834</td>\n",
              "      <td>0.716102</td>\n",
              "      <td>3.803054</td>\n",
              "      <td>201.050337</td>\n",
              "      <td>3.498233</td>\n",
              "      <td>0.144610</td>\n",
              "      <td>0.238083</td>\n",
              "      <td>0.021268</td>\n",
              "      <td>NaN</td>\n",
              "      <td>NaN</td>\n",
              "    </tr>\n",
              "    <tr>\n",
              "      <th>std</th>\n",
              "      <td>0.248631</td>\n",
              "      <td>0.171169</td>\n",
              "      <td>1.232592</td>\n",
              "      <td>49.943099</td>\n",
              "      <td>1.460136</td>\n",
              "      <td>0.351719</td>\n",
              "      <td>0.425924</td>\n",
              "      <td>0.144281</td>\n",
              "      <td>NaN</td>\n",
              "      <td>NaN</td>\n",
              "    </tr>\n",
              "    <tr>\n",
              "      <th>min</th>\n",
              "      <td>0.090000</td>\n",
              "      <td>0.360000</td>\n",
              "      <td>2.000000</td>\n",
              "      <td>96.000000</td>\n",
              "      <td>2.000000</td>\n",
              "      <td>0.000000</td>\n",
              "      <td>0.000000</td>\n",
              "      <td>0.000000</td>\n",
              "      <td>NaN</td>\n",
              "      <td>NaN</td>\n",
              "    </tr>\n",
              "    <tr>\n",
              "      <th>25%</th>\n",
              "      <td>0.440000</td>\n",
              "      <td>0.560000</td>\n",
              "      <td>3.000000</td>\n",
              "      <td>156.000000</td>\n",
              "      <td>3.000000</td>\n",
              "      <td>0.000000</td>\n",
              "      <td>0.000000</td>\n",
              "      <td>0.000000</td>\n",
              "      <td>NaN</td>\n",
              "      <td>NaN</td>\n",
              "    </tr>\n",
              "    <tr>\n",
              "      <th>50%</th>\n",
              "      <td>0.640000</td>\n",
              "      <td>0.720000</td>\n",
              "      <td>4.000000</td>\n",
              "      <td>200.000000</td>\n",
              "      <td>3.000000</td>\n",
              "      <td>0.000000</td>\n",
              "      <td>0.000000</td>\n",
              "      <td>0.000000</td>\n",
              "      <td>NaN</td>\n",
              "      <td>NaN</td>\n",
              "    </tr>\n",
              "    <tr>\n",
              "      <th>75%</th>\n",
              "      <td>0.820000</td>\n",
              "      <td>0.870000</td>\n",
              "      <td>5.000000</td>\n",
              "      <td>245.000000</td>\n",
              "      <td>4.000000</td>\n",
              "      <td>0.000000</td>\n",
              "      <td>0.000000</td>\n",
              "      <td>0.000000</td>\n",
              "      <td>NaN</td>\n",
              "      <td>NaN</td>\n",
              "    </tr>\n",
              "    <tr>\n",
              "      <th>max</th>\n",
              "      <td>1.000000</td>\n",
              "      <td>1.000000</td>\n",
              "      <td>7.000000</td>\n",
              "      <td>310.000000</td>\n",
              "      <td>10.000000</td>\n",
              "      <td>1.000000</td>\n",
              "      <td>1.000000</td>\n",
              "      <td>1.000000</td>\n",
              "      <td>NaN</td>\n",
              "      <td>NaN</td>\n",
              "    </tr>\n",
              "  </tbody>\n",
              "</table>\n",
              "</div>"
            ],
            "text/plain": [
              "        satisfaction_level  last_evaluation  ...   dept  salary\n",
              "count         14999.000000     14999.000000  ...  14999   14999\n",
              "unique                 NaN              NaN  ...     10       3\n",
              "top                    NaN              NaN  ...  sales     low\n",
              "freq                   NaN              NaN  ...   4140    7316\n",
              "mean              0.612834         0.716102  ...    NaN     NaN\n",
              "std               0.248631         0.171169  ...    NaN     NaN\n",
              "min               0.090000         0.360000  ...    NaN     NaN\n",
              "25%               0.440000         0.560000  ...    NaN     NaN\n",
              "50%               0.640000         0.720000  ...    NaN     NaN\n",
              "75%               0.820000         0.870000  ...    NaN     NaN\n",
              "max               1.000000         1.000000  ...    NaN     NaN\n",
              "\n",
              "[11 rows x 10 columns]"
            ]
          },
          "execution_count": 8,
          "metadata": {
            "tags": []
          },
          "output_type": "execute_result"
        }
      ],
      "source": [
        "# Find the basic statistics\n",
        "df.describe(include='all')"
      ]
    },
    {
      "cell_type": "code",
      "execution_count": null,
      "metadata": {
        "colab": {
          "base_uri": "https://localhost:8080/",
          "height": 204
        },
        "colab_type": "code",
        "id": "Zi5Rqzxy0EuN",
        "outputId": "829c2ca8-75da-413f-b4e8-c1242ee2f2b6"
      },
      "outputs": [
        {
          "data": {
            "text/plain": [
              "satisfaction_level       0\n",
              "last_evaluation          0\n",
              "number_project           0\n",
              "average_montly_hours     0\n",
              "time_spend_company       0\n",
              "Work_accident            0\n",
              "left                     0\n",
              "promotion_last_5years    0\n",
              "dept                     0\n",
              "salary                   0\n",
              "dtype: int64"
            ]
          },
          "execution_count": 9,
          "metadata": {
            "tags": []
          },
          "output_type": "execute_result"
        }
      ],
      "source": [
        "# Find the null values\n",
        "df.isnull().sum()"
      ]
    },
    {
      "cell_type": "markdown",
      "metadata": {
        "colab_type": "text",
        "id": "rt9aiixl0EuU"
      },
      "source": [
        "# 3. Exploration"
      ]
    },
    {
      "cell_type": "markdown",
      "metadata": {
        "colab_type": "text",
        "id": "DmyfKmuW0EuW"
      },
      "source": [
        "Before moving ahead, let us check the details of different variables in the data"
      ]
    },
    {
      "cell_type": "markdown",
      "metadata": {
        "colab_type": "text",
        "id": "Qok1iX0y0EuX"
      },
      "source": [
        "**Task 2: Find out the how many employees left the company?**"
      ]
    },
    {
      "cell_type": "code",
      "execution_count": null,
      "metadata": {
        "colab": {
          "base_uri": "https://localhost:8080/",
          "height": 68
        },
        "colab_type": "code",
        "id": "aAFemvwT0EuY",
        "outputId": "1e928170-4656-4e23-d0bc-0eb906722fcf"
      },
      "outputs": [
        {
          "data": {
            "text/plain": [
              "0    11428\n",
              "1     3571\n",
              "Name: left, dtype: int64"
            ]
          },
          "execution_count": 10,
          "metadata": {
            "tags": []
          },
          "output_type": "execute_result"
        }
      ],
      "source": [
        "# Count of how many employees left the company\n",
        "df.left.value_counts()"
      ]
    },
    {
      "cell_type": "markdown",
      "metadata": {
        "colab_type": "text",
        "id": "MRc2ZpmR0Eui"
      },
      "source": [
        "**Task 3: Find out the number of projects being handled.**"
      ]
    },
    {
      "cell_type": "code",
      "execution_count": null,
      "metadata": {
        "colab": {
          "base_uri": "https://localhost:8080/",
          "height": 285
        },
        "colab_type": "code",
        "id": "H5iBHAdZ0Euj",
        "outputId": "e73d623f-6a85-4f5c-e13c-90cad2c1aa1d",
        "scrolled": false
      },
      "outputs": [
        {
          "data": {
            "image/png": "[encoded data removed]",
            "text/plain": [
              "<Figure size 432x288 with 1 Axes>"
            ]
          },
          "metadata": {
            "tags": []
          },
          "output_type": "display_data"
        }
      ],
      "source": [
        "# Write code here\n",
        "num_projects=df.groupby('number_project').count()\n",
        "plt.bar(num_projects.index.values, num_projects['satisfaction_level'])\n",
        "plt.xlabel('Number of Projects')\n",
        "plt.ylabel('Number of Employees')\n",
        "plt.show()"
      ]
    },
    {
      "cell_type": "markdown",
      "metadata": {
        "colab_type": "text",
        "id": "EFNYWIqI0Eu0"
      },
      "source": [
        "**Question: What insights can you infer from the above plot?**"
      ]
    },
    {
      "cell_type": "markdown",
      "metadata": {
        "colab_type": "text",
        "id": "p3rJRM4U0Eu2"
      },
      "source": [
        "Answer: "
      ]
    },
    {
      "cell_type": "markdown",
      "metadata": {
        "colab_type": "text",
        "id": "MPtogtRg0Eu4"
      },
      "source": [
        "**Task 4: Find out how number of projects contributed to employee turn-over.**\n",
        "<br>\n",
        "<br>\n",
        "*Hint:* For this purpose, we can do a groupby."
      ]
    },
    {
      "cell_type": "code",
      "execution_count": null,
      "metadata": {
        "colab": {
          "base_uri": "https://localhost:8080/",
          "height": 142
        },
        "colab_type": "code",
        "id": "FHXnAd8Z0EvD",
        "outputId": "fd5387eb-f1ec-4095-a21e-d5b76cce24de"
      },
      "outputs": [
        {
          "data": {
            "text/html": [
              "<div>\n",
              "<style scoped>\n",
              "    .dataframe tbody tr th:only-of-type {\n",
              "        vertical-align: middle;\n",
              "    }\n",
              "\n",
              "    .dataframe tbody tr th {\n",
              "        vertical-align: top;\n",
              "    }\n",
              "\n",
              "    .dataframe thead th {\n",
              "        text-align: right;\n",
              "    }\n",
              "</style>\n",
              "<table border=\"1\" class=\"dataframe\">\n",
              "  <thead>\n",
              "    <tr style=\"text-align: right;\">\n",
              "      <th></th>\n",
              "      <th>satisfaction</th>\n",
              "      <th>evaluation</th>\n",
              "      <th>projectCount</th>\n",
              "      <th>averageMonthlyHours</th>\n",
              "      <th>yearsAtCompany</th>\n",
              "      <th>workAccident</th>\n",
              "      <th>promotion</th>\n",
              "    </tr>\n",
              "    <tr>\n",
              "      <th>turnover</th>\n",
              "      <th></th>\n",
              "      <th></th>\n",
              "      <th></th>\n",
              "      <th></th>\n",
              "      <th></th>\n",
              "      <th></th>\n",
              "      <th></th>\n",
              "    </tr>\n",
              "  </thead>\n",
              "  <tbody>\n",
              "    <tr>\n",
              "      <th>0</th>\n",
              "      <td>0.666810</td>\n",
              "      <td>0.715473</td>\n",
              "      <td>3.786664</td>\n",
              "      <td>199.060203</td>\n",
              "      <td>3.380032</td>\n",
              "      <td>0.175009</td>\n",
              "      <td>0.026251</td>\n",
              "    </tr>\n",
              "    <tr>\n",
              "      <th>1</th>\n",
              "      <td>0.440098</td>\n",
              "      <td>0.718113</td>\n",
              "      <td>3.855503</td>\n",
              "      <td>207.419210</td>\n",
              "      <td>3.876505</td>\n",
              "      <td>0.047326</td>\n",
              "      <td>0.005321</td>\n",
              "    </tr>\n",
              "  </tbody>\n",
              "</table>\n",
              "</div>"
            ],
            "text/plain": [
              "          satisfaction  evaluation  ...  workAccident  promotion\n",
              "turnover                            ...                         \n",
              "0             0.666810    0.715473  ...      0.175009   0.026251\n",
              "1             0.440098    0.718113  ...      0.047326   0.005321\n",
              "\n",
              "[2 rows x 7 columns]"
            ]
          },
          "execution_count": 11,
          "metadata": {
            "tags": []
          },
          "output_type": "execute_result"
        }
      ],
      "source": [
        "# Renaming certain columns for better readability\n",
        "df = df.rename(columns={'satisfaction_level': 'satisfaction', \n",
        "                        'last_evaluation': 'evaluation',\n",
        "                        'number_project': 'projectCount',\n",
        "                        'average_montly_hours': 'averageMonthlyHours',\n",
        "                        'time_spend_company': 'yearsAtCompany',\n",
        "                        'Work_accident': 'workAccident',\n",
        "                        'promotion_last_5years': 'promotion',\n",
        "                        'sales' : 'department',\n",
        "                        'left' : 'turnover'\n",
        "                        })\n",
        "turnover_Summary = df.groupby('turnover')\n",
        "turnover_Summary.mean()"
      ]
    },
    {
      "cell_type": "markdown",
      "metadata": {
        "colab_type": "text",
        "id": "Afo4HNS_0EvC"
      },
      "source": [
        "**Task 5:** Make a plot of your findings (only turn-over employees)"
      ]
    },
    {
      "cell_type": "code",
      "execution_count": null,
      "metadata": {
        "colab": {
          "base_uri": "https://localhost:8080/",
          "height": 302
        },
        "colab_type": "code",
        "id": "KwCGIjQuZHis",
        "outputId": "8bbc690c-994d-4a1c-d6fa-285d7aa66c08"
      },
      "outputs": [
        {
          "data": {
            "text/plain": [
              "[Text(0, 0.5, 'Percent')]"
            ]
          },
          "execution_count": 17,
          "metadata": {
            "tags": []
          },
          "output_type": "execute_result"
        },
        {
          "data": {
            "image/png": "[encoded data removed]",
            "text/plain": [
              "<Figure size 432x288 with 1 Axes>"
            ]
          },
          "metadata": {
            "tags": []
          },
          "output_type": "display_data"
        }
      ],
      "source": [
        "ax = sns.barplot(x=\"projectCount\", y=\"projectCount\", hue=\"turnover\", data=df, estimator=lambda x: len(x) / len(df) * 100)\n",
        "ax.set(ylabel=\"Percent\")"
      ]
    },
    {
      "cell_type": "markdown",
      "metadata": {
        "colab_type": "text",
        "id": "FnX0Gflf0EvN"
      },
      "source": [
        "**Question: What can you conclude from the above graph? Which people are leaving the company(as per number of projects)? What can be the reasons behind?**"
      ]
    },
    {
      "cell_type": "markdown",
      "metadata": {
        "colab_type": "text",
        "id": "mByBrSn90EvP"
      },
      "source": [
        "Answer: \n",
        "This graph is quite interesting as well. Here's what I found:\n",
        "\n",
        "- More than half of the employees with 2,6, and 7 projects left the company\n",
        "- Majority of the employees who did not leave the company had 3,4, and 5 projects\n",
        "- All of the employees with 7 projects left the company\n",
        "- There is an increase in employee turnover rate as project count increases"
      ]
    },
    {
      "cell_type": "markdown",
      "metadata": {
        "colab_type": "text",
        "id": "kAi_ETWU0EvQ"
      },
      "source": [
        "## **Time spent at the company**"
      ]
    },
    {
      "cell_type": "markdown",
      "metadata": {
        "colab_type": "text",
        "id": "ay1YHDEu0EvS"
      },
      "source": [
        "**Task 6: Find out how time spend at company can lead to employee turn over. Show the following plots.**<br>\n",
        "- Count of Number of years spent by employees.\n",
        "- After how many years are mostly employees leaving the company? "
      ]
    },
    {
      "cell_type": "markdown",
      "metadata": {
        "colab_type": "text",
        "id": "RrceJSoE0EvU"
      },
      "source": [
        "*Hint: For the second part do the similar procedure as done in case of 'number_projects' above. Try to find the percetage to show that after how much time/years did most of employees exactly leave.*"
      ]
    },
    {
      "cell_type": "code",
      "execution_count": null,
      "metadata": {
        "colab": {
          "base_uri": "https://localhost:8080/",
          "height": 302
        },
        "colab_type": "code",
        "id": "K7pHb4NV0EvV",
        "outputId": "237158b5-7294-4060-8926-b8c46fb34503"
      },
      "outputs": [
        {
          "data": {
            "text/plain": [
              "[Text(0, 0.5, 'Percent')]"
            ]
          },
          "execution_count": 19,
          "metadata": {
            "tags": []
          },
          "output_type": "execute_result"
        },
        {
          "data": {
            "image/png": "[encoded data removed]",
            "text/plain": [
              "<Figure size 432x288 with 1 Axes>"
            ]
          },
          "metadata": {
            "tags": []
          },
          "output_type": "display_data"
        }
      ],
      "source": [
        "# Show the plot for the count of years here\n",
        "ax = sns.barplot(x=\"yearsAtCompany\", y=\"yearsAtCompany\", hue=\"turnover\", data=df, estimator=lambda x: len(x) / len(df) * 100)\n",
        "ax.set(ylabel=\"Percent\")"
      ]
    },
    {
      "cell_type": "markdown",
      "metadata": {
        "colab_type": "text",
        "id": "0mOZI0qU0Evd"
      },
      "source": [
        "**Question: What is the maximum number of time spend by the employees?**"
      ]
    },
    {
      "cell_type": "markdown",
      "metadata": {
        "colab_type": "text",
        "id": "NklfHles0Eve"
      },
      "source": [
        "Answer: \n",
        "10 Years"
      ]
    },
    {
      "cell_type": "markdown",
      "metadata": {
        "colab_type": "text",
        "id": "UjNtTzTs0Evw"
      },
      "source": [
        "**Question: After what time period are employees most likely to leave the company ?**"
      ]
    },
    {
      "cell_type": "markdown",
      "metadata": {
        "colab_type": "text",
        "id": "fu2-Z5l_0Evx"
      },
      "source": [
        "Answer:\n",
        "Between 2 - 5 years of time"
      ]
    },
    {
      "cell_type": "markdown",
      "metadata": {
        "colab_type": "text",
        "id": "7CzOEXqc0Evz"
      },
      "source": [
        "## **Employees engaged in any work accident**"
      ]
    },
    {
      "cell_type": "markdown",
      "metadata": {
        "colab_type": "text",
        "id": "lL32qD060Ev0"
      },
      "source": [
        "**Task 7: Find out that how many employees were engaged in work accident and how many of them actually left? Use count plots to show your results**"
      ]
    },
    {
      "cell_type": "code",
      "execution_count": null,
      "metadata": {
        "colab": {
          "base_uri": "https://localhost:8080/",
          "height": 318
        },
        "colab_type": "code",
        "id": "B3nSjpt70Ev1",
        "outputId": "564b858d-e8e2-4d2a-9275-9942b911f193"
      },
      "outputs": [
        {
          "data": {
            "text/plain": [
              "Text(0.5, 1.0, 'No. of employee')"
            ]
          },
          "execution_count": 39,
          "metadata": {
            "tags": []
          },
          "output_type": "execute_result"
        },
        {
          "data": {
            "image/png": "[encoded data removed]",
            "text/plain": [
              "<Figure size 432x288 with 1 Axes>"
            ]
          },
          "metadata": {
            "tags": []
          },
          "output_type": "display_data"
        }
      ],
      "source": [
        "# Number of employees involved in work accident\n",
        "feature='Work_accident'\n",
        "sns.countplot(x=feature, data = data)\n",
        "plt.title(\"No. of Employees\")"
      ]
    },
    {
      "cell_type": "markdown",
      "metadata": {
        "colab_type": "text",
        "id": "iXoXVZEB0Ev7"
      },
      "source": [
        "**Question: What can you conclude from the graph above?**"
      ]
    },
    {
      "cell_type": "markdown",
      "metadata": {
        "colab_type": "text",
        "id": "yql1Ed4C0Ev8"
      },
      "source": [
        "Answer: \n",
        "Very small number of employees are involved in work accident"
      ]
    },
    {
      "cell_type": "code",
      "execution_count": null,
      "metadata": {
        "colab": {
          "base_uri": "https://localhost:8080/",
          "height": 302
        },
        "colab_type": "code",
        "id": "AyA5GHK-0Ev9",
        "outputId": "2ce400f9-3e31-4888-898e-c5797ec31496",
        "scrolled": true
      },
      "outputs": [
        {
          "data": {
            "text/plain": [
              "[Text(0, 0.5, 'Percent')]"
            ]
          },
          "execution_count": 40,
          "metadata": {
            "tags": []
          },
          "output_type": "execute_result"
        },
        {
          "data": {
            "image/png": "[encoded data removed]",
            "text/plain": [
              "<Figure size 432x288 with 1 Axes>"
            ]
          },
          "metadata": {
            "tags": []
          },
          "output_type": "display_data"
        }
      ],
      "source": [
        "# Number of employees involved in work accident and left or not left\n",
        "ax = sns.barplot(x=\"workAccident\", y=\"workAccident\", hue=\"turnover\", data=df, estimator=lambda x: len(x) / len(df) * 100)\n",
        "ax.set(ylabel=\"Percent\")"
      ]
    },
    {
      "cell_type": "markdown",
      "metadata": {
        "colab_type": "text",
        "id": "dUfb-PDM0EwC"
      },
      "source": [
        "## **Promotions in last 5 years**"
      ]
    },
    {
      "cell_type": "markdown",
      "metadata": {
        "colab_type": "text",
        "id": "sR-8wUbe0EwE"
      },
      "source": [
        "**Task 8: How many number of employees got the promotion in last 5 year and how many of them left?**"
      ]
    },
    {
      "cell_type": "code",
      "execution_count": null,
      "metadata": {
        "colab": {
          "base_uri": "https://localhost:8080/",
          "height": 318
        },
        "colab_type": "code",
        "id": "JPDC70orimMq",
        "outputId": "9af241d2-4f9e-41fd-b3e6-f14414e0ec66"
      },
      "outputs": [
        {
          "data": {
            "text/plain": [
              "Text(0.5, 1.0, 'No. of Employees')"
            ]
          },
          "execution_count": 41,
          "metadata": {
            "tags": []
          },
          "output_type": "execute_result"
        },
        {
          "data": {
            "image/png": "[encoded data removed]",
            "text/plain": [
              "<Figure size 432x288 with 1 Axes>"
            ]
          },
          "metadata": {
            "tags": []
          },
          "output_type": "display_data"
        }
      ],
      "source": [
        "# Number of Employees Promoted\n",
        "feature='promotion_last_5years'\n",
        "sns.countplot(x=feature, data = data)\n",
        "plt.title(\"No. of Employees\")"
      ]
    },
    {
      "cell_type": "code",
      "execution_count": null,
      "metadata": {
        "colab": {
          "base_uri": "https://localhost:8080/",
          "height": 302
        },
        "colab_type": "code",
        "id": "qVht9zy_izef",
        "outputId": "554b3933-9a2e-46c6-f57d-437c0da96eb0"
      },
      "outputs": [
        {
          "data": {
            "text/plain": [
              "[Text(0, 0.5, 'Percent')]"
            ]
          },
          "execution_count": 42,
          "metadata": {
            "tags": []
          },
          "output_type": "execute_result"
        },
        {
          "data": {
            "image/png": "[encoded data removed]",
            "text/plain": [
              "<Figure size 432x288 with 1 Axes>"
            ]
          },
          "metadata": {
            "tags": []
          },
          "output_type": "display_data"
        }
      ],
      "source": [
        "# Number of employees involved in promotion and left or not left\n",
        "ax = sns.barplot(x=\"promotion\", y=\"promotion\", hue=\"turnover\", data=df, estimator=lambda x: len(x) / len(df) * 100)\n",
        "ax.set(ylabel=\"Percent\")"
      ]
    },
    {
      "cell_type": "markdown",
      "metadata": {
        "colab_type": "text",
        "id": "JaWwKZsH0Ewg"
      },
      "source": [
        "## **Salary trends**"
      ]
    },
    {
      "cell_type": "markdown",
      "metadata": {
        "colab_type": "text",
        "id": "CLpnrXKS0Ewh"
      },
      "source": [
        "**Task 9: What are the salary trends in the data? Use graphical representation for explanation**"
      ]
    },
    {
      "cell_type": "code",
      "execution_count": null,
      "metadata": {
        "colab": {
          "base_uri": "https://localhost:8080/",
          "height": 318
        },
        "colab_type": "code",
        "id": "E09CHuE50Ewi",
        "outputId": "5a0a07fc-5136-406c-ec3b-d229bd8b50db"
      },
      "outputs": [
        {
          "data": {
            "text/plain": [
              "Text(0.5, 1.0, 'No. of Employees')"
            ]
          },
          "execution_count": 43,
          "metadata": {
            "tags": []
          },
          "output_type": "execute_result"
        },
        {
          "data": {
            "image/png": "[encoded data removed]",
            "text/plain": [
              "<Figure size 432x288 with 1 Axes>"
            ]
          },
          "metadata": {
            "tags": []
          },
          "output_type": "display_data"
        }
      ],
      "source": [
        "#Write code here\n",
        "feature='salary'\n",
        "sns.countplot(x=feature, data = data)\n",
        "plt.title(\"No. of Employees\")"
      ]
    },
    {
      "cell_type": "markdown",
      "metadata": {
        "colab_type": "text",
        "id": "_YQyVMTp0Ewp"
      },
      "source": [
        "**Quesion: Which type salary holders are most likely to leave? Try to show the percentage of employees who left according to their salaries, using a bar plot or as you like.**"
      ]
    },
    {
      "cell_type": "code",
      "execution_count": null,
      "metadata": {
        "colab": {
          "base_uri": "https://localhost:8080/",
          "height": 302
        },
        "colab_type": "code",
        "id": "PuI60kuq0Ewq",
        "outputId": "08fc1bb8-c4e7-4e64-9aa9-a64cb098cb6c"
      },
      "outputs": [
        {
          "data": {
            "text/plain": [
              "[Text(0, 0.5, 'Count')]"
            ]
          },
          "execution_count": 53,
          "metadata": {
            "tags": []
          },
          "output_type": "execute_result"
        },
        {
          "data": {
            "image/png": "[encoded data removed]",
            "text/plain": [
              "<Figure size 432x288 with 1 Axes>"
            ]
          },
          "metadata": {
            "tags": []
          },
          "output_type": "display_data"
        }
      ],
      "source": [
        "# Write code here\n",
        "ax = sns.countplot(x=\"salary\", hue=\"turnover\", data=df)\n",
        "ax.set(ylabel=\"Count\")\n"
      ]
    },
    {
      "cell_type": "markdown",
      "metadata": {
        "colab_type": "text",
        "id": "-tvKH-G80Ew1"
      },
      "source": [
        "**Question: What does the above plot show?**"
      ]
    },
    {
      "cell_type": "markdown",
      "metadata": {
        "colab_type": "text",
        "id": "5J_HpIbk0Ew3"
      },
      "source": [
        "Answer:\n",
        "The employees with high salaries are less-likely to leave"
      ]
    },
    {
      "cell_type": "markdown",
      "metadata": {
        "colab_type": "text",
        "id": "Wed4TkoS0Ew5"
      },
      "source": [
        "## **Employees per Department**"
      ]
    },
    {
      "cell_type": "markdown",
      "metadata": {
        "colab_type": "text",
        "id": "9zcIvNT80Ew7"
      },
      "source": [
        "**Task 10: Find out employees per department and also see which which department has highest number of employees leaving the company.**"
      ]
    },
    {
      "cell_type": "code",
      "execution_count": null,
      "metadata": {
        "colab": {},
        "colab_type": "code",
        "id": "NemeETOU0Ew8"
      },
      "outputs": [],
      "source": [
        "# Write the code here to check employee count in each department. You can use a graphical representation or use simple code to check.\n",
        "df = df.rename(columns={'sales':'department'})\n"
      ]
    },
    {
      "cell_type": "code",
      "execution_count": null,
      "metadata": {
        "colab": {},
        "colab_type": "code",
        "id": "wBEIaUOt0ExC",
        "outputId": "3518c863-930f-4483-c8ab-0bea97652d40"
      },
      "outputs": [
        {
          "data": {
            "text/plain": [
              "(array([0, 1, 2, 3, 4, 5, 6, 7, 8, 9]), <a list of 10 Text xticklabel objects>)"
            ]
          },
          "execution_count": 47,
          "metadata": {
            "tags": []
          },
          "output_type": "execute_result"
        },
        {
          "data": {
            "image/png": "[encoded data removed]",
            "text/plain": [
              "<Figure size 432x288 with 1 Axes>"
            ]
          },
          "metadata": {
            "tags": []
          },
          "output_type": "display_data"
        }
      ],
      "source": [
        "sns.countplot(x='department', data=df).set_title('Employee Department Distribution');\n",
        "plt.xticks(rotation=-45)"
      ]
    },
    {
      "cell_type": "markdown",
      "metadata": {
        "colab_type": "text",
        "id": "hxxA2V2R0ExK"
      },
      "source": [
        "**Question: Which department has maximum number of employees?**"
      ]
    },
    {
      "cell_type": "markdown",
      "metadata": {
        "colab_type": "text",
        "id": "pWtbG4es0ExL"
      },
      "source": [
        "Answer:\n",
        "Sales Department"
      ]
    },
    {
      "cell_type": "markdown",
      "metadata": {
        "colab_type": "text",
        "id": "LmXf6vse0ExM"
      },
      "source": [
        "**Question: Which department has highest percentage of turn-over? Use graphical representation to find out.**"
      ]
    },
    {
      "cell_type": "code",
      "execution_count": null,
      "metadata": {
        "colab": {},
        "colab_type": "code",
        "id": "7FHG_GWs0ExN",
        "outputId": "68c7f861-7a6e-4f2c-e982-8aa56f200563"
      },
      "outputs": [
        {
          "data": {
            "image/png": "[encoded data removed]",
            "text/plain": [
              "<Figure size 1080x360 with 1 Axes>"
            ]
          },
          "metadata": {
            "tags": []
          },
          "output_type": "display_data"
        }
      ],
      "source": [
        "# Write code here\n",
        "df = df.rename(columns={'left':'turnover'})\n",
        "\n",
        "f, ax = plt.subplots(figsize=(15, 5))\n",
        "sns.countplot(y=\"department\", hue='turnover', data=df).set_title('Employee Department Turnover Distribution');"
      ]
    },
    {
      "cell_type": "code",
      "execution_count": null,
      "metadata": {
        "colab": {},
        "colab_type": "code",
        "id": "KfbPG-Tf0ExU",
        "outputId": "c6e1b7f3-7f9e-4384-b001-4ef2c42fbfcc"
      },
      "outputs": [
        {
          "data": {
            "text/plain": [
              "[Text(0, 0.5, 'Percent')]"
            ]
          },
          "execution_count": 51,
          "metadata": {
            "tags": []
          },
          "output_type": "execute_result"
        },
        {
          "data": {
            "image/png": "[encoded data removed]",
            "text/plain": [
              "<Figure size 432x288 with 1 Axes>"
            ]
          },
          "metadata": {
            "tags": []
          },
          "output_type": "display_data"
        }
      ],
      "source": [
        "ax = sns.barplot(x=\"number_project\", y=\"number_project\", hue=\"turnover\", data=df, estimator=lambda x: len(x) / len(df) * 100)\n",
        "ax.set(ylabel=\"Percent\")"
      ]
    },
    {
      "cell_type": "markdown",
      "metadata": {
        "colab_type": "text",
        "id": "kn_jkdhd0Exa"
      },
      "source": [
        "Answer: More than half of the employees with 2,6, and 7 projects left the company.Majority of the employees who did not leave the company had 3,4, and 5 projects.All of the employees with 7 projects left the company.There is an increase in employee turnover rate as project count increases"
      ]
    },
    {
      "cell_type": "markdown",
      "metadata": {
        "colab_type": "text",
        "id": "Gnd4j2zS0Exb"
      },
      "source": [
        "## **Satisfaction Level**"
      ]
    },
    {
      "cell_type": "markdown",
      "metadata": {
        "colab_type": "text",
        "id": "Lhty8M9R0Exd"
      },
      "source": [
        "**Task 11: Show the satisfaction level of employees who left the company and those who didn't leave, using a kde plot**"
      ]
    },
    {
      "cell_type": "code",
      "execution_count": null,
      "metadata": {
        "colab": {},
        "colab_type": "code",
        "id": "4vfHX0nC0Exg",
        "outputId": "c6a3d0be-0ce3-4df2-ab27-606087fcb5fd"
      },
      "outputs": [
        {
          "data": {
            "text/plain": [
              "[Text(0, 0.5, 'Last Evaluation'), Text(0.5, 0, 'Satisfaction Level')]"
            ]
          },
          "execution_count": 55,
          "metadata": {
            "tags": []
          },
          "output_type": "execute_result"
        },
        {
          "data": {
            "image/png": "[encoded data removed]",
            "text/plain": [
              "<Figure size 1080x288 with 1 Axes>"
            ]
          },
          "metadata": {
            "tags": []
          },
          "output_type": "display_data"
        }
      ],
      "source": [
        "# Write the code here\n",
        "fig = plt.figure(figsize=(15,4),)\n",
        "ax=sns.kdeplot(df.loc[(df['turnover'] == 0),'evaluation'] , color='b',shade=True,label='no turnover_left')\n",
        "ax=sns.kdeplot(df.loc[(df['turnover'] == 1),'evaluation'] , color='r',shade=True, label='turnover_left')\n",
        "ax.set(xlabel='Satisfaction Level', ylabel='Last Evaluation')\n"
      ]
    },
    {
      "cell_type": "markdown",
      "metadata": {
        "colab_type": "text",
        "id": "44Dlx70D0Exq"
      },
      "source": [
        "**Question: What can you conclude from the plot above?**"
      ]
    },
    {
      "cell_type": "markdown",
      "metadata": {
        "colab_type": "text",
        "id": "RsKUoOOJ0Exr"
      },
      "source": [
        "Answer:"
      ]
    },
    {
      "cell_type": "markdown",
      "metadata": {
        "colab_type": "text",
        "id": "oIK7Y1yT0Ext"
      },
      "source": [
        "# Feature Engineering"
      ]
    },
    {
      "cell_type": "markdown",
      "metadata": {
        "colab_type": "text",
        "id": "XcMcNCNP0Exu"
      },
      "source": [
        "For feature engineering we will two new features. Looking at the the satisfcation we can conclude that people who are leaving have a low satisfaction level, most likely below 0.5 are leaving and people having a high satisfaction_level, most likely above 0.5 are likely to stay. "
      ]
    },
    {
      "cell_type": "markdown",
      "metadata": {
        "colab_type": "text",
        "id": "5fHqFY9X0Exw"
      },
      "source": [
        "**Task 12: Make a new feature 'satisfaction_level_type' through following conditions:**<br>\n",
        "- **satisfaction_level >= 0.5 then satisfaction_level_type = 'High'**\n",
        "- **satisfaction_level < 0.5 then satisfaction_level_type = 'Low'**"
      ]
    },
    {
      "cell_type": "code",
      "execution_count": null,
      "metadata": {
        "colab": {
          "base_uri": "https://localhost:8080/",
          "height": 224
        },
        "colab_type": "code",
        "id": "xc1qpZmS0Exx",
        "outputId": "6977d463-e97e-4827-db18-f545a3070d77",
        "scrolled": true
      },
      "outputs": [
        {
          "data": {
            "text/html": [
              "<div>\n",
              "<style scoped>\n",
              "    .dataframe tbody tr th:only-of-type {\n",
              "        vertical-align: middle;\n",
              "    }\n",
              "\n",
              "    .dataframe tbody tr th {\n",
              "        vertical-align: top;\n",
              "    }\n",
              "\n",
              "    .dataframe thead th {\n",
              "        text-align: right;\n",
              "    }\n",
              "</style>\n",
              "<table border=\"1\" class=\"dataframe\">\n",
              "  <thead>\n",
              "    <tr style=\"text-align: right;\">\n",
              "      <th></th>\n",
              "      <th>satisfaction</th>\n",
              "      <th>evaluation</th>\n",
              "      <th>projectCount</th>\n",
              "      <th>averageMonthlyHours</th>\n",
              "      <th>yearsAtCompany</th>\n",
              "      <th>workAccident</th>\n",
              "      <th>turnover</th>\n",
              "      <th>promotion</th>\n",
              "      <th>dept</th>\n",
              "      <th>salary</th>\n",
              "      <th>satisfaction_level_type</th>\n",
              "    </tr>\n",
              "  </thead>\n",
              "  <tbody>\n",
              "    <tr>\n",
              "      <th>0</th>\n",
              "      <td>0.38</td>\n",
              "      <td>0.53</td>\n",
              "      <td>2</td>\n",
              "      <td>157</td>\n",
              "      <td>3</td>\n",
              "      <td>0</td>\n",
              "      <td>1</td>\n",
              "      <td>0</td>\n",
              "      <td>sales</td>\n",
              "      <td>low</td>\n",
              "      <td>Low</td>\n",
              "    </tr>\n",
              "    <tr>\n",
              "      <th>1</th>\n",
              "      <td>0.80</td>\n",
              "      <td>0.86</td>\n",
              "      <td>5</td>\n",
              "      <td>262</td>\n",
              "      <td>6</td>\n",
              "      <td>0</td>\n",
              "      <td>1</td>\n",
              "      <td>0</td>\n",
              "      <td>sales</td>\n",
              "      <td>medium</td>\n",
              "      <td>High</td>\n",
              "    </tr>\n",
              "    <tr>\n",
              "      <th>2</th>\n",
              "      <td>0.11</td>\n",
              "      <td>0.88</td>\n",
              "      <td>7</td>\n",
              "      <td>272</td>\n",
              "      <td>4</td>\n",
              "      <td>0</td>\n",
              "      <td>1</td>\n",
              "      <td>0</td>\n",
              "      <td>sales</td>\n",
              "      <td>medium</td>\n",
              "      <td>Low</td>\n",
              "    </tr>\n",
              "    <tr>\n",
              "      <th>3</th>\n",
              "      <td>0.72</td>\n",
              "      <td>0.87</td>\n",
              "      <td>5</td>\n",
              "      <td>223</td>\n",
              "      <td>5</td>\n",
              "      <td>0</td>\n",
              "      <td>1</td>\n",
              "      <td>0</td>\n",
              "      <td>sales</td>\n",
              "      <td>low</td>\n",
              "      <td>High</td>\n",
              "    </tr>\n",
              "    <tr>\n",
              "      <th>4</th>\n",
              "      <td>0.37</td>\n",
              "      <td>0.52</td>\n",
              "      <td>2</td>\n",
              "      <td>159</td>\n",
              "      <td>3</td>\n",
              "      <td>0</td>\n",
              "      <td>1</td>\n",
              "      <td>0</td>\n",
              "      <td>sales</td>\n",
              "      <td>low</td>\n",
              "      <td>Low</td>\n",
              "    </tr>\n",
              "  </tbody>\n",
              "</table>\n",
              "</div>"
            ],
            "text/plain": [
              "   satisfaction  evaluation  ...  salary  satisfaction_level_type\n",
              "0          0.38        0.53  ...     low                      Low\n",
              "1          0.80        0.86  ...  medium                     High\n",
              "2          0.11        0.88  ...  medium                      Low\n",
              "3          0.72        0.87  ...     low                     High\n",
              "4          0.37        0.52  ...     low                      Low\n",
              "\n",
              "[5 rows x 11 columns]"
            ]
          },
          "execution_count": 80,
          "metadata": {
            "tags": []
          },
          "output_type": "execute_result"
        }
      ],
      "source": [
        "# Write the code here\n",
        "satisfaction_level_type = []\n",
        "sat = df['satisfaction'].tolist()\n",
        "for i in sat:\n",
        "  if i >= 0.5:\n",
        "    satisfaction_level_type.append('High')\n",
        "  else:\n",
        "    satisfaction_level_type.append('Low')\n",
        "df = df.assign(satisfaction_level_type = satisfaction_level_type)\n",
        "df.head()"
      ]
    },
    {
      "cell_type": "code",
      "execution_count": null,
      "metadata": {
        "colab": {},
        "colab_type": "code",
        "id": "zD0PwQ-x0Ex_"
      },
      "outputs": [],
      "source": [
        "# Write the code here to make bins as mentioned above\n",
        "fig = plt.figure(figsize=(15,4))\n",
        "ax=sns.kdeplot(df.loc[(df['turnover'] >= 0.5),'satisfaction'] , color='b',shade=True, label='no turnover')\n",
        "ax=sns.kdeplot(df.loc[(df['turnover'] < 0.5),'satisfaction'] , color='r',shade=True, label='turnover')\n",
        "plt.title('Employee Satisfaction Distribution - Turnover V.S. No Turnover')"
      ]
    },
    {
      "cell_type": "markdown",
      "metadata": {
        "colab_type": "text",
        "id": "zHI7z3DX0EyI"
      },
      "source": [
        "**Task 12: Make a count plot for satisfaction_level_type and and see which type has more turn over using hue='left'**"
      ]
    },
    {
      "cell_type": "code",
      "execution_count": null,
      "metadata": {
        "colab": {
          "base_uri": "https://localhost:8080/",
          "height": 302
        },
        "colab_type": "code",
        "id": "N_JMxvDq0EyM",
        "outputId": "a5ca6fc7-1701-47fe-9a7a-682bd75f63d2",
        "scrolled": true
      },
      "outputs": [
        {
          "data": {
            "text/plain": [
              "[Text(0, 0.5, 'Count')]"
            ]
          },
          "execution_count": 78,
          "metadata": {
            "tags": []
          },
          "output_type": "execute_result"
        },
        {
          "data": {
            "image/png": "[encoded data removed]",
            "text/plain": [
              "<Figure size 432x288 with 1 Axes>"
            ]
          },
          "metadata": {
            "tags": []
          },
          "output_type": "display_data"
        }
      ],
      "source": [
        "# Write code here\n",
        "ax = sns.countplot(x=\"satisfaction_level_type\", hue=\"turnover\", data=df)\n",
        "ax.set(ylabel=\"Count\")\n"
      ]
    },
    {
      "cell_type": "markdown",
      "metadata": {
        "colab_type": "text",
        "id": "WGyvv9iO0EyL"
      },
      "source": [
        "Previously we saw that employees having high number of projects are leaving. We also saw that some employees with extremely less number of projects are also leaving the company. Let us see how number of projects and satisfaction level are related.<br>\n",
        "We can see this by checking the satisfaction level type and number of projects in according to that specific type. "
      ]
    },
    {
      "cell_type": "markdown",
      "metadata": {
        "colab_type": "text",
        "id": "hRdXbGRZ0EyY"
      },
      "source": [
        "**Make a Plot of your findings**"
      ]
    },
    {
      "cell_type": "code",
      "execution_count": null,
      "metadata": {
        "colab": {
          "base_uri": "https://localhost:8080/",
          "height": 302
        },
        "colab_type": "code",
        "id": "lwzWeN3u0Eya",
        "outputId": "061a8aa0-6513-475e-e7a1-48a8ea1eed0f"
      },
      "outputs": [
        {
          "data": {
            "text/plain": [
              "<matplotlib.axes._subplots.AxesSubplot at 0x7f8983cd9400>"
            ]
          },
          "execution_count": 81,
          "metadata": {
            "tags": []
          },
          "output_type": "execute_result"
        },
        {
          "data": {
            "image/png": "[encoded data removed]",
            "text/plain": [
              "<Figure size 432x288 with 1 Axes>"
            ]
          },
          "metadata": {
            "tags": []
          },
          "output_type": "display_data"
        }
      ],
      "source": [
        "import seaborn as sns\n",
        "sns.boxplot(x='projectCount', y='satisfaction_level_type', hue='turnover', data=df)"
      ]
    },
    {
      "cell_type": "markdown",
      "metadata": {
        "colab_type": "text",
        "id": "I-WA4GXP0Eyl"
      },
      "source": [
        "**Question:** What did you infer drom the above plot"
      ]
    },
    {
      "cell_type": "markdown",
      "metadata": {
        "colab_type": "text",
        "id": "NGa6mLbt0Eym"
      },
      "source": [
        "**Answer:**"
      ]
    },
    {
      "cell_type": "markdown",
      "metadata": {
        "colab_type": "text",
        "id": "jW_f2NUe0Ey1"
      },
      "source": [
        "**Task 13: Make a new column 'employee_type' and assign categories as following:**<br>\n",
        "- **If number of projects is equal to 2 then employee_type='unburdened'**\n",
        "- **If number of projects is between 3 and 5 then employee_type = 'Satisfactory'**\n",
        "- **If number of projects is 6 and above then employee_type='Burdened'**"
      ]
    },
    {
      "cell_type": "code",
      "execution_count": null,
      "metadata": {
        "colab": {
          "base_uri": "https://localhost:8080/",
          "height": 224
        },
        "colab_type": "code",
        "id": "pC1_OStq0Ey2",
        "outputId": "d6c501f7-6157-49b5-a844-dcdbdd9fcbfa"
      },
      "outputs": [
        {
          "data": {
            "text/html": [
              "<div>\n",
              "<style scoped>\n",
              "    .dataframe tbody tr th:only-of-type {\n",
              "        vertical-align: middle;\n",
              "    }\n",
              "\n",
              "    .dataframe tbody tr th {\n",
              "        vertical-align: top;\n",
              "    }\n",
              "\n",
              "    .dataframe thead th {\n",
              "        text-align: right;\n",
              "    }\n",
              "</style>\n",
              "<table border=\"1\" class=\"dataframe\">\n",
              "  <thead>\n",
              "    <tr style=\"text-align: right;\">\n",
              "      <th></th>\n",
              "      <th>satisfaction</th>\n",
              "      <th>evaluation</th>\n",
              "      <th>projectCount</th>\n",
              "      <th>averageMonthlyHours</th>\n",
              "      <th>yearsAtCompany</th>\n",
              "      <th>workAccident</th>\n",
              "      <th>turnover</th>\n",
              "      <th>promotion</th>\n",
              "      <th>dept</th>\n",
              "      <th>salary</th>\n",
              "      <th>satisfaction_level_type</th>\n",
              "      <th>employee_type</th>\n",
              "    </tr>\n",
              "  </thead>\n",
              "  <tbody>\n",
              "    <tr>\n",
              "      <th>0</th>\n",
              "      <td>0.38</td>\n",
              "      <td>0.53</td>\n",
              "      <td>2</td>\n",
              "      <td>157</td>\n",
              "      <td>3</td>\n",
              "      <td>0</td>\n",
              "      <td>1</td>\n",
              "      <td>0</td>\n",
              "      <td>sales</td>\n",
              "      <td>low</td>\n",
              "      <td>Low</td>\n",
              "      <td>Unburdened</td>\n",
              "    </tr>\n",
              "    <tr>\n",
              "      <th>1</th>\n",
              "      <td>0.80</td>\n",
              "      <td>0.86</td>\n",
              "      <td>5</td>\n",
              "      <td>262</td>\n",
              "      <td>6</td>\n",
              "      <td>0</td>\n",
              "      <td>1</td>\n",
              "      <td>0</td>\n",
              "      <td>sales</td>\n",
              "      <td>medium</td>\n",
              "      <td>High</td>\n",
              "      <td>Satisfactory</td>\n",
              "    </tr>\n",
              "    <tr>\n",
              "      <th>2</th>\n",
              "      <td>0.11</td>\n",
              "      <td>0.88</td>\n",
              "      <td>7</td>\n",
              "      <td>272</td>\n",
              "      <td>4</td>\n",
              "      <td>0</td>\n",
              "      <td>1</td>\n",
              "      <td>0</td>\n",
              "      <td>sales</td>\n",
              "      <td>medium</td>\n",
              "      <td>Low</td>\n",
              "      <td>Burdened</td>\n",
              "    </tr>\n",
              "    <tr>\n",
              "      <th>3</th>\n",
              "      <td>0.72</td>\n",
              "      <td>0.87</td>\n",
              "      <td>5</td>\n",
              "      <td>223</td>\n",
              "      <td>5</td>\n",
              "      <td>0</td>\n",
              "      <td>1</td>\n",
              "      <td>0</td>\n",
              "      <td>sales</td>\n",
              "      <td>low</td>\n",
              "      <td>High</td>\n",
              "      <td>Satisfactory</td>\n",
              "    </tr>\n",
              "    <tr>\n",
              "      <th>4</th>\n",
              "      <td>0.37</td>\n",
              "      <td>0.52</td>\n",
              "      <td>2</td>\n",
              "      <td>159</td>\n",
              "      <td>3</td>\n",
              "      <td>0</td>\n",
              "      <td>1</td>\n",
              "      <td>0</td>\n",
              "      <td>sales</td>\n",
              "      <td>low</td>\n",
              "      <td>Low</td>\n",
              "      <td>Unburdened</td>\n",
              "    </tr>\n",
              "  </tbody>\n",
              "</table>\n",
              "</div>"
            ],
            "text/plain": [
              "   satisfaction  evaluation  ...  satisfaction_level_type  employee_type\n",
              "0          0.38        0.53  ...                      Low     Unburdened\n",
              "1          0.80        0.86  ...                     High   Satisfactory\n",
              "2          0.11        0.88  ...                      Low       Burdened\n",
              "3          0.72        0.87  ...                     High   Satisfactory\n",
              "4          0.37        0.52  ...                      Low     Unburdened\n",
              "\n",
              "[5 rows x 12 columns]"
            ]
          },
          "execution_count": 84,
          "metadata": {
            "tags": []
          },
          "output_type": "execute_result"
        }
      ],
      "source": [
        "employee_type = []\n",
        "sat = df['projectCount'].tolist()\n",
        "for i in sat:\n",
        "  if i == 2:\n",
        "    employee_type.append('Unburdened')\n",
        "  elif 3<= i <= 5:\n",
        "    employee_type.append('Satisfactory')\n",
        "  elif i >= 6:\n",
        "    employee_type.append('Burdened')\n",
        "  else:\n",
        "    employee_type.append('')\n",
        "df = df.assign(employee_type = employee_type)\n",
        "df.head()"
      ]
    },
    {
      "cell_type": "markdown",
      "metadata": {
        "colab_type": "text",
        "id": "3ckbHESA0EzD"
      },
      "source": [
        "**Task 14: Make a countplot to see which type of employee is leaving**"
      ]
    },
    {
      "cell_type": "code",
      "execution_count": null,
      "metadata": {
        "colab": {
          "base_uri": "https://localhost:8080/",
          "height": 302
        },
        "colab_type": "code",
        "id": "cAdkZe4p0EzE",
        "outputId": "26d351f1-379a-4c13-c4a7-8aedd17dc245"
      },
      "outputs": [
        {
          "data": {
            "text/plain": [
              "[Text(0, 0.5, 'Count')]"
            ]
          },
          "execution_count": 85,
          "metadata": {
            "tags": []
          },
          "output_type": "execute_result"
        },
        {
          "data": {
            "image/png": "[encoded data removed]",
            "text/plain": [
              "<Figure size 432x288 with 1 Axes>"
            ]
          },
          "metadata": {
            "tags": []
          },
          "output_type": "display_data"
        }
      ],
      "source": [
        "# Write code here\n",
        "ax = sns.countplot(x=\"employee_type\", hue=\"turnover\", data=df)\n",
        "ax.set(ylabel=\"Count\")\n"
      ]
    },
    {
      "cell_type": "markdown",
      "metadata": {
        "colab_type": "text",
        "id": "yxdyLAy20EzJ"
      },
      "source": [
        "# Machine Learning"
      ]
    },
    {
      "cell_type": "markdown",
      "metadata": {
        "colab_type": "text",
        "id": "DosfGoLl0EzK"
      },
      "source": [
        "Before moving further, we need to apply one-hot encoding on categorical variables i.e. **dept, salary, satisfaction_level_type,** and **employee_type**"
      ]
    },
    {
      "cell_type": "markdown",
      "metadata": {
        "colab_type": "text",
        "id": "yn10OPcH0EzM"
      },
      "source": [
        "**Task 15: Do ONE HOT ENCODING of the above mentioned variables**"
      ]
    },
    {
      "cell_type": "code",
      "execution_count": null,
      "metadata": {
        "colab": {
          "base_uri": "https://localhost:8080/",
          "height": 255
        },
        "colab_type": "code",
        "id": "zLgxgoM40EzO",
        "outputId": "7c19c2f3-2002-4b5f-8093-d6ac1aca8164"
      },
      "outputs": [
        {
          "data": {
            "text/plain": [
              "<bound method NDFrame.head of        satisfaction  evaluation  ...     dept  salary\n",
              "0              0.38        0.53  ...    sales     low\n",
              "1              0.80        0.86  ...    sales  medium\n",
              "2              0.11        0.88  ...    sales  medium\n",
              "3              0.72        0.87  ...    sales     low\n",
              "4              0.37        0.52  ...    sales     low\n",
              "...             ...         ...  ...      ...     ...\n",
              "14994          0.40        0.57  ...  support     low\n",
              "14995          0.37        0.48  ...  support     low\n",
              "14996          0.37        0.53  ...  support     low\n",
              "14997          0.11        0.96  ...  support     low\n",
              "14998          0.37        0.52  ...  support     low\n",
              "\n",
              "[14999 rows x 10 columns]>"
            ]
          },
          "execution_count": 37,
          "metadata": {
            "tags": []
          },
          "output_type": "execute_result"
        }
      ],
      "source": [
        "from sklearn.linear_model import LogisticRegression\n",
        "from sklearn.preprocessing import LabelEncoder\n",
        "from sklearn.model_selection import train_test_split\n",
        "from sklearn.metrics import accuracy_score, classification_report, precision_score, recall_score, confusion_matrix, precision_recall_curve\n",
        "from sklearn.preprocessing import RobustScaler\n",
        "\n",
        "df = df.rename(columns={'satisfaction_level': 'satisfaction', \n",
        "                        'last_evaluation': 'evaluation',\n",
        "                        'number_project': 'projectCount',\n",
        "                        'average_montly_hours': 'averageMonthlyHours',\n",
        "                        'time_spend_company': 'yearsAtCompany',\n",
        "                        'Work_accident': 'workAccident',\n",
        "                        'promotion_last_5years': 'promotion',\n",
        "                        'sales' : 'department',\n",
        "                        'left' : 'turnover'\n",
        "                        })\n",
        "df.head"
      ]
    },
    {
      "cell_type": "code",
      "execution_count": null,
      "metadata": {
        "colab": {},
        "colab_type": "code",
        "id": "yDrwtjoY0EzU",
        "scrolled": true
      },
      "outputs": [],
      "source": [
        "# Write code here\n",
        "# Convert these variables into categorical variables\n",
        "df[\"dept\"] = df[\"dept\"].astype('category').cat.codes\n",
        "df[\"salary\"] = df[\"salary\"].astype('category').cat.codes\n",
        "\n",
        "# Move the reponse variable \"turnover\" to the front of the table\n",
        "front = df['turnover']\n",
        "df.drop(labels=['turnover'], axis=1,inplace = True)\n",
        "df.insert(0, 'turnover', front)"
      ]
    },
    {
      "cell_type": "markdown",
      "metadata": {
        "colab_type": "text",
        "id": "fiufgsBE0Eza"
      },
      "source": [
        "**Task 16: Creating Independant and Dependant Variables**"
      ]
    },
    {
      "cell_type": "code",
      "execution_count": null,
      "metadata": {
        "colab": {},
        "colab_type": "code",
        "id": "eDmDJr3t0Ezb"
      },
      "outputs": [],
      "source": [
        "# Write code here\n",
        "# Create an intercept term for the logistic regression equation\n",
        "df['int'] = 1\n",
        "indep_var = ['satisfaction', 'evaluation', 'yearsAtCompany', 'int', 'turnover']\n",
        "df = df[indep_var]"
      ]
    },
    {
      "cell_type": "markdown",
      "metadata": {
        "colab_type": "text",
        "id": "XK8JzfLm0Ezf"
      },
      "source": [
        "**Task 17: Perform Train Test Split with test size 30 percent and random state = 100**"
      ]
    },
    {
      "cell_type": "code",
      "execution_count": null,
      "metadata": {
        "colab": {},
        "colab_type": "code",
        "id": "fxNJYc_y0Ezg"
      },
      "outputs": [],
      "source": [
        "from sklearn.model_selection import train_test_split"
      ]
    },
    {
      "cell_type": "code",
      "execution_count": null,
      "metadata": {
        "colab": {
          "base_uri": "https://localhost:8080/",
          "height": 204
        },
        "colab_type": "code",
        "id": "sSrL8zj50Ezr",
        "outputId": "960a0178-1e72-48e9-c5e5-93e26c3a0d27"
      },
      "outputs": [
        {
          "data": {
            "text/html": [
              "<div>\n",
              "<style scoped>\n",
              "    .dataframe tbody tr th:only-of-type {\n",
              "        vertical-align: middle;\n",
              "    }\n",
              "\n",
              "    .dataframe tbody tr th {\n",
              "        vertical-align: top;\n",
              "    }\n",
              "\n",
              "    .dataframe thead th {\n",
              "        text-align: right;\n",
              "    }\n",
              "</style>\n",
              "<table border=\"1\" class=\"dataframe\">\n",
              "  <thead>\n",
              "    <tr style=\"text-align: right;\">\n",
              "      <th></th>\n",
              "      <th>satisfaction</th>\n",
              "      <th>evaluation</th>\n",
              "      <th>yearsAtCompany</th>\n",
              "      <th>int</th>\n",
              "    </tr>\n",
              "  </thead>\n",
              "  <tbody>\n",
              "    <tr>\n",
              "      <th>9037</th>\n",
              "      <td>0.31</td>\n",
              "      <td>0.72</td>\n",
              "      <td>3</td>\n",
              "      <td>1</td>\n",
              "    </tr>\n",
              "    <tr>\n",
              "      <th>2205</th>\n",
              "      <td>0.70</td>\n",
              "      <td>0.69</td>\n",
              "      <td>4</td>\n",
              "      <td>1</td>\n",
              "    </tr>\n",
              "    <tr>\n",
              "      <th>3671</th>\n",
              "      <td>0.70</td>\n",
              "      <td>0.70</td>\n",
              "      <td>3</td>\n",
              "      <td>1</td>\n",
              "    </tr>\n",
              "    <tr>\n",
              "      <th>8164</th>\n",
              "      <td>1.00</td>\n",
              "      <td>0.87</td>\n",
              "      <td>2</td>\n",
              "      <td>1</td>\n",
              "    </tr>\n",
              "    <tr>\n",
              "      <th>13212</th>\n",
              "      <td>0.70</td>\n",
              "      <td>0.59</td>\n",
              "      <td>3</td>\n",
              "      <td>1</td>\n",
              "    </tr>\n",
              "  </tbody>\n",
              "</table>\n",
              "</div>"
            ],
            "text/plain": [
              "       satisfaction  evaluation  yearsAtCompany  int\n",
              "9037           0.31        0.72               3    1\n",
              "2205           0.70        0.69               4    1\n",
              "3671           0.70        0.70               3    1\n",
              "8164           1.00        0.87               2    1\n",
              "13212          0.70        0.59               3    1"
            ]
          },
          "execution_count": 50,
          "metadata": {
            "tags": []
          },
          "output_type": "execute_result"
        }
      ],
      "source": [
        "#Write code here\n",
        "# Create train and test splits\n",
        "target_name = 'turnover'\n",
        "X = df.drop('turnover', axis=1)\n",
        "\n",
        "y=df[target_name]\n",
        "X_train, X_test, y_train, y_test = train_test_split(X,y,test_size=0.3, random_state=100, stratify=y)\n",
        "\n",
        "X_train.head()\n",
        "\n"
      ]
    },
    {
      "cell_type": "code",
      "execution_count": null,
      "metadata": {
        "colab": {
          "base_uri": "https://localhost:8080/",
          "height": 51
        },
        "colab_type": "code",
        "id": "XOJNK4fO0Ezx",
        "outputId": "eaadd959-63cb-46ac-df00-1f649e8f03ab"
      },
      "outputs": [
        {
          "name": "stdout",
          "output_type": "stream",
          "text": [
            "(10499, 4) (10499,)\n",
            "(4500, 4) (4500,)\n"
          ]
        }
      ],
      "source": [
        "print(X_train.shape, y_train.shape)\n",
        "print(X_test.shape, y_test.shape)"
      ]
    },
    {
      "cell_type": "markdown",
      "metadata": {
        "colab_type": "text",
        "id": "woXNGnvv0Ez7"
      },
      "source": [
        "**Task 18: Get the predictions using the following models.**<br>\n",
        "- Random Forest\n",
        "- Logistic Regression\n",
        "- Ada Boost\n",
        "- XG Boost\n",
        "\n",
        "<br> \n",
        "\n",
        "**Also get the following scores for each of the above models**\n",
        "- Accuracy\n",
        "- Precision\n",
        "- Recall\n",
        "- F1-Score\n",
        "- Classification Report"
      ]
    },
    {
      "cell_type": "code",
      "execution_count": null,
      "metadata": {
        "colab": {},
        "colab_type": "code",
        "id": "81b3wWQO0E0B"
      },
      "outputs": [],
      "source": [
        "# Importing the models from sklearn\n",
        "from sklearn.linear_model import LogisticRegression\n",
        "from sklearn.preprocessing import LabelEncoder\n",
        "from sklearn.model_selection import train_test_split\n",
        "from sklearn.metrics import accuracy_score, classification_report, precision_score, recall_score, confusion_matrix, precision_recall_curve\n",
        "from sklearn.preprocessing import RobustScaler\n",
        "from sklearn.metrics import roc_auc_score\n",
        "from sklearn.metrics import classification_report\n",
        "from sklearn.ensemble import RandomForestClassifier\n",
        "\n",
        "from sklearn import tree\n",
        "from sklearn.tree import DecisionTreeClassifier\n",
        "from sklearn.linear_model import LogisticRegression\n",
        "from sklearn.ensemble import ExtraTreesClassifier\n",
        "from sklearn.ensemble import BaggingClassifier\n",
        "from sklearn.ensemble import AdaBoostClassifier\n",
        "from sklearn.ensemble import GradientBoostingClassifier\n",
        "from sklearn.ensemble import VotingClassifier"
      ]
    },
    {
      "cell_type": "markdown",
      "metadata": {
        "colab_type": "text",
        "id": "lkIxFuQv0E0A"
      },
      "source": [
        "## Random Forest"
      ]
    },
    {
      "cell_type": "code",
      "execution_count": null,
      "metadata": {
        "colab": {
          "base_uri": "https://localhost:8080/",
          "height": 153
        },
        "colab_type": "code",
        "id": "75O3ENCY0E0H",
        "outputId": "5dd36b82-431d-4799-d89f-d9ccfce3ed9a"
      },
      "outputs": [
        {
          "data": {
            "text/plain": [
              "RandomForestClassifier(bootstrap=True, ccp_alpha=0.0, class_weight='balanced',\n",
              "                       criterion='gini', max_depth=None, max_features='auto',\n",
              "                       max_leaf_nodes=None, max_samples=None,\n",
              "                       min_impurity_decrease=0.0, min_impurity_split=None,\n",
              "                       min_samples_leaf=1, min_samples_split=10,\n",
              "                       min_weight_fraction_leaf=0.0, n_estimators=1000,\n",
              "                       n_jobs=None, oob_score=False, random_state=None,\n",
              "                       verbose=0, warm_start=False)"
            ]
          },
          "execution_count": 46,
          "metadata": {
            "tags": []
          },
          "output_type": "execute_result"
        }
      ],
      "source": [
        "# Making instance and training the model\n",
        "# Random Forest Model\n",
        "rf = RandomForestClassifier(\n",
        "    n_estimators=1000, \n",
        "    max_depth=None, \n",
        "    min_samples_split=10, \n",
        "    class_weight=\"balanced\"\n",
        "    #min_weight_fraction_leaf=0.02 \n",
        "    )\n",
        "rf.fit(X_train, y_train)"
      ]
    },
    {
      "cell_type": "code",
      "execution_count": null,
      "metadata": {
        "colab": {
          "base_uri": "https://localhost:8080/",
          "height": 68
        },
        "colab_type": "code",
        "id": "pTFeSjbR0E0M",
        "outputId": "e2efb448-98a7-4ae4-e3eb-e17dddf82c1f"
      },
      "outputs": [
        {
          "name": "stdout",
          "output_type": "stream",
          "text": [
            "\n",
            "\n",
            " ---Random Forest Model---\n"
          ]
        }
      ],
      "source": [
        "# Get predictions\n",
        "print (\"\\n\\n ---Random Forest Model---\")\n",
        "rf_roc_auc = roc_auc_score(y_test, rf.predict(X_test))"
      ]
    },
    {
      "cell_type": "markdown",
      "metadata": {
        "colab_type": "text",
        "id": "cGCUX_ra0E0V"
      },
      "source": [
        "**Precision**"
      ]
    },
    {
      "cell_type": "code",
      "execution_count": null,
      "metadata": {
        "colab": {
          "base_uri": "https://localhost:8080/",
          "height": 34
        },
        "colab_type": "code",
        "id": "h9LWiBfm0E0W",
        "outputId": "f8aa62d1-f866-49ba-c35b-8861473ea0cc"
      },
      "outputs": [
        {
          "name": "stdout",
          "output_type": "stream",
          "text": [
            "Random Forest Model Precision is 0.95\n"
          ]
        }
      ],
      "source": [
        "# Write the code to import the function for calculation of the specific score\n",
        "print (\"Random Forest Model Precision Score is %2.2f\" % precision_score(y_test,rf.predict(X_test)))"
      ]
    },
    {
      "cell_type": "markdown",
      "metadata": {
        "colab_type": "text",
        "id": "mPZNFpwI0E0h"
      },
      "source": [
        "**Accuracy**"
      ]
    },
    {
      "cell_type": "code",
      "execution_count": null,
      "metadata": {
        "colab": {
          "base_uri": "https://localhost:8080/",
          "height": 34
        },
        "colab_type": "code",
        "id": "QiZ6k5ov0E0h",
        "outputId": "ce227a5a-c549-4271-9e6f-8de7423500ae"
      },
      "outputs": [
        {
          "name": "stdout",
          "output_type": "stream",
          "text": [
            "Random Forest Model Accuracy is 0.98\n"
          ]
        }
      ],
      "source": [
        "# Write the code to import the function for calculation of the specific score\n",
        "print (\"Random Forest Model Accuracy Score is %2.2f\" % accuracy_score(y_test,rf.predict(X_test)))"
      ]
    },
    {
      "cell_type": "markdown",
      "metadata": {
        "colab_type": "text",
        "id": "b49hc6Eq0E0u"
      },
      "source": [
        "**Recall**"
      ]
    },
    {
      "cell_type": "code",
      "execution_count": null,
      "metadata": {
        "colab": {
          "base_uri": "https://localhost:8080/",
          "height": 34
        },
        "colab_type": "code",
        "id": "yUFSduJg0E0v",
        "outputId": "9de0c9b5-6cbb-49e4-c67f-107d33217b07"
      },
      "outputs": [
        {
          "name": "stdout",
          "output_type": "stream",
          "text": [
            "Random Forest Model Recall Score is 0.94\n"
          ]
        }
      ],
      "source": [
        "# Write the code to import the function for calculation of the specific score\n",
        "print (\"Random Forest Model Recall Score is %2.2f\" % recall_score(y_test,rf.predict(X_test)))"
      ]
    },
    {
      "cell_type": "markdown",
      "metadata": {
        "colab_type": "text",
        "id": "7RVW2YiL0E08"
      },
      "source": [
        "**F1-Score**"
      ]
    },
    {
      "cell_type": "code",
      "execution_count": null,
      "metadata": {
        "colab": {
          "base_uri": "https://localhost:8080/",
          "height": 34
        },
        "colab_type": "code",
        "id": "7ojRGkrg0E08",
        "outputId": "ec1814e8-d2b1-486a-fc32-75d7828f4fe9"
      },
      "outputs": [
        {
          "name": "stdout",
          "output_type": "stream",
          "text": [
            "Random Forest Model F1-Score is 0.95\n"
          ]
        }
      ],
      "source": [
        "# Write the code to import the function for calculation of the specific score\n",
        "from sklearn.metrics import f1_score\n",
        "print (\"Random Forest Model F1-Score is %2.2f\" % f1_score(y_test,rf.predict(X_test)))"
      ]
    },
    {
      "cell_type": "markdown",
      "metadata": {
        "colab_type": "text",
        "id": "kSz9FqPJ0E1F"
      },
      "source": [
        "**Classification Report**"
      ]
    },
    {
      "cell_type": "code",
      "execution_count": null,
      "metadata": {
        "colab": {
          "base_uri": "https://localhost:8080/",
          "height": 187
        },
        "colab_type": "code",
        "id": "vCBC9gQE0E1G",
        "outputId": "fedb2d90-1894-4a6a-f8f6-1d55e034082b"
      },
      "outputs": [
        {
          "name": "stdout",
          "output_type": "stream",
          "text": [
            "Random Forest AUC = 0.96\n",
            "              precision    recall  f1-score   support\n",
            "\n",
            "           0       0.98      0.98      0.98      3429\n",
            "           1       0.95      0.94      0.95      1071\n",
            "\n",
            "    accuracy                           0.98      4500\n",
            "   macro avg       0.97      0.96      0.97      4500\n",
            "weighted avg       0.98      0.98      0.98      4500\n",
            "\n"
          ]
        }
      ],
      "source": [
        "# Write the code to import the function for calculation of the specific score\n",
        "print (\"Random Forest AUC = %2.2f\" % rf_roc_auc)\n",
        "print(classification_report(y_test, rf.predict(X_test)))"
      ]
    },
    {
      "cell_type": "markdown",
      "metadata": {
        "colab_type": "text",
        "id": "0NjepD-_0E1Q"
      },
      "source": [
        "## Logistic Regression"
      ]
    },
    {
      "cell_type": "code",
      "execution_count": null,
      "metadata": {
        "colab": {
          "base_uri": "https://localhost:8080/",
          "height": 102
        },
        "colab_type": "code",
        "id": "R_ibRs5I0E1V",
        "outputId": "5fc6c8eb-9901-4ca3-8106-20ea59a83574"
      },
      "outputs": [
        {
          "data": {
            "text/plain": [
              "LogisticRegression(C=1, class_weight=None, dual=False, fit_intercept=True,\n",
              "                   intercept_scaling=1, l1_ratio=None, max_iter=100,\n",
              "                   multi_class='auto', n_jobs=None, penalty='l2',\n",
              "                   random_state=100, solver='lbfgs', tol=0.0001, verbose=0,\n",
              "                   warm_start=False)"
            ]
          },
          "execution_count": 72,
          "metadata": {
            "tags": []
          },
          "output_type": "execute_result"
        }
      ],
      "source": [
        "# Create instance and train, random _state=100\n",
        "model = LogisticRegression(penalty='l2', C=1, random_state = 100)\n"
      ]
    },
    {
      "cell_type": "code",
      "execution_count": null,
      "metadata": {
        "colab": {
          "base_uri": "https://localhost:8080/",
          "height": 102
        },
        "colab_type": "code",
        "id": "lrSCGTbA0E1a",
        "outputId": "e47d6e49-87e4-4e77-db23-ab66c055fb2d"
      },
      "outputs": [
        {
          "data": {
            "text/plain": [
              "LogisticRegression(C=1, class_weight=None, dual=False, fit_intercept=True,\n",
              "                   intercept_scaling=1, l1_ratio=None, max_iter=100,\n",
              "                   multi_class='auto', n_jobs=None, penalty='l2',\n",
              "                   random_state=100, solver='lbfgs', tol=0.0001, verbose=0,\n",
              "                   warm_start=False)"
            ]
          },
          "execution_count": 73,
          "metadata": {
            "tags": []
          },
          "output_type": "execute_result"
        }
      ],
      "source": [
        "# get the predictions\n",
        "model.fit(X_train, y_train)"
      ]
    },
    {
      "cell_type": "markdown",
      "metadata": {
        "colab_type": "text",
        "id": "gzuHL7cs0E1k"
      },
      "source": [
        "**Accuracy**"
      ]
    },
    {
      "cell_type": "code",
      "execution_count": null,
      "metadata": {
        "colab": {
          "base_uri": "https://localhost:8080/",
          "height": 34
        },
        "colab_type": "code",
        "id": "DzYQYO_M0E1k",
        "outputId": "d6708e97-301d-4ec9-ca76-6f65c44e0159"
      },
      "outputs": [
        {
          "name": "stdout",
          "output_type": "stream",
          "text": [
            "Logistic accuracy is 0.77\n"
          ]
        }
      ],
      "source": [
        "#Write the code here\n",
        "print (\"Logistic accuracy is %2.2f\" % accuracy_score(y_test, model.predict(X_test)))"
      ]
    },
    {
      "cell_type": "markdown",
      "metadata": {
        "colab_type": "text",
        "id": "tP2TUAof0E1p"
      },
      "source": [
        "**Precision**"
      ]
    },
    {
      "cell_type": "code",
      "execution_count": null,
      "metadata": {
        "colab": {
          "base_uri": "https://localhost:8080/",
          "height": 34
        },
        "colab_type": "code",
        "id": "6WGaVoaq0E1q",
        "outputId": "e99afeb2-0cea-4e54-a051-8d4640a88548"
      },
      "outputs": [
        {
          "name": "stdout",
          "output_type": "stream",
          "text": [
            "Logistic precision is 0.54\n"
          ]
        }
      ],
      "source": [
        "#Write the code here\n",
        "print (\"Logistic precision is %2.2f\" % precision_score(y_test, model.predict(X_test)))"
      ]
    },
    {
      "cell_type": "markdown",
      "metadata": {
        "colab_type": "text",
        "id": "4QMDRogL0E1w"
      },
      "source": [
        "**Recall**"
      ]
    },
    {
      "cell_type": "code",
      "execution_count": null,
      "metadata": {
        "colab": {
          "base_uri": "https://localhost:8080/",
          "height": 34
        },
        "colab_type": "code",
        "id": "47MIn4UH0E1x",
        "outputId": "46358849-6af0-45b5-cd88-fd5d7f8f4d98"
      },
      "outputs": [
        {
          "name": "stdout",
          "output_type": "stream",
          "text": [
            "Logistic recall is 0.26\n"
          ]
        }
      ],
      "source": [
        "#Write the code here\n",
        "print (\"Logistic recall is %2.2f\" % recall_score(y_test, model.predict(X_test)))"
      ]
    },
    {
      "cell_type": "markdown",
      "metadata": {
        "colab_type": "text",
        "id": "4hS_gd9j0E13"
      },
      "source": [
        "**F1 Score**"
      ]
    },
    {
      "cell_type": "code",
      "execution_count": null,
      "metadata": {
        "colab": {
          "base_uri": "https://localhost:8080/",
          "height": 34
        },
        "colab_type": "code",
        "id": "7F8ymiW-0E14",
        "outputId": "afb87ef8-a16b-4065-a024-c072f38274ad"
      },
      "outputs": [
        {
          "name": "stdout",
          "output_type": "stream",
          "text": [
            "Logistic F1-Score is 0.35\n"
          ]
        }
      ],
      "source": [
        "#Write the code here\n",
        "print (\"Logistic F1-Score is %2.2f\" % f1_score(y_test, model.predict(X_test)))"
      ]
    },
    {
      "cell_type": "markdown",
      "metadata": {
        "colab_type": "text",
        "id": "BsxtR-9h0E19"
      },
      "source": [
        "**Classification Report**"
      ]
    },
    {
      "cell_type": "code",
      "execution_count": null,
      "metadata": {
        "colab": {
          "base_uri": "https://localhost:8080/",
          "height": 187
        },
        "colab_type": "code",
        "id": "aoGFjvq00E1-",
        "outputId": "1e88878e-7f4e-43b8-97e5-40da37e0d873"
      },
      "outputs": [
        {
          "name": "stdout",
          "output_type": "stream",
          "text": [
            "Logistic AUC = 0.60\n",
            "              precision    recall  f1-score   support\n",
            "\n",
            "           0       0.80      0.93      0.86      3429\n",
            "           1       0.54      0.26      0.35      1071\n",
            "\n",
            "    accuracy                           0.77      4500\n",
            "   macro avg       0.67      0.60      0.61      4500\n",
            "weighted avg       0.74      0.77      0.74      4500\n",
            "\n"
          ]
        }
      ],
      "source": [
        "#Write the code here\n",
        "logit_roc_auc = roc_auc_score(y_test, model.predict(X_test))\n",
        "print (\"Logistic AUC = %2.2f\" % logit_roc_auc)\n",
        "print(classification_report(y_test, model.predict(X_test)))"
      ]
    },
    {
      "cell_type": "markdown",
      "metadata": {
        "colab_type": "text",
        "id": "BHfEkB4F0E2B"
      },
      "source": [
        "## Ada Boost"
      ]
    },
    {
      "cell_type": "code",
      "execution_count": null,
      "metadata": {
        "colab": {},
        "colab_type": "code",
        "id": "_UvhAQj70E2H"
      },
      "outputs": [],
      "source": [
        "#Write the code here to make an instance and train the model with random state =100\n",
        "ada = AdaBoostClassifier(n_estimators=400, learning_rate=0.1, random_state = 100)\n"
      ]
    },
    {
      "cell_type": "code",
      "execution_count": null,
      "metadata": {
        "colab": {
          "base_uri": "https://localhost:8080/",
          "height": 51
        },
        "colab_type": "code",
        "id": "tgac3wdR0E2L",
        "outputId": "feaf04a4-ea6e-4190-c84a-d0f1b7a19cf8"
      },
      "outputs": [
        {
          "data": {
            "text/plain": [
              "AdaBoostClassifier(algorithm='SAMME.R', base_estimator=None, learning_rate=0.1,\n",
              "                   n_estimators=400, random_state=100)"
            ]
          },
          "execution_count": 93,
          "metadata": {
            "tags": []
          },
          "output_type": "execute_result"
        }
      ],
      "source": [
        "# Get the predictions\n",
        "ada.fit(X_train,y_train)"
      ]
    },
    {
      "cell_type": "markdown",
      "metadata": {
        "colab_type": "text",
        "id": "mHPqbM0l0E2X"
      },
      "source": [
        "**Accuracy**"
      ]
    },
    {
      "cell_type": "code",
      "execution_count": null,
      "metadata": {
        "colab": {
          "base_uri": "https://localhost:8080/",
          "height": 34
        },
        "colab_type": "code",
        "id": "7ZebYinJ0E2X",
        "outputId": "a717a0b5-1f16-402d-d9c5-5d3189feeaca"
      },
      "outputs": [
        {
          "name": "stdout",
          "output_type": "stream",
          "text": [
            "Ada Boost accuracy is 0.94\n"
          ]
        }
      ],
      "source": [
        "#Write code here\n",
        "print (\"Ada Boost accuracy is %2.2f\" % accuracy_score(y_test, ada.predict(X_test)))"
      ]
    },
    {
      "cell_type": "markdown",
      "metadata": {
        "colab_type": "text",
        "id": "b_VNnZhc0E2d"
      },
      "source": [
        "**Precision**"
      ]
    },
    {
      "cell_type": "code",
      "execution_count": null,
      "metadata": {
        "colab": {
          "base_uri": "https://localhost:8080/",
          "height": 34
        },
        "colab_type": "code",
        "id": "dIiGq1LS0E2e",
        "outputId": "b1404678-da9f-4d37-9bd9-074fcf5c809e"
      },
      "outputs": [
        {
          "name": "stdout",
          "output_type": "stream",
          "text": [
            "Ada Boost precision is 0.54\n"
          ]
        }
      ],
      "source": [
        "#Write code here\n",
        "print (\"Ada Boost precision is %2.2f\" % precision_score(y_test, model.predict(X_test)))"
      ]
    },
    {
      "cell_type": "markdown",
      "metadata": {
        "colab_type": "text",
        "id": "GCE3wATn0E2i"
      },
      "source": [
        "**Recall**"
      ]
    },
    {
      "cell_type": "code",
      "execution_count": null,
      "metadata": {
        "colab": {
          "base_uri": "https://localhost:8080/",
          "height": 34
        },
        "colab_type": "code",
        "id": "k2vJSOel0E2j",
        "outputId": "fe493843-8503-433c-c83b-784496a58d9a"
      },
      "outputs": [
        {
          "name": "stdout",
          "output_type": "stream",
          "text": [
            "Ada Boost Recall is 0.26\n"
          ]
        }
      ],
      "source": [
        "#Write code here\n",
        "print (\"Ada Boost Recall is %2.2f\" % recall_score(y_test, model.predict(X_test)))"
      ]
    },
    {
      "cell_type": "markdown",
      "metadata": {
        "colab_type": "text",
        "id": "XaEDHJSB0E2q"
      },
      "source": [
        "**F1-Score**"
      ]
    },
    {
      "cell_type": "code",
      "execution_count": null,
      "metadata": {
        "colab": {
          "base_uri": "https://localhost:8080/",
          "height": 34
        },
        "colab_type": "code",
        "id": "zcgawPu-0E2r",
        "outputId": "eb30a1f3-ca7c-4aa7-9d3e-0f07cfb93cb5"
      },
      "outputs": [
        {
          "name": "stdout",
          "output_type": "stream",
          "text": [
            "Ada Boost F1-Score is 0.35\n"
          ]
        }
      ],
      "source": [
        "#Write code here\n",
        "print (\"Ada Boost F1-Score is %2.2f\" % f1_score(y_test, model.predict(X_test)))"
      ]
    },
    {
      "cell_type": "markdown",
      "metadata": {
        "colab_type": "text",
        "id": "45QaQf7b0E2w"
      },
      "source": [
        "**Classification Report**"
      ]
    },
    {
      "cell_type": "code",
      "execution_count": null,
      "metadata": {
        "colab": {
          "base_uri": "https://localhost:8080/",
          "height": 187
        },
        "colab_type": "code",
        "id": "tC1gALrI0E2x",
        "outputId": "d886b0e5-a09a-4462-ca90-0b56c71c7f11"
      },
      "outputs": [
        {
          "name": "stdout",
          "output_type": "stream",
          "text": [
            "AdaBoost AUC = 0.91\n",
            "              precision    recall  f1-score   support\n",
            "\n",
            "           0       0.95      0.97      0.96      3429\n",
            "           1       0.91      0.85      0.88      1071\n",
            "\n",
            "    accuracy                           0.94      4500\n",
            "   macro avg       0.93      0.91      0.92      4500\n",
            "weighted avg       0.94      0.94      0.94      4500\n",
            "\n"
          ]
        }
      ],
      "source": [
        "#Write code here\n",
        "ada_roc_auc = roc_auc_score(y_test, ada.predict(X_test))\n",
        "print (\"AdaBoost AUC = %2.2f\" % ada_roc_auc)\n",
        "print(classification_report(y_test, ada.predict(X_test)))"
      ]
    },
    {
      "cell_type": "markdown",
      "metadata": {
        "colab_type": "text",
        "id": "3jPwWt7K0E23"
      },
      "source": [
        "## XG Boost"
      ]
    },
    {
      "cell_type": "code",
      "execution_count": null,
      "metadata": {
        "colab": {},
        "colab_type": "code",
        "id": "w-JSHv4w0E23"
      },
      "outputs": [],
      "source": [
        "#Write the code here to import the model\n",
        "import xgboost as xgb"
      ]
    },
    {
      "cell_type": "code",
      "execution_count": null,
      "metadata": {
        "colab": {
          "base_uri": "https://localhost:8080/",
          "height": 136
        },
        "colab_type": "code",
        "id": "jbH8CYBF0E26",
        "outputId": "dbb692ec-839a-453c-b6be-9aec6252e764"
      },
      "outputs": [
        {
          "data": {
            "text/plain": [
              "XGBClassifier(base_score=0.5, booster='gbtree', colsample_bylevel=1,\n",
              "              colsample_bynode=1, colsample_bytree=1, gamma=0,\n",
              "              learning_rate=0.1, max_delta_step=0, max_depth=3,\n",
              "              min_child_weight=1, missing=None, n_estimators=100, n_jobs=1,\n",
              "              nthread=None, objective='binary:logistic', random_state=100,\n",
              "              reg_alpha=0, reg_lambda=1, scale_pos_weight=1, seed=None,\n",
              "              silent=None, subsample=1, verbosity=1)"
            ]
          },
          "execution_count": 95,
          "metadata": {
            "tags": []
          },
          "output_type": "execute_result"
        }
      ],
      "source": [
        "#Write the code here to make an instance and train the model with random state =100\n",
        "xgb_model = xgb.XGBClassifier(objective=\"binary:logistic\", random_state=100)\n",
        "xgb_model.fit(X_train, y_train)\n"
      ]
    },
    {
      "cell_type": "code",
      "execution_count": null,
      "metadata": {
        "colab": {},
        "colab_type": "code",
        "id": "vWOS-7XV0E3D"
      },
      "outputs": [],
      "source": [
        "# Get the predictions\n",
        "pred_clf_xgb= xgb_model.predict(X)"
      ]
    },
    {
      "cell_type": "markdown",
      "metadata": {
        "colab_type": "text",
        "id": "dQ8v_JyC0E3H"
      },
      "source": [
        "**Accuracy**"
      ]
    },
    {
      "cell_type": "code",
      "execution_count": null,
      "metadata": {
        "colab": {
          "base_uri": "https://localhost:8080/",
          "height": 34
        },
        "colab_type": "code",
        "id": "qh8JrgZt0E3I",
        "outputId": "9808ef42-8829-4d03-f07b-f4b20aca7aea"
      },
      "outputs": [
        {
          "name": "stdout",
          "output_type": "stream",
          "text": [
            "XG Boost accuracy is 0.97\n"
          ]
        }
      ],
      "source": [
        "#Write code here\n",
        "print (\"XG Boost accuracy is %2.2f\" % accuracy_score(y_test, xgb_model.predict(X_test)))"
      ]
    },
    {
      "cell_type": "markdown",
      "metadata": {
        "colab_type": "text",
        "id": "rVLgR2iu0E3L"
      },
      "source": [
        "**Precision**"
      ]
    },
    {
      "cell_type": "code",
      "execution_count": null,
      "metadata": {
        "colab": {
          "base_uri": "https://localhost:8080/",
          "height": 34
        },
        "colab_type": "code",
        "id": "IpGczV9-0E3M",
        "outputId": "f1b4d4a5-e216-48bc-8520-9da9f9c61c23"
      },
      "outputs": [
        {
          "name": "stdout",
          "output_type": "stream",
          "text": [
            "XG Boost presicion is 0.94\n"
          ]
        }
      ],
      "source": [
        "#Write code here\n",
        "print (\"XG Boost presicion is %2.2f\" % precision_score(y_test, xgb_model.predict(X_test)))"
      ]
    },
    {
      "cell_type": "markdown",
      "metadata": {
        "colab_type": "text",
        "id": "qzfw2gk00E3Q"
      },
      "source": [
        "**Recall**"
      ]
    },
    {
      "cell_type": "code",
      "execution_count": null,
      "metadata": {
        "colab": {
          "base_uri": "https://localhost:8080/",
          "height": 34
        },
        "colab_type": "code",
        "id": "l_OsDwlw0E3R",
        "outputId": "aa97eb92-cd13-41bf-d665-d5df3af63bd2"
      },
      "outputs": [
        {
          "name": "stdout",
          "output_type": "stream",
          "text": [
            "XG Boost Recall is 0.92\n"
          ]
        }
      ],
      "source": [
        "#Write code here\n",
        "print (\"XG Boost Recall is %2.2f\" % recall_score(y_test, xgb_model.predict(X_test)))"
      ]
    },
    {
      "cell_type": "markdown",
      "metadata": {
        "colab_type": "text",
        "id": "Fjsq-gNH0E3V"
      },
      "source": [
        "**F1-Score**"
      ]
    },
    {
      "cell_type": "code",
      "execution_count": null,
      "metadata": {
        "colab": {
          "base_uri": "https://localhost:8080/",
          "height": 34
        },
        "colab_type": "code",
        "id": "HoTE3kP20E3W",
        "outputId": "27ec5c2a-d398-405e-abc7-7dd5fe6ca682"
      },
      "outputs": [
        {
          "name": "stdout",
          "output_type": "stream",
          "text": [
            "XG Boost F1-Score is 0.93\n"
          ]
        }
      ],
      "source": [
        "#Write code here\n",
        "print (\"XG Boost F1-Score is %2.2f\" % f1_score(y_test, xgb_model.predict(X_test)))"
      ]
    },
    {
      "cell_type": "markdown",
      "metadata": {
        "colab_type": "text",
        "id": "AKsxz_Fo0E3h"
      },
      "source": [
        "**Classification Report**"
      ]
    },
    {
      "cell_type": "code",
      "execution_count": null,
      "metadata": {
        "colab": {
          "base_uri": "https://localhost:8080/",
          "height": 187
        },
        "colab_type": "code",
        "id": "p4TnNmZT0E3i",
        "outputId": "1c98e111-3cc5-49d5-d9fa-6e7d4b29a3ed"
      },
      "outputs": [
        {
          "name": "stdout",
          "output_type": "stream",
          "text": [
            "AdaBoost AUC = 0.95\n",
            "              precision    recall  f1-score   support\n",
            "\n",
            "           0       0.97      0.98      0.98      3429\n",
            "           1       0.94      0.92      0.93      1071\n",
            "\n",
            "    accuracy                           0.97      4500\n",
            "   macro avg       0.96      0.95      0.95      4500\n",
            "weighted avg       0.97      0.97      0.97      4500\n",
            "\n"
          ]
        }
      ],
      "source": [
        "#Write code here\n",
        "xgb_roc_auc = roc_auc_score(y_test, xgb_model.predict(X_test))\n",
        "print (\"AdaBoost AUC = %2.2f\" % xgb_roc_auc)\n",
        "print(classification_report(y_test, xgb_model.predict(X_test)))"
      ]
    },
    {
      "cell_type": "markdown",
      "metadata": {
        "colab_type": "text",
        "id": "x3yttxV70E3m"
      },
      "source": [
        "# Result Comparisons"
      ]
    },
    {
      "cell_type": "markdown",
      "metadata": {
        "colab_type": "text",
        "id": "Ux4xQSIe0E3n"
      },
      "source": [
        "**Task 19: Do the comparison of the above used models as per the scores found.Make a datafram that shows the models and scores for each models.**"
      ]
    },
    {
      "cell_type": "code",
      "execution_count": null,
      "metadata": {
        "colab": {
          "base_uri": "https://localhost:8080/",
          "height": 697
        },
        "colab_type": "code",
        "id": "K2MDxTP50E3n",
        "outputId": "26ae9992-1e43-4ec8-efae-d2b549f56c62"
      },
      "outputs": [
        {
          "name": "stdout",
          "output_type": "stream",
          "text": [
            "Random Forest AUC = 0.96\n",
            "              precision    recall  f1-score   support\n",
            "\n",
            "           0       0.98      0.98      0.98      3429\n",
            "           1       0.95      0.94      0.95      1071\n",
            "\n",
            "    accuracy                           0.98      4500\n",
            "   macro avg       0.97      0.96      0.97      4500\n",
            "weighted avg       0.98      0.98      0.98      4500\n",
            "\n",
            "Logistic AUC = 0.60\n",
            "              precision    recall  f1-score   support\n",
            "\n",
            "           0       0.80      0.93      0.86      3429\n",
            "           1       0.54      0.26      0.35      1071\n",
            "\n",
            "    accuracy                           0.77      4500\n",
            "   macro avg       0.67      0.60      0.61      4500\n",
            "weighted avg       0.74      0.77      0.74      4500\n",
            "\n",
            "AdaBoost AUC = 0.91\n",
            "              precision    recall  f1-score   support\n",
            "\n",
            "           0       0.95      0.97      0.96      3429\n",
            "           1       0.91      0.85      0.88      1071\n",
            "\n",
            "    accuracy                           0.94      4500\n",
            "   macro avg       0.93      0.91      0.92      4500\n",
            "weighted avg       0.94      0.94      0.94      4500\n",
            "\n",
            "AdaBoost AUC = 0.95\n",
            "              precision    recall  f1-score   support\n",
            "\n",
            "           0       0.97      0.98      0.98      3429\n",
            "           1       0.94      0.92      0.93      1071\n",
            "\n",
            "    accuracy                           0.97      4500\n",
            "   macro avg       0.96      0.95      0.95      4500\n",
            "weighted avg       0.97      0.97      0.97      4500\n",
            "\n"
          ]
        }
      ],
      "source": [
        "# Write the code here\n",
        "print (\"Random Forest AUC = %2.2f\" % rf_roc_auc)\n",
        "print(classification_report(y_test, rf.predict(X_test)))\n",
        "\n",
        "print (\"Logistic AUC = %2.2f\" % logit_roc_auc)\n",
        "print(classification_report(y_test, model.predict(X_test)))\n",
        "\n",
        "print (\"AdaBoost AUC = %2.2f\" % ada_roc_auc)\n",
        "print(classification_report(y_test, ada.predict(X_test)))\n",
        "\n",
        "print (\"AdaBoost AUC = %2.2f\" % xgb_roc_auc)\n",
        "print(classification_report(y_test, xgb_model.predict(X_test)))"
      ]
    },
    {
      "cell_type": "code",
      "execution_count": null,
      "metadata": {
        "colab": {
          "base_uri": "https://localhost:8080/",
          "height": 301
        },
        "colab_type": "code",
        "id": "ZsEfE9LR0E31",
        "outputId": "6ea3407d-738c-4f23-9e93-3b22075e99fa"
      },
      "outputs": [
        {
          "data": {
            "image/png": "[encoded data removed]",
            "text/plain": [
              "<Figure size 432x288 with 1 Axes>"
            ]
          },
          "metadata": {
            "tags": []
          },
          "output_type": "display_data"
        }
      ],
      "source": [
        "# Create ROC Graph\n",
        "from sklearn.metrics import roc_curve\n",
        "fpr, tpr, thresholds = roc_curve(y_test, model.predict_proba(X_test)[:,1])\n",
        "rf_fpr, rf_tpr, rf_thresholds = roc_curve(y_test, rf.predict_proba(X_test)[:,1])\n",
        "dt_fpr, dt_tpr, dt_thresholds = roc_curve(y_test, xgb_model.predict_proba(X_test)[:,1])\n",
        "ada_fpr, ada_tpr, ada_thresholds = roc_curve(y_test, ada.predict_proba(X_test)[:,1])\n",
        "\n",
        "plt.figure()\n",
        "\n",
        "# Plot Logistic Regression ROC\n",
        "plt.plot(fpr, tpr, label='Logistic Regression (area = %0.2f)' % logit_roc_auc)\n",
        "\n",
        "# Plot Random Forest ROC\n",
        "plt.plot(rf_fpr, rf_tpr, label='Random Forest (area = %0.2f)' % rf_roc_auc)\n",
        "\n",
        "# Plot AdaBoost ROC\n",
        "plt.plot(ada_fpr, ada_tpr, label='AdaBoost (area = %0.2f)' % ada_roc_auc)\n",
        "\n",
        "# Plot XGBoost ROC\n",
        "plt.plot(dt_fpr, dt_tpr, label='XG Boost (area = %0.2f)' % xgb_roc_auc)\n",
        "\n",
        "\n",
        "plt.xlim([0.0, 1.0])\n",
        "plt.ylim([0.0, 1.05])\n",
        "plt.xlabel('False Positive Rate')\n",
        "plt.ylabel('True Positive Rate')\n",
        "plt.title('ROC Graph')\n",
        "plt.legend(loc=\"lower right\")\n",
        "plt.show()"
      ]
    },
    {
      "cell_type": "markdown",
      "metadata": {
        "colab_type": "text",
        "id": "iBZrRl1U0E3z"
      },
      "source": [
        "**Task 20: Which model has the best score? Do you think that you need to apply any sort of tunning on the model selected. If Yes, then apply it conclude with the final scores of the best model.**"
      ]
    },
    {
      "cell_type": "markdown",
      "metadata": {
        "colab_type": "text",
        "id": "qTcyaxii0E30"
      },
      "source": [
        "Answer: "
      ]
    },
    {
      "cell_type": "code",
      "execution_count": null,
      "metadata": {
        "colab": {},
        "colab_type": "code",
        "id": "0y2VsObB7GsT"
      },
      "outputs": [],
      "source": [
        "The Random Forest has the best score!"
      ]
    }
  ],
  "metadata": {
    "accelerator": "GPU",
    "colab": {
      "collapsed_sections": [
        "X0tItOHY0EtU",
        "kb3OqKDg0EtV",
        "95-2b4A40Eth",
        "rt9aiixl0EuU",
        "kAi_ETWU0EvQ",
        "7CzOEXqc0Evz",
        "dUfb-PDM0EwC",
        "JaWwKZsH0Ewg",
        "Wed4TkoS0Ew5",
        "Gnd4j2zS0Exb",
        "oIK7Y1yT0Ext",
        "yxdyLAy20EzJ",
        "x3yttxV70E3m"
      ],
      "name": "HR Prediction-Tasks.ipynb",
      "provenance": [],
      "toc_visible": true
    },
    "kernelspec": {
      "display_name": "Python 3",
      "language": "python",
      "name": "python3"
    },
    "language_info": {
      "codemirror_mode": {
        "name": "ipython",
        "version": 3
      },
      "file_extension": ".py",
      "mimetype": "text/x-python",
      "name": "python",
      "nbconvert_exporter": "python",
      "pygments_lexer": "ipython3",
      "version": "3.10.2"
    }
  },
  "nbformat": 4,
  "nbformat_minor": 0
}
